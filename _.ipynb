{
  "cells": [
    {
      "cell_type": "markdown",
      "metadata": {
        "id": "view-in-github",
        "colab_type": "text"
      },
      "source": [
        "<a href=\"https://colab.research.google.com/github/Rajat-Yd/Voice_Assistant.repo/blob/main/_.ipynb\" target=\"_parent\"><img src=\"https://colab.research.google.com/assets/colab-badge.svg\" alt=\"Open In Colab\"/></a>"
      ]
    },
    {
      "cell_type": "code",
      "execution_count": null,
      "metadata": {
        "colab": {
          "background_save": true
        },
        "id": "sPW3NkeScSO0"
      },
      "outputs": [],
      "source": [
        "!pip install transformers datasets torch"
      ]
    },
    {
      "cell_type": "code",
      "execution_count": null,
      "metadata": {
        "id": "vgekidPYdLLp"
      },
      "outputs": [],
      "source": [
        "from datasets import load_dataset\n",
        "from transformers import AutoTokenizer, AutoModelForSequenceClassification, Trainer, TrainingArguments\n",
        "\n",
        "# Load a sample dataset (replace 'financial_phrasebank' with your actual dataset)\n",
        "dataset = load_dataset('financial_phrasebank', 'sentences_allagree')\n",
        "\n",
        "# Tokenizer\n",
        "tokenizer = AutoTokenizer.from_pretrained('yiyanghkust/finbert-tone')\n",
        "\n",
        "# Tokenize the dataset\n",
        "def tokenize_function(examples):\n",
        "    return tokenizer(examples['sentence'], padding='max_length', truncation=True)\n",
        "\n",
        "tokenized_dataset = dataset.map(tokenize_function, batched=True)"
      ]
    },
    {
      "cell_type": "code",
      "execution_count": null,
      "metadata": {
        "id": "SaN2Tr0Wdytw"
      },
      "outputs": [],
      "source": [
        "print(tokenized_dataset['train'][0])"
      ]
    },
    {
      "cell_type": "code",
      "execution_count": null,
      "metadata": {
        "colab": {
          "background_save": true
        },
        "id": "ZMWeUFPCgr-v"
      },
      "outputs": [],
      "source": [
        "!pip install yfinance"
      ]
    },
    {
      "cell_type": "code",
      "execution_count": null,
      "metadata": {
        "id": "V3aGGj-Ug1jM"
      },
      "outputs": [],
      "source": [
        "import yfinance as yf\n",
        "import pandas as pd\n",
        "\n",
        "# List of stock tickers\n",
        "tickers = ['AAPL', 'GOOGL', 'MSFT', 'AMZN', 'FB']  # Add more tickers as needed\n",
        "\n",
        "# Download historical market data for multiple stocks\n",
        "data = yf.download(tickers, start='2020-01-01', end='2022-12-31', group_by='ticker')\n",
        "\n",
        "# Save the data to a CSV file\n",
        "data.to_csv('/content/multiple_stocks_data.csv')"
      ]
    },
    {
      "cell_type": "code",
      "execution_count": null,
      "metadata": {
        "id": "-AQdUj0GhIxn"
      },
      "outputs": [],
      "source": [
        "# Load the data from the CSV file to verify\n",
        "df = pd.read_csv('/content/multiple_stocks_data.csv')\n",
        "print(df.head())"
      ]
    },
    {
      "cell_type": "code",
      "execution_count": null,
      "metadata": {
        "id": "QEHfBV7ihN7W"
      },
      "outputs": [],
      "source": [
        "import pandas as pd\n",
        "\n",
        "# Load the data from the CSV file to verify\n",
        "df = pd.read_csv('/content/multiple_stocks_data.csv')\n",
        "print(df.head())\n",
        "print(df.columns)"
      ]
    },
    {
      "cell_type": "code",
      "execution_count": null,
      "metadata": {
        "id": "XoX4Ay4_h1MW"
      },
      "outputs": [],
      "source": [
        "import pandas as pd\n",
        "from datasets import Dataset\n",
        "from transformers import AutoTokenizer\n",
        "\n",
        "# Load the data from the CSV file\n",
        "df = pd.read_csv('/content/multiple_stocks_data.csv')\n",
        "\n",
        "# Ensure there is a text column (dummy text for example)\n",
        "df['Text'] = \"The stock market is performing well today.\"\n",
        "\n",
        "# Convert DataFrame to Dataset\n",
        "dataset = Dataset.from_pandas(df)\n",
        "\n",
        "# Tokenizer\n",
        "tokenizer = AutoTokenizer.from_pretrained('yiyanghkust/finbert-tone')\n",
        "\n",
        "# Tokenize the dataset\n",
        "def tokenize_function(examples):\n",
        "    return tokenizer(examples['Text'], padding='max_length', max_length=512, truncation=True)\n",
        "\n",
        "tokenized_dataset = dataset.map(tokenize_function, batched=True)\n",
        "print(tokenized_dataset)"
      ]
    },
    {
      "cell_type": "code",
      "execution_count": null,
      "metadata": {
        "id": "r5w2b9czi3aW"
      },
      "outputs": [],
      "source": [
        "import pandas as pd\n",
        "from datasets import Dataset\n",
        "from transformers import AutoTokenizer\n",
        "\n",
        "# Load the data from the CSV file\n",
        "df = pd.read_csv('/content/multiple_stocks_data.csv')\n",
        "\n",
        "# Ensure there is a text column (dummy text for example)\n",
        "df['Text'] = \"The stock market is performing well today.\"\n",
        "\n",
        "# Add a dummy label column (0 or 1 for binary classification)\n",
        "df['label'] = 0\n",
        "\n",
        "# Convert DataFrame to Dataset\n",
        "dataset = Dataset.from_pandas(df)\n",
        "\n",
        "# Tokenizer\n",
        "tokenizer = AutoTokenizer.from_pretrained('yiyanghkust/finbert-tone')\n",
        "\n",
        "# Tokenize the dataset\n",
        "def tokenize_function(examples):\n",
        "    return tokenizer(examples['Text'], padding='max_length', max_length=512, truncation=True)\n",
        "\n",
        "tokenized_dataset = dataset.map(tokenize_function, batched=True)\n",
        "\n",
        "# Set format for PyTorch/TensorFlow\n",
        "tokenized_dataset.set_format(type='torch', columns=['input_ids', 'attention_mask', 'label'])"
      ]
    },
    {
      "cell_type": "code",
      "execution_count": null,
      "metadata": {
        "id": "IiMWeK16if3s"
      },
      "outputs": [],
      "source": [
        "from transformers import AutoModelForSequenceClassification, Trainer, TrainingArguments\n",
        "\n",
        "# Load the pre-trained model with ignore_mismatched_sizes=True\n",
        "model = AutoModelForSequenceClassification.from_pretrained('yiyanghkust/finbert-tone', num_labels=2, ignore_mismatched_sizes=True)\n",
        "\n",
        "# Split dataset into train and test\n",
        "train_test_split = tokenized_dataset.train_test_split(test_size=0.2)\n",
        "train_dataset = train_test_split['train']\n",
        "test_dataset = train_test_split['test']\n",
        "\n",
        "# Training arguments\n",
        "training_args = TrainingArguments(\n",
        "    output_dir='./results',\n",
        "    eval_strategy='epoch',  # Update from evaluation_strategy\n",
        "    learning_rate=2e-5,\n",
        "    per_device_train_batch_size=8,\n",
        "    per_device_eval_batch_size=8,\n",
        "    num_train_epochs=1,\n",
        "    weight_decay=0.01,\n",
        ")\n",
        "\n",
        "# Trainer\n",
        "trainer = Trainer(\n",
        "    model=model,\n",
        "    args=training_args,\n",
        "    train_dataset=train_dataset,\n",
        "    eval_dataset=test_dataset,\n",
        ")\n",
        "\n",
        "# Fine-tune the model\n",
        "trainer.train()"
      ]
    },
    {
      "cell_type": "code",
      "execution_count": null,
      "metadata": {
        "colab": {
          "base_uri": "https://localhost:8080/"
        },
        "id": "Ja7qaZIGCSiy",
        "outputId": "ce1b7466-59e9-4ed4-9be3-597e95e3e6e8"
      },
      "outputs": [
        {
          "name": "stdout",
          "output_type": "stream",
          "text": [
            "Model and tokenizer saved successfully.\n"
          ]
        }
      ],
      "source": [
        "# Save the trained model and tokenizer\n",
        "trainer.save_model('./my_trading_model')\n",
        "tokenizer.save_pretrained('./my_trading_model')\n",
        "\n",
        "print(\"Model and tokenizer saved successfully.\")\n"
      ]
    },
    {
      "cell_type": "code",
      "execution_count": null,
      "metadata": {
        "colab": {
          "base_uri": "https://localhost:8080/"
        },
        "id": "iXAkmGrCCaCv",
        "outputId": "cccdeeb8-ab52-4387-d9d7-2ddbdafde398"
      },
      "outputs": [
        {
          "name": "stdout",
          "output_type": "stream",
          "text": [
            "[{'label': 'LABEL_0', 'score': 0.9171234369277954}]\n"
          ]
        }
      ],
      "source": [
        "from transformers import AutoModelForSequenceClassification, AutoTokenizer, pipeline\n",
        "\n",
        "# Load the saved model and tokenizer\n",
        "model = AutoModelForSequenceClassification.from_pretrained('./my_trading_model')\n",
        "tokenizer = AutoTokenizer.from_pretrained('./my_trading_model')\n",
        "\n",
        "# Create a sentiment analysis pipeline\n",
        "sentiment_analysis = pipeline('sentiment-analysis', model=model, tokenizer=tokenizer)\n",
        "\n",
        "# Example interaction\n",
        "response = sentiment_analysis(\"how are you.\")\n",
        "print(response)\n"
      ]
    },
    {
      "cell_type": "code",
      "execution_count": null,
      "metadata": {
        "colab": {
          "base_uri": "https://localhost:8080/",
          "height": 74
        },
        "id": "3LQXzPpPDf5i",
        "outputId": "3a3bcdb9-9e9f-46d3-b936-492a31a7cd35"
      },
      "outputs": [
        {
          "data": {
            "text/html": [
              "\n",
              "    <div>\n",
              "      \n",
              "      <progress value='19' max='19' style='width:300px; height:20px; vertical-align: middle;'></progress>\n",
              "      [19/19 04:12]\n",
              "    </div>\n",
              "    "
            ],
            "text/plain": [
              "<IPython.core.display.HTML object>"
            ]
          },
          "metadata": {},
          "output_type": "display_data"
        },
        {
          "name": "stdout",
          "output_type": "stream",
          "text": [
            "{'eval_loss': 0.00031001531169749796, 'eval_runtime': 276.2895, 'eval_samples_per_second': 0.55, 'eval_steps_per_second': 0.069, 'epoch': 1.0}\n"
          ]
        }
      ],
      "source": [
        "# Evaluate the model\n",
        "results = trainer.evaluate()\n",
        "print(results)\n"
      ]
    },
    {
      "cell_type": "code",
      "execution_count": null,
      "metadata": {
        "colab": {
          "base_uri": "https://localhost:8080/"
        },
        "id": "ahGArzFRGMsT",
        "outputId": "26e75d0c-3aa1-4757-ebdd-495f473b60c6"
      },
      "outputs": [
        {
          "name": "stdout",
          "output_type": "stream",
          "text": [
            "[{'label': 'LABEL_0', 'score': 0.999690055847168}]\n"
          ]
        }
      ],
      "source": [
        "from transformers import pipeline\n",
        "\n",
        "# Load the saved model and tokenizer\n",
        "model = AutoModelForSequenceClassification.from_pretrained('./my_trading_model')\n",
        "tokenizer = AutoTokenizer.from_pretrained('./my_trading_model')\n",
        "\n",
        "# Create a sentiment analysis pipeline\n",
        "sentiment_analysis = pipeline('sentiment-analysis', model=model, tokenizer=tokenizer)\n",
        "\n",
        "# Example interaction\n",
        "response = sentiment_analysis(\"The stock market is performing well today.\")\n",
        "print(response)\n"
      ]
    },
    {
      "cell_type": "code",
      "execution_count": null,
      "metadata": {
        "colab": {
          "base_uri": "https://localhost:8080/"
        },
        "id": "7ad2DwoAGTLJ",
        "outputId": "53e22850-fcb6-41f6-f313-9acf83885273"
      },
      "outputs": [
        {
          "name": "stdout",
          "output_type": "stream",
          "text": [
            "{'code': 0, 'msg': \"Service unavailable from a restricted location according to 'b. Eligibility' in https://www.binance.com/en/terms. Please contact customer service if you believe you received this message in error.\"}\n"
          ]
        }
      ],
      "source": [
        "import requests\n",
        "\n",
        "def get_crypto_data(symbol, interval='1m', limit=100):\n",
        "    url = f'https://api.binance.com/api/v3/klines?symbol={symbol}&interval={interval}&limit={limit}'\n",
        "    response = requests.get(url)\n",
        "    data = response.json()\n",
        "    return data\n",
        "\n",
        "# Example: Fetch data for Bitcoin (BTC)\n",
        "crypto_data = get_crypto_data('BTCUSDT')\n",
        "print(crypto_data)\n"
      ]
    },
    {
      "cell_type": "code",
      "execution_count": null,
      "metadata": {
        "id": "iDQfF-CIHR-U"
      },
      "outputs": [],
      "source": [
        "!pip install gtts\n",
        "!pip install SpeechRecognition\n",
        "!pip install pydub"
      ]
    },
    {
      "cell_type": "code",
      "execution_count": null,
      "metadata": {
        "id": "2SroQhoXH0f3"
      },
      "outputs": [],
      "source": [
        "!apt-get install -y portaudio19-dev\n",
        "!pip install pyaudio\n",
        "!pip install gtts\n",
        "!pip install SpeechRecognition\n",
        "!pip install pydub"
      ]
    },
    {
      "cell_type": "code",
      "execution_count": null,
      "metadata": {
        "id": "PosgJOOcISi_"
      },
      "outputs": [],
      "source": [
        "from google.colab import files\n",
        "uploaded = files.upload()\n",
        "\n",
        "# Assuming the audio file name is 'audio.wav'\n",
        "audio_file = 'audio.wav'"
      ]
    },
    {
      "cell_type": "code",
      "execution_count": null,
      "metadata": {
        "id": "uIjW2fQ0Nq0E"
      },
      "outputs": [],
      "source": [
        "from google.colab import files\n",
        "uploaded = files.upload()\n",
        "\n",
        "# Display the name of the uploaded file\n",
        "for file_name in uploaded.keys():\n",
        "    print(file_name)\n",
        "\n",
        "# Ensure the uploaded file name is assigned correctly\n",
        "audio_file = list(uploaded.keys())[0]\n",
        "print(\"Using audio file: \", audio_file)"
      ]
    },
    {
      "cell_type": "code",
      "execution_count": null,
      "metadata": {
        "colab": {
          "base_uri": "https://localhost:8080/"
        },
        "id": "tC-hp0vgObnU",
        "outputId": "ec76c546-8aff-43d6-b93f-3b38da91574d"
      },
      "outputs": [
        {
          "data": {
            "text/plain": [
              "<_io.BufferedRandom name='converted_audio.wav'>"
            ]
          },
          "execution_count": 21,
          "metadata": {},
          "output_type": "execute_result"
        }
      ],
      "source": [
        "from pydub import AudioSegment\n",
        "\n",
        "# Convert the uploaded audio file to WAV format\n",
        "audio = AudioSegment.from_file(audio_file)\n",
        "wav_file = \"converted_audio.wav\"\n",
        "audio.export(wav_file, format=\"wav\")\n"
      ]
    },
    {
      "cell_type": "code",
      "execution_count": null,
      "metadata": {
        "colab": {
          "base_uri": "https://localhost:8080/",
          "height": 110
        },
        "id": "Ccg82rCvI-NF",
        "outputId": "8c091f41-b273-4ff7-b005-24739fe7daa6"
      },
      "outputs": [
        {
          "name": "stdout",
          "output_type": "stream",
          "text": [
            "User said: does snails smell like old deer lingers\n",
            "[{'label': 'LABEL_0', 'score': 0.8702758550643921}]\n"
          ]
        },
        {
          "data": {
            "text/html": [
              "\n",
              "                <audio  controls=\"controls\" autoplay=\"autoplay\">\n",
              "                    <source src=\"data:audio/mpeg;base64,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\" type=\"audio/mpeg\" />\n",
              "                    Your browser does not support the audio element.\n",
              "                </audio>\n",
              "              "
            ],
            "text/plain": [
              "<IPython.lib.display.Audio object>"
            ]
          },
          "metadata": {},
          "output_type": "display_data"
        }
      ],
      "source": [
        "import speech_recognition as sr\n",
        "from gtts import gTTS\n",
        "from IPython.display import Audio, display\n",
        "from transformers import pipeline, AutoModelForSequenceClassification, AutoTokenizer\n",
        "\n",
        "# Load the saved model and tokenizer\n",
        "model = AutoModelForSequenceClassification.from_pretrained('./my_trading_model')\n",
        "tokenizer = AutoTokenizer.from_pretrained('./my_trading_model')\n",
        "\n",
        "# Create a sentiment analysis pipeline\n",
        "sentiment_analysis = pipeline('sentiment-analysis', model=model, tokenizer=tokenizer)\n",
        "\n",
        "# Initialize the recognizer\n",
        "recognizer = sr.Recognizer()\n",
        "\n",
        "def listen_command(audio_file):\n",
        "    with sr.AudioFile(audio_file) as source:\n",
        "        audio = recognizer.record(source)\n",
        "        try:\n",
        "            command = recognizer.recognize_google(audio)\n",
        "            print(f\"User said: {command}\")\n",
        "            return command\n",
        "        except sr.UnknownValueError:\n",
        "            print(\"Sorry, I did not understand that.\")\n",
        "            return None\n",
        "\n",
        "def speak_response(response_text):\n",
        "    tts = gTTS(text=response_text, lang='en')\n",
        "    tts.save(\"response.mp3\")\n",
        "    display(Audio(\"response.mp3\", autoplay=True))\n",
        "\n",
        "# Example interaction\n",
        "command = listen_command(wav_file)\n",
        "if command:\n",
        "    response = sentiment_analysis(command)\n",
        "    print(response)\n",
        "    speak_response(response[0]['label'])\n"
      ]
    },
    {
      "cell_type": "code",
      "execution_count": null,
      "metadata": {
        "colab": {
          "base_uri": "https://localhost:8080/"
        },
        "id": "S7ubbyj-O9Za",
        "outputId": "4b794ea7-3e7d-4c85-e525-8bcc1bb362d5"
      },
      "outputs": [
        {
          "name": "stdout",
          "output_type": "stream",
          "text": [
            "{'code': 0, 'msg': \"Service unavailable from a restricted location according to 'b. Eligibility' in https://www.binance.com/en/terms. Please contact customer service if you believe you received this message in error.\"}\n"
          ]
        }
      ],
      "source": [
        "import requests\n",
        "\n",
        "def get_crypto_data(symbol, interval='1m', limit=100):\n",
        "    url = f'https://api.binance.com/api/v3/klines?symbol={symbol}&interval={interval}&limit={limit}'\n",
        "    response = requests.get(url)\n",
        "    data = response.json()\n",
        "    return data\n",
        "\n",
        "# Example: Fetch data for Bitcoin (BTC)\n",
        "crypto_data = get_crypto_data('BTCUSDT')\n",
        "print(crypto_data)\n"
      ]
    },
    {
      "cell_type": "code",
      "execution_count": null,
      "metadata": {
        "colab": {
          "base_uri": "https://localhost:8080/"
        },
        "id": "D13VdYjqO-ty",
        "outputId": "dccad2e4-6daf-4972-fe47-c2692a795a68"
      },
      "outputs": [
        {
          "name": "stdout",
          "output_type": "stream",
          "text": [
            "The market is showing an uptrend.\n"
          ]
        }
      ],
      "source": [
        "# Analyze fetched data (example)\n",
        "def analyze_crypto_data(data):\n",
        "    # Placeholder for analysis logic\n",
        "    analysis_result = \"The market is showing an uptrend.\"\n",
        "    return analysis_result\n",
        "\n",
        "# Fetch and analyze data for Bitcoin\n",
        "crypto_data = get_crypto_data('BTCUSDT')\n",
        "analysis_result = analyze_crypto_data(crypto_data)\n",
        "print(analysis_result)\n"
      ]
    },
    {
      "cell_type": "code",
      "execution_count": null,
      "metadata": {
        "id": "8-fW3He5PBGZ"
      },
      "outputs": [],
      "source": [
        "import speech_recognition as sr\n",
        "from gtts import gTTS\n",
        "from IPython.display import Audio, display\n",
        "from transformers import pipeline, AutoModelForSequenceClassification, AutoTokenizer\n",
        "\n",
        "# Load the saved model and tokenizer\n",
        "model = AutoModelForSequenceClassification.from_pretrained('./my_trading_model')\n",
        "tokenizer = AutoTokenizer.from_pretrained('./my_trading_model')\n",
        "\n",
        "# Create a sentiment analysis pipeline\n",
        "sentiment_analysis = pipeline('sentiment-analysis', model=model, tokenizer=tokenizer)\n",
        "\n",
        "# Initialize the recognizer\n",
        "recognizer = sr.Recognizer()\n",
        "\n",
        "def listen_command(audio_file):\n",
        "    with sr.AudioFile(audio_file) as source:\n",
        "        audio = recognizer.record(source)\n",
        "        try:\n",
        "            command = recognizer.recognize_google(audio)\n",
        "            print(f\"User said: {command}\")\n",
        "            return command\n",
        "        except sr.UnknownValueError:\n",
        "            print(\"Sorry, I did not understand that.\")\n",
        "            return None\n",
        "\n",
        "def speak_response(response_text):\n",
        "    tts = gTTS(text=response_text, lang='en')\n",
        "    tts.save(\"response.mp3\")\n",
        "    display(Audio(\"response.mp3\", autoplay=True))\n",
        "\n",
        "def get_crypto_data(symbol, interval='1m', limit=100):\n",
        "    url = f'https://api.binance.com/api/v3/klines?symbol={symbol}&interval={interval}&limit={limit}'\n",
        "    response = requests.get(url)\n",
        "    data = response.json()\n",
        "    return data\n",
        "\n",
        "def analyze_crypto_data(data):\n",
        "    # Placeholder for analysis logic\n",
        "    analysis_result = \"The market is showing an uptrend.\"\n",
        "    return analysis_result\n",
        "\n",
        "# Example interaction\n",
        "command = listen_command('converted_audio.wav')\n",
        "if command:\n",
        "    response = sentiment_analysis(command)\n",
        "    print(response)\n",
        "    analysis_result = analyze_crypto_data(get_crypto_data('BTCUSDT'))\n",
        "    full_response = analysis_result\n",
        "    print(full_response)\n",
        "    speak_response(full_response)"
      ]
    },
    {
      "cell_type": "code",
      "execution_count": null,
      "metadata": {
        "colab": {
          "base_uri": "https://localhost:8080/"
        },
        "id": "UIigcsJIPPRt",
        "outputId": "8a4e8448-3f53-4ea7-940c-021f7b3596e6"
      },
      "outputs": [
        {
          "name": "stdout",
          "output_type": "stream",
          "text": [
            "Requirement already satisfied: plotly in /usr/local/lib/python3.10/dist-packages (5.15.0)\n",
            "Requirement already satisfied: tenacity>=6.2.0 in /usr/local/lib/python3.10/dist-packages (from plotly) (8.3.0)\n",
            "Requirement already satisfied: packaging in /usr/local/lib/python3.10/dist-packages (from plotly) (24.0)\n"
          ]
        }
      ],
      "source": [
        "!pip install plotly\n"
      ]
    },
    {
      "cell_type": "code",
      "execution_count": null,
      "metadata": {
        "id": "vARwJYs8PTnk"
      },
      "outputs": [],
      "source": [
        "import plotly.graph_objects as go\n",
        "import pandas as pd\n",
        "\n",
        "def plot_crypto_chart(data):\n",
        "    df = pd.DataFrame(data, columns=['timestamp', 'open', 'high', 'low', 'close', 'volume', 'close_time', 'quote_asset_volume', 'number_of_trades', 'taker_buy_base_asset_volume', 'taker_buy_quote_asset_volume', 'ignore'])\n",
        "    df['timestamp'] = pd.to_datetime(df['timestamp'], unit='ms')\n",
        "\n",
        "    fig = go.Figure(data=[go.Candlestick(x=df['timestamp'],\n",
        "                                         open=df['open'],\n",
        "                                         high=df['high'],\n",
        "                                         low=df['low'],\n",
        "                                         close=df['close'])])\n",
        "    fig.update_layout(title='Cryptocurrency Price Chart', xaxis_title='Time', yaxis_title='Price')\n",
        "    fig.show()\n",
        "\n",
        "# Fetch and plot data for Bitcoin\n",
        "crypto_data = get_crypto_data('BTCUSDT')\n",
        "plot_crypto_chart(crypto_data)"
      ]
    },
    {
      "cell_type": "code",
      "execution_count": null,
      "metadata": {
        "id": "ZAtYXmWiPYPM"
      },
      "outputs": [],
      "source": [
        "def speak_response(response_text):\n",
        "    tts = gTTS(text=response_text, lang='en')\n",
        "    tts.save(\"response.mp3\")\n",
        "    display(Audio(\"response.mp3\", autoplay=True))\n",
        "\n",
        "# Example interaction\n",
        "command = listen_command('converted_audio.wav')\n",
        "if command:\n",
        "    response = sentiment_analysis(command)\n",
        "    print(response)\n",
        "    analysis_result = analyze_crypto_data(get_crypto_data('BTCUSDT'))\n",
        "    full_response = f\"Sentiment: {response[0]['label']}. Analysis: {analysis_result}\"\n",
        "    print(full_response)\n",
        "    speak_response(full_response)"
      ]
    },
    {
      "cell_type": "code",
      "execution_count": null,
      "metadata": {
        "id": "xcGv67EgPfVM"
      },
      "outputs": [],
      "source": [
        "def execute_trade(action, symbol, quantity):\n",
        "    # Mock trading function\n",
        "    print(f\"Executing {action} order for {quantity} of {symbol}\")\n",
        "\n",
        "# Example interaction\n",
        "command = listen_command('converted_audio.wav')\n",
        "if command:\n",
        "    response = sentiment_analysis(command)\n",
        "    print(response)\n",
        "    analysis_result = analyze_crypto_data(get_crypto_data('BTCUSDT'))\n",
        "    full_response = f\"Sentiment: {response[0]['label']}. Analysis: {analysis_result}\"\n",
        "    print(full_response)\n",
        "    speak_response(full_response)\n",
        "\n",
        "    # Example trading action\n",
        "    if \"buy\" in command.lower():\n",
        "        execute_trade(\"buy\", \"BTCUSDT\", 1)\n",
        "    elif \"sell\" in command.lower():\n",
        "        execute_trade(\"sell\", \"BTCUSDT\", 1)"
      ]
    },
    {
      "cell_type": "code",
      "execution_count": null,
      "metadata": {
        "id": "5kaZincKTBd8"
      },
      "outputs": [],
      "source": [
        "!pip install transformers datasets gtts SpeechRecognition pydub flask"
      ]
    },
    {
      "cell_type": "code",
      "execution_count": null,
      "metadata": {
        "colab": {
          "base_uri": "https://localhost:8080/",
          "height": 81,
          "referenced_widgets": [
            "a09360f22799488993b929da8840a1d0",
            "68b6f0d6f76b4afdb66f81846ad0f4fa",
            "ec3ae4da27564e0495350da7756a0c3e",
            "b4f1a998a7eb4774a9218bcd32fe8a45",
            "57e24705de864fef80cc3b200ca4d849",
            "5b7930c8dfd24c728778bd4642426f9a",
            "1ff3766a21404310b51fd471f3effd8a",
            "d98c7bec6f2447babbee855b88af9d0f",
            "8a8d75c1d086488fbd680e9f56b7d1ec",
            "6e08bf56b8794caeaa54b3cbb73077ae",
            "6071db0bc23a467eb6ec45194a486cf0",
            "18d6d0594bb64575971ce7468a375a39",
            "2c273174eafe448d95e12233cd148b90",
            "b0c20556838a4c0598bf7d61eabf403a",
            "d81d223643f34c499adcc25bd634d2a9",
            "c290129e3a894d3d8c4141d46850f9a8",
            "2c96fb1bcec14b91a12ef54f57d502d4",
            "51289916ceaa4f1485d3179b2fd7620a",
            "a82524dd551c4b129a91c3ae0fae2a9a",
            "3579226394804d87afe8cb1412e9b15b",
            "b44fd3b1fec348dc831da4ed26f695c2",
            "3f939e8a11e84ae4bb625402ef07839f"
          ]
        },
        "id": "6ekOMH7dTFVx",
        "outputId": "dc3d98ec-3895-44a3-81fd-f959569cd907"
      },
      "outputs": [
        {
          "data": {
            "application/vnd.jupyter.widget-view+json": {
              "model_id": "a09360f22799488993b929da8840a1d0",
              "version_major": 2,
              "version_minor": 0
            },
            "text/plain": [
              "config.json:   0%|          | 0.00/1.46k [00:00<?, ?B/s]"
            ]
          },
          "metadata": {},
          "output_type": "display_data"
        },
        {
          "data": {
            "application/vnd.jupyter.widget-view+json": {
              "model_id": "18d6d0594bb64575971ce7468a375a39",
              "version_major": 2,
              "version_minor": 0
            },
            "text/plain": [
              "model.safetensors:   0%|          | 0.00/10.7G [00:00<?, ?B/s]"
            ]
          },
          "metadata": {},
          "output_type": "display_data"
        }
      ],
      "source": [
        "import torch\n",
        "from transformers import GPTNeoForCausalLM, GPT2Tokenizer, AutoModelForSequenceClassification, AutoTokenizer, pipeline\n",
        "import requests\n",
        "import speech_recognition as sr\n",
        "from gtts import gTTS\n",
        "from pydub import AudioSegment\n",
        "import os\n",
        "import pandas as pd\n",
        "import plotly.graph_objects as go\n",
        "\n",
        "# Load GPT-Neo model and tokenizer\n",
        "gpt_neo_model = GPTNeoForCausalLM.from_pretrained('EleutherAI/gpt-neo-2.7B')\n",
        "gpt_neo_tokenizer = GPT2Tokenizer.from_pretrained('EleutherAI/gpt-neo-2.7B')\n",
        "\n",
        "# Load FinBERT model and tokenizer\n",
        "finbert_model = AutoModelForSequenceClassification.from_pretrained('yiyanghkust/finbert-tone')\n",
        "finbert_tokenizer = AutoTokenizer.from_pretrained('yiyanghkust/finbert-tone')\n",
        "\n",
        "# Initialize the sentiment analysis pipeline\n",
        "sentiment_analysis = pipeline('sentiment-analysis', model=finbert_model, tokenizer=finbert_tokenizer)\n",
        "\n",
        "recognizer = sr.Recognizer()\n",
        "\n",
        "def generate_response(prompt):\n",
        "    inputs = gpt_neo_tokenizer(prompt, return_tensors=\"pt\")\n",
        "    outputs = gpt_neo_model.generate(inputs.input_ids, max_length=150)\n",
        "    response = gpt_neo_tokenizer.decode(outputs[0], skip_special_tokens=True)\n",
        "    return response\n",
        "\n",
        "def transcribe_audio(audio_path):\n",
        "    with sr.AudioFile(audio_path) as source:\n",
        "        audio = recognizer.record(source)\n",
        "        command = recognizer.recognize_google(audio)\n",
        "        return command\n",
        "\n",
        "def synthesize_speech(text):\n",
        "    tts = gTTS(text=text, lang='en')\n",
        "    tts.save(\"response.mp3\")\n",
        "    sound = AudioSegment.from_mp3(\"response.mp3\")\n",
        "    sound.export(\"response.wav\", format=\"wav\")\n",
        "    return \"response.wav\"\n",
        "\n",
        "def analyze_sentiment(text):\n",
        "    return sentiment_analysis(text)\n",
        "\n",
        "def get_crypto_data(symbol, interval='1m', limit=100):\n",
        "    url = f'https://api.binance.com/api/v3/klines?symbol={symbol}&interval={interval}&limit={limit}'\n",
        "    response = requests.get(url)\n",
        "    data = response.json()\n",
        "    return data\n",
        "\n",
        "def plot_crypto_chart(data):\n",
        "    df = pd.DataFrame(data, columns=['timestamp', 'open', 'high', 'low', 'close', 'volume', 'close_time', 'quote_asset_volume', 'number_of_trades', 'taker_buy_base_asset_volume', 'taker_buy_quote_asset_volume', 'ignore'])\n",
        "    df['timestamp'] = pd.to_datetime(df['timestamp'], unit='ms')\n",
        "\n",
        "    fig = go.Figure(data=[go.Candlestick(x=df['timestamp'],\n",
        "                                         open=df['open'],\n",
        "                                         high=df['high'],\n",
        "                                         low=df['low'],\n",
        "                                         close=df['close'])])\n",
        "    fig.update_layout(title='Cryptocurrency Price Chart', xaxis_title='Time', yaxis_title='Price')\n",
        "    fig.show()\n",
        "\n",
        "def process_audio_command(audio_path):\n",
        "    command = transcribe_audio(audio_path)\n",
        "    print(f\"User said: {command}\")\n",
        "\n",
        "    # Analyze sentiment using FinBERT\n",
        "    sentiment_result = analyze_sentiment(command)\n",
        "    sentiment_label = sentiment_result[0]['label']\n",
        "    print(f\"Sentiment: {sentiment_label}\")\n",
        "\n",
        "    # Generate response using GPT-Neo\n",
        "    response_text = generate_response(f\"User said: {command}. Sentiment analysis shows: {sentiment_label}.\")\n",
        "    print(f\"Response: {response_text}\")\n",
        "\n",
        "    # Synthesize speech from the response text\n",
        "    audio_response_path = synthesize_speech(response_text)\n",
        "    return audio_response_path, response_text\n"
      ]
    },
    {
      "cell_type": "code",
      "execution_count": null,
      "metadata": {
        "id": "qYa1b7fMTfDN"
      },
      "outputs": [],
      "source": [
        "from flask import Flask, request, jsonify\n",
        "\n",
        "app = Flask(__name__)\n",
        "\n",
        "@app.route('/listen', methods=['POST'])\n",
        "def listen_command():\n",
        "    audio_file = request.files['file']\n",
        "    audio_path = \"temp_audio.wav\"\n",
        "    audio_file.save(audio_path)\n",
        "\n",
        "    audio_response_path, response_text = process_audio_command(audio_path)\n",
        "    return jsonify({'response': response_text, 'audio': audio_response_path})\n",
        "\n",
        "if __name__ == '__main__':\n",
        "    app.run()\n"
      ]
    }
  ],
  "metadata": {
    "colab": {
      "provenance": [],
      "include_colab_link": true
    },
    "kernelspec": {
      "display_name": "Python 3",
      "name": "python3"
    },
    "language_info": {
      "name": "python"
    },
    "widgets": {
      "application/vnd.jupyter.widget-state+json": {
        "18d6d0594bb64575971ce7468a375a39": {
          "model_module": "@jupyter-widgets/controls",
          "model_module_version": "1.5.0",
          "model_name": "HBoxModel",
          "state": {
            "_dom_classes": [],
            "_model_module": "@jupyter-widgets/controls",
            "_model_module_version": "1.5.0",
            "_model_name": "HBoxModel",
            "_view_count": null,
            "_view_module": "@jupyter-widgets/controls",
            "_view_module_version": "1.5.0",
            "_view_name": "HBoxView",
            "box_style": "",
            "children": [
              "IPY_MODEL_2c273174eafe448d95e12233cd148b90",
              "IPY_MODEL_b0c20556838a4c0598bf7d61eabf403a",
              "IPY_MODEL_d81d223643f34c499adcc25bd634d2a9"
            ],
            "layout": "IPY_MODEL_c290129e3a894d3d8c4141d46850f9a8"
          }
        },
        "1ff3766a21404310b51fd471f3effd8a": {
          "model_module": "@jupyter-widgets/controls",
          "model_module_version": "1.5.0",
          "model_name": "DescriptionStyleModel",
          "state": {
            "_model_module": "@jupyter-widgets/controls",
            "_model_module_version": "1.5.0",
            "_model_name": "DescriptionStyleModel",
            "_view_count": null,
            "_view_module": "@jupyter-widgets/base",
            "_view_module_version": "1.2.0",
            "_view_name": "StyleView",
            "description_width": ""
          }
        },
        "2c273174eafe448d95e12233cd148b90": {
          "model_module": "@jupyter-widgets/controls",
          "model_module_version": "1.5.0",
          "model_name": "HTMLModel",
          "state": {
            "_dom_classes": [],
            "_model_module": "@jupyter-widgets/controls",
            "_model_module_version": "1.5.0",
            "_model_name": "HTMLModel",
            "_view_count": null,
            "_view_module": "@jupyter-widgets/controls",
            "_view_module_version": "1.5.0",
            "_view_name": "HTMLView",
            "description": "",
            "description_tooltip": null,
            "layout": "IPY_MODEL_2c96fb1bcec14b91a12ef54f57d502d4",
            "placeholder": "​",
            "style": "IPY_MODEL_51289916ceaa4f1485d3179b2fd7620a",
            "value": "model.safetensors:  92%"
          }
        },
        "2c96fb1bcec14b91a12ef54f57d502d4": {
          "model_module": "@jupyter-widgets/base",
          "model_module_version": "1.2.0",
          "model_name": "LayoutModel",
          "state": {
            "_model_module": "@jupyter-widgets/base",
            "_model_module_version": "1.2.0",
            "_model_name": "LayoutModel",
            "_view_count": null,
            "_view_module": "@jupyter-widgets/base",
            "_view_module_version": "1.2.0",
            "_view_name": "LayoutView",
            "align_content": null,
            "align_items": null,
            "align_self": null,
            "border": null,
            "bottom": null,
            "display": null,
            "flex": null,
            "flex_flow": null,
            "grid_area": null,
            "grid_auto_columns": null,
            "grid_auto_flow": null,
            "grid_auto_rows": null,
            "grid_column": null,
            "grid_gap": null,
            "grid_row": null,
            "grid_template_areas": null,
            "grid_template_columns": null,
            "grid_template_rows": null,
            "height": null,
            "justify_content": null,
            "justify_items": null,
            "left": null,
            "margin": null,
            "max_height": null,
            "max_width": null,
            "min_height": null,
            "min_width": null,
            "object_fit": null,
            "object_position": null,
            "order": null,
            "overflow": null,
            "overflow_x": null,
            "overflow_y": null,
            "padding": null,
            "right": null,
            "top": null,
            "visibility": null,
            "width": null
          }
        },
        "3579226394804d87afe8cb1412e9b15b": {
          "model_module": "@jupyter-widgets/controls",
          "model_module_version": "1.5.0",
          "model_name": "ProgressStyleModel",
          "state": {
            "_model_module": "@jupyter-widgets/controls",
            "_model_module_version": "1.5.0",
            "_model_name": "ProgressStyleModel",
            "_view_count": null,
            "_view_module": "@jupyter-widgets/base",
            "_view_module_version": "1.2.0",
            "_view_name": "StyleView",
            "bar_color": null,
            "description_width": ""
          }
        },
        "3f939e8a11e84ae4bb625402ef07839f": {
          "model_module": "@jupyter-widgets/controls",
          "model_module_version": "1.5.0",
          "model_name": "DescriptionStyleModel",
          "state": {
            "_model_module": "@jupyter-widgets/controls",
            "_model_module_version": "1.5.0",
            "_model_name": "DescriptionStyleModel",
            "_view_count": null,
            "_view_module": "@jupyter-widgets/base",
            "_view_module_version": "1.2.0",
            "_view_name": "StyleView",
            "description_width": ""
          }
        },
        "51289916ceaa4f1485d3179b2fd7620a": {
          "model_module": "@jupyter-widgets/controls",
          "model_module_version": "1.5.0",
          "model_name": "DescriptionStyleModel",
          "state": {
            "_model_module": "@jupyter-widgets/controls",
            "_model_module_version": "1.5.0",
            "_model_name": "DescriptionStyleModel",
            "_view_count": null,
            "_view_module": "@jupyter-widgets/base",
            "_view_module_version": "1.2.0",
            "_view_name": "StyleView",
            "description_width": ""
          }
        },
        "57e24705de864fef80cc3b200ca4d849": {
          "model_module": "@jupyter-widgets/base",
          "model_module_version": "1.2.0",
          "model_name": "LayoutModel",
          "state": {
            "_model_module": "@jupyter-widgets/base",
            "_model_module_version": "1.2.0",
            "_model_name": "LayoutModel",
            "_view_count": null,
            "_view_module": "@jupyter-widgets/base",
            "_view_module_version": "1.2.0",
            "_view_name": "LayoutView",
            "align_content": null,
            "align_items": null,
            "align_self": null,
            "border": null,
            "bottom": null,
            "display": null,
            "flex": null,
            "flex_flow": null,
            "grid_area": null,
            "grid_auto_columns": null,
            "grid_auto_flow": null,
            "grid_auto_rows": null,
            "grid_column": null,
            "grid_gap": null,
            "grid_row": null,
            "grid_template_areas": null,
            "grid_template_columns": null,
            "grid_template_rows": null,
            "height": null,
            "justify_content": null,
            "justify_items": null,
            "left": null,
            "margin": null,
            "max_height": null,
            "max_width": null,
            "min_height": null,
            "min_width": null,
            "object_fit": null,
            "object_position": null,
            "order": null,
            "overflow": null,
            "overflow_x": null,
            "overflow_y": null,
            "padding": null,
            "right": null,
            "top": null,
            "visibility": null,
            "width": null
          }
        },
        "5b7930c8dfd24c728778bd4642426f9a": {
          "model_module": "@jupyter-widgets/base",
          "model_module_version": "1.2.0",
          "model_name": "LayoutModel",
          "state": {
            "_model_module": "@jupyter-widgets/base",
            "_model_module_version": "1.2.0",
            "_model_name": "LayoutModel",
            "_view_count": null,
            "_view_module": "@jupyter-widgets/base",
            "_view_module_version": "1.2.0",
            "_view_name": "LayoutView",
            "align_content": null,
            "align_items": null,
            "align_self": null,
            "border": null,
            "bottom": null,
            "display": null,
            "flex": null,
            "flex_flow": null,
            "grid_area": null,
            "grid_auto_columns": null,
            "grid_auto_flow": null,
            "grid_auto_rows": null,
            "grid_column": null,
            "grid_gap": null,
            "grid_row": null,
            "grid_template_areas": null,
            "grid_template_columns": null,
            "grid_template_rows": null,
            "height": null,
            "justify_content": null,
            "justify_items": null,
            "left": null,
            "margin": null,
            "max_height": null,
            "max_width": null,
            "min_height": null,
            "min_width": null,
            "object_fit": null,
            "object_position": null,
            "order": null,
            "overflow": null,
            "overflow_x": null,
            "overflow_y": null,
            "padding": null,
            "right": null,
            "top": null,
            "visibility": null,
            "width": null
          }
        },
        "6071db0bc23a467eb6ec45194a486cf0": {
          "model_module": "@jupyter-widgets/controls",
          "model_module_version": "1.5.0",
          "model_name": "DescriptionStyleModel",
          "state": {
            "_model_module": "@jupyter-widgets/controls",
            "_model_module_version": "1.5.0",
            "_model_name": "DescriptionStyleModel",
            "_view_count": null,
            "_view_module": "@jupyter-widgets/base",
            "_view_module_version": "1.2.0",
            "_view_name": "StyleView",
            "description_width": ""
          }
        },
        "68b6f0d6f76b4afdb66f81846ad0f4fa": {
          "model_module": "@jupyter-widgets/controls",
          "model_module_version": "1.5.0",
          "model_name": "HTMLModel",
          "state": {
            "_dom_classes": [],
            "_model_module": "@jupyter-widgets/controls",
            "_model_module_version": "1.5.0",
            "_model_name": "HTMLModel",
            "_view_count": null,
            "_view_module": "@jupyter-widgets/controls",
            "_view_module_version": "1.5.0",
            "_view_name": "HTMLView",
            "description": "",
            "description_tooltip": null,
            "layout": "IPY_MODEL_5b7930c8dfd24c728778bd4642426f9a",
            "placeholder": "​",
            "style": "IPY_MODEL_1ff3766a21404310b51fd471f3effd8a",
            "value": "config.json: 100%"
          }
        },
        "6e08bf56b8794caeaa54b3cbb73077ae": {
          "model_module": "@jupyter-widgets/base",
          "model_module_version": "1.2.0",
          "model_name": "LayoutModel",
          "state": {
            "_model_module": "@jupyter-widgets/base",
            "_model_module_version": "1.2.0",
            "_model_name": "LayoutModel",
            "_view_count": null,
            "_view_module": "@jupyter-widgets/base",
            "_view_module_version": "1.2.0",
            "_view_name": "LayoutView",
            "align_content": null,
            "align_items": null,
            "align_self": null,
            "border": null,
            "bottom": null,
            "display": null,
            "flex": null,
            "flex_flow": null,
            "grid_area": null,
            "grid_auto_columns": null,
            "grid_auto_flow": null,
            "grid_auto_rows": null,
            "grid_column": null,
            "grid_gap": null,
            "grid_row": null,
            "grid_template_areas": null,
            "grid_template_columns": null,
            "grid_template_rows": null,
            "height": null,
            "justify_content": null,
            "justify_items": null,
            "left": null,
            "margin": null,
            "max_height": null,
            "max_width": null,
            "min_height": null,
            "min_width": null,
            "object_fit": null,
            "object_position": null,
            "order": null,
            "overflow": null,
            "overflow_x": null,
            "overflow_y": null,
            "padding": null,
            "right": null,
            "top": null,
            "visibility": null,
            "width": null
          }
        },
        "8a8d75c1d086488fbd680e9f56b7d1ec": {
          "model_module": "@jupyter-widgets/controls",
          "model_module_version": "1.5.0",
          "model_name": "ProgressStyleModel",
          "state": {
            "_model_module": "@jupyter-widgets/controls",
            "_model_module_version": "1.5.0",
            "_model_name": "ProgressStyleModel",
            "_view_count": null,
            "_view_module": "@jupyter-widgets/base",
            "_view_module_version": "1.2.0",
            "_view_name": "StyleView",
            "bar_color": null,
            "description_width": ""
          }
        },
        "a09360f22799488993b929da8840a1d0": {
          "model_module": "@jupyter-widgets/controls",
          "model_module_version": "1.5.0",
          "model_name": "HBoxModel",
          "state": {
            "_dom_classes": [],
            "_model_module": "@jupyter-widgets/controls",
            "_model_module_version": "1.5.0",
            "_model_name": "HBoxModel",
            "_view_count": null,
            "_view_module": "@jupyter-widgets/controls",
            "_view_module_version": "1.5.0",
            "_view_name": "HBoxView",
            "box_style": "",
            "children": [
              "IPY_MODEL_68b6f0d6f76b4afdb66f81846ad0f4fa",
              "IPY_MODEL_ec3ae4da27564e0495350da7756a0c3e",
              "IPY_MODEL_b4f1a998a7eb4774a9218bcd32fe8a45"
            ],
            "layout": "IPY_MODEL_57e24705de864fef80cc3b200ca4d849"
          }
        },
        "a82524dd551c4b129a91c3ae0fae2a9a": {
          "model_module": "@jupyter-widgets/base",
          "model_module_version": "1.2.0",
          "model_name": "LayoutModel",
          "state": {
            "_model_module": "@jupyter-widgets/base",
            "_model_module_version": "1.2.0",
            "_model_name": "LayoutModel",
            "_view_count": null,
            "_view_module": "@jupyter-widgets/base",
            "_view_module_version": "1.2.0",
            "_view_name": "LayoutView",
            "align_content": null,
            "align_items": null,
            "align_self": null,
            "border": null,
            "bottom": null,
            "display": null,
            "flex": null,
            "flex_flow": null,
            "grid_area": null,
            "grid_auto_columns": null,
            "grid_auto_flow": null,
            "grid_auto_rows": null,
            "grid_column": null,
            "grid_gap": null,
            "grid_row": null,
            "grid_template_areas": null,
            "grid_template_columns": null,
            "grid_template_rows": null,
            "height": null,
            "justify_content": null,
            "justify_items": null,
            "left": null,
            "margin": null,
            "max_height": null,
            "max_width": null,
            "min_height": null,
            "min_width": null,
            "object_fit": null,
            "object_position": null,
            "order": null,
            "overflow": null,
            "overflow_x": null,
            "overflow_y": null,
            "padding": null,
            "right": null,
            "top": null,
            "visibility": null,
            "width": null
          }
        },
        "b0c20556838a4c0598bf7d61eabf403a": {
          "model_module": "@jupyter-widgets/controls",
          "model_module_version": "1.5.0",
          "model_name": "FloatProgressModel",
          "state": {
            "_dom_classes": [],
            "_model_module": "@jupyter-widgets/controls",
            "_model_module_version": "1.5.0",
            "_model_name": "FloatProgressModel",
            "_view_count": null,
            "_view_module": "@jupyter-widgets/controls",
            "_view_module_version": "1.5.0",
            "_view_name": "ProgressView",
            "bar_style": "success",
            "description": "",
            "description_tooltip": null,
            "layout": "IPY_MODEL_a82524dd551c4b129a91c3ae0fae2a9a",
            "max": 10672390984,
            "min": 0,
            "orientation": "horizontal",
            "style": "IPY_MODEL_3579226394804d87afe8cb1412e9b15b",
            "value": 10672390984
          }
        },
        "b44fd3b1fec348dc831da4ed26f695c2": {
          "model_module": "@jupyter-widgets/base",
          "model_module_version": "1.2.0",
          "model_name": "LayoutModel",
          "state": {
            "_model_module": "@jupyter-widgets/base",
            "_model_module_version": "1.2.0",
            "_model_name": "LayoutModel",
            "_view_count": null,
            "_view_module": "@jupyter-widgets/base",
            "_view_module_version": "1.2.0",
            "_view_name": "LayoutView",
            "align_content": null,
            "align_items": null,
            "align_self": null,
            "border": null,
            "bottom": null,
            "display": null,
            "flex": null,
            "flex_flow": null,
            "grid_area": null,
            "grid_auto_columns": null,
            "grid_auto_flow": null,
            "grid_auto_rows": null,
            "grid_column": null,
            "grid_gap": null,
            "grid_row": null,
            "grid_template_areas": null,
            "grid_template_columns": null,
            "grid_template_rows": null,
            "height": null,
            "justify_content": null,
            "justify_items": null,
            "left": null,
            "margin": null,
            "max_height": null,
            "max_width": null,
            "min_height": null,
            "min_width": null,
            "object_fit": null,
            "object_position": null,
            "order": null,
            "overflow": null,
            "overflow_x": null,
            "overflow_y": null,
            "padding": null,
            "right": null,
            "top": null,
            "visibility": null,
            "width": null
          }
        },
        "b4f1a998a7eb4774a9218bcd32fe8a45": {
          "model_module": "@jupyter-widgets/controls",
          "model_module_version": "1.5.0",
          "model_name": "HTMLModel",
          "state": {
            "_dom_classes": [],
            "_model_module": "@jupyter-widgets/controls",
            "_model_module_version": "1.5.0",
            "_model_name": "HTMLModel",
            "_view_count": null,
            "_view_module": "@jupyter-widgets/controls",
            "_view_module_version": "1.5.0",
            "_view_name": "HTMLView",
            "description": "",
            "description_tooltip": null,
            "layout": "IPY_MODEL_6e08bf56b8794caeaa54b3cbb73077ae",
            "placeholder": "​",
            "style": "IPY_MODEL_6071db0bc23a467eb6ec45194a486cf0",
            "value": " 1.46k/1.46k [00:00&lt;00:00, 14.4kB/s]"
          }
        },
        "c290129e3a894d3d8c4141d46850f9a8": {
          "model_module": "@jupyter-widgets/base",
          "model_module_version": "1.2.0",
          "model_name": "LayoutModel",
          "state": {
            "_model_module": "@jupyter-widgets/base",
            "_model_module_version": "1.2.0",
            "_model_name": "LayoutModel",
            "_view_count": null,
            "_view_module": "@jupyter-widgets/base",
            "_view_module_version": "1.2.0",
            "_view_name": "LayoutView",
            "align_content": null,
            "align_items": null,
            "align_self": null,
            "border": null,
            "bottom": null,
            "display": null,
            "flex": null,
            "flex_flow": null,
            "grid_area": null,
            "grid_auto_columns": null,
            "grid_auto_flow": null,
            "grid_auto_rows": null,
            "grid_column": null,
            "grid_gap": null,
            "grid_row": null,
            "grid_template_areas": null,
            "grid_template_columns": null,
            "grid_template_rows": null,
            "height": null,
            "justify_content": null,
            "justify_items": null,
            "left": null,
            "margin": null,
            "max_height": null,
            "max_width": null,
            "min_height": null,
            "min_width": null,
            "object_fit": null,
            "object_position": null,
            "order": null,
            "overflow": null,
            "overflow_x": null,
            "overflow_y": null,
            "padding": null,
            "right": null,
            "top": null,
            "visibility": null,
            "width": null
          }
        },
        "d81d223643f34c499adcc25bd634d2a9": {
          "model_module": "@jupyter-widgets/controls",
          "model_module_version": "1.5.0",
          "model_name": "HTMLModel",
          "state": {
            "_dom_classes": [],
            "_model_module": "@jupyter-widgets/controls",
            "_model_module_version": "1.5.0",
            "_model_name": "HTMLModel",
            "_view_count": null,
            "_view_module": "@jupyter-widgets/controls",
            "_view_module_version": "1.5.0",
            "_view_name": "HTMLView",
            "description": "",
            "description_tooltip": null,
            "layout": "IPY_MODEL_b44fd3b1fec348dc831da4ed26f695c2",
            "placeholder": "​",
            "style": "IPY_MODEL_3f939e8a11e84ae4bb625402ef07839f",
            "value": " 10.7G/10.7G [05:57&lt;00:00, 16.1MB/s]"
          }
        },
        "d98c7bec6f2447babbee855b88af9d0f": {
          "model_module": "@jupyter-widgets/base",
          "model_module_version": "1.2.0",
          "model_name": "LayoutModel",
          "state": {
            "_model_module": "@jupyter-widgets/base",
            "_model_module_version": "1.2.0",
            "_model_name": "LayoutModel",
            "_view_count": null,
            "_view_module": "@jupyter-widgets/base",
            "_view_module_version": "1.2.0",
            "_view_name": "LayoutView",
            "align_content": null,
            "align_items": null,
            "align_self": null,
            "border": null,
            "bottom": null,
            "display": null,
            "flex": null,
            "flex_flow": null,
            "grid_area": null,
            "grid_auto_columns": null,
            "grid_auto_flow": null,
            "grid_auto_rows": null,
            "grid_column": null,
            "grid_gap": null,
            "grid_row": null,
            "grid_template_areas": null,
            "grid_template_columns": null,
            "grid_template_rows": null,
            "height": null,
            "justify_content": null,
            "justify_items": null,
            "left": null,
            "margin": null,
            "max_height": null,
            "max_width": null,
            "min_height": null,
            "min_width": null,
            "object_fit": null,
            "object_position": null,
            "order": null,
            "overflow": null,
            "overflow_x": null,
            "overflow_y": null,
            "padding": null,
            "right": null,
            "top": null,
            "visibility": null,
            "width": null
          }
        },
        "ec3ae4da27564e0495350da7756a0c3e": {
          "model_module": "@jupyter-widgets/controls",
          "model_module_version": "1.5.0",
          "model_name": "FloatProgressModel",
          "state": {
            "_dom_classes": [],
            "_model_module": "@jupyter-widgets/controls",
            "_model_module_version": "1.5.0",
            "_model_name": "FloatProgressModel",
            "_view_count": null,
            "_view_module": "@jupyter-widgets/controls",
            "_view_module_version": "1.5.0",
            "_view_name": "ProgressView",
            "bar_style": "success",
            "description": "",
            "description_tooltip": null,
            "layout": "IPY_MODEL_d98c7bec6f2447babbee855b88af9d0f",
            "max": 1455,
            "min": 0,
            "orientation": "horizontal",
            "style": "IPY_MODEL_8a8d75c1d086488fbd680e9f56b7d1ec",
            "value": 1455
          }
        }
      }
    }
  },
  "nbformat": 4,
  "nbformat_minor": 0
}