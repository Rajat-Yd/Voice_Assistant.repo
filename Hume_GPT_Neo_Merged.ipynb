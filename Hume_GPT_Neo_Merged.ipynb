{
  "cells": [
    {
      "cell_type": "code",
      "execution_count": null,
      "metadata": {
        "id": "sPW3NkeScSO0",
        "colab": {
          "base_uri": "https://localhost:8080/"
        },
        "outputId": "bb4df830-080f-4eba-d6ae-f5f16578eea3"
      },
      "outputs": [
        {
          "output_type": "stream",
          "name": "stdout",
          "text": [
            "Requirement already satisfied: transformers in /usr/local/lib/python3.10/dist-packages (4.41.2)\n",
            "Requirement already satisfied: datasets in /usr/local/lib/python3.10/dist-packages (2.19.1)\n",
            "Requirement already satisfied: torch in /usr/local/lib/python3.10/dist-packages (2.3.0+cu121)\n",
            "Requirement already satisfied: filelock in /usr/local/lib/python3.10/dist-packages (from transformers) (3.14.0)\n",
            "Requirement already satisfied: huggingface-hub<1.0,>=0.23.0 in /usr/local/lib/python3.10/dist-packages (from transformers) (0.23.1)\n",
            "Requirement already satisfied: numpy>=1.17 in /usr/local/lib/python3.10/dist-packages (from transformers) (1.25.2)\n",
            "Requirement already satisfied: packaging>=20.0 in /usr/local/lib/python3.10/dist-packages (from transformers) (24.0)\n",
            "Requirement already satisfied: pyyaml>=5.1 in /usr/local/lib/python3.10/dist-packages (from transformers) (6.0.1)\n",
            "Requirement already satisfied: regex!=2019.12.17 in /usr/local/lib/python3.10/dist-packages (from transformers) (2024.5.15)\n",
            "Requirement already satisfied: requests in /usr/local/lib/python3.10/dist-packages (from transformers) (2.31.0)\n",
            "Requirement already satisfied: tokenizers<0.20,>=0.19 in /usr/local/lib/python3.10/dist-packages (from transformers) (0.19.1)\n",
            "Requirement already satisfied: safetensors>=0.4.1 in /usr/local/lib/python3.10/dist-packages (from transformers) (0.4.3)\n",
            "Requirement already satisfied: tqdm>=4.27 in /usr/local/lib/python3.10/dist-packages (from transformers) (4.66.4)\n",
            "Requirement already satisfied: pyarrow>=12.0.0 in /usr/local/lib/python3.10/dist-packages (from datasets) (14.0.2)\n",
            "Requirement already satisfied: pyarrow-hotfix in /usr/local/lib/python3.10/dist-packages (from datasets) (0.6)\n",
            "Requirement already satisfied: dill<0.3.9,>=0.3.0 in /usr/local/lib/python3.10/dist-packages (from datasets) (0.3.8)\n",
            "Requirement already satisfied: pandas in /usr/local/lib/python3.10/dist-packages (from datasets) (2.0.3)\n",
            "Requirement already satisfied: xxhash in /usr/local/lib/python3.10/dist-packages (from datasets) (3.4.1)\n",
            "Requirement already satisfied: multiprocess in /usr/local/lib/python3.10/dist-packages (from datasets) (0.70.16)\n",
            "Requirement already satisfied: fsspec[http]<=2024.3.1,>=2023.1.0 in /usr/local/lib/python3.10/dist-packages (from datasets) (2023.6.0)\n",
            "Requirement already satisfied: aiohttp in /usr/local/lib/python3.10/dist-packages (from datasets) (3.9.5)\n",
            "Requirement already satisfied: typing-extensions>=4.8.0 in /usr/local/lib/python3.10/dist-packages (from torch) (4.11.0)\n",
            "Requirement already satisfied: sympy in /usr/local/lib/python3.10/dist-packages (from torch) (1.12)\n",
            "Requirement already satisfied: networkx in /usr/local/lib/python3.10/dist-packages (from torch) (3.3)\n",
            "Requirement already satisfied: jinja2 in /usr/local/lib/python3.10/dist-packages (from torch) (3.1.4)\n",
            "Requirement already satisfied: nvidia-cuda-nvrtc-cu12==12.1.105 in /usr/local/lib/python3.10/dist-packages (from torch) (12.1.105)\n",
            "Requirement already satisfied: nvidia-cuda-runtime-cu12==12.1.105 in /usr/local/lib/python3.10/dist-packages (from torch) (12.1.105)\n",
            "Requirement already satisfied: nvidia-cuda-cupti-cu12==12.1.105 in /usr/local/lib/python3.10/dist-packages (from torch) (12.1.105)\n",
            "Requirement already satisfied: nvidia-cudnn-cu12==8.9.2.26 in /usr/local/lib/python3.10/dist-packages (from torch) (8.9.2.26)\n",
            "Requirement already satisfied: nvidia-cublas-cu12==12.1.3.1 in /usr/local/lib/python3.10/dist-packages (from torch) (12.1.3.1)\n",
            "Requirement already satisfied: nvidia-cufft-cu12==11.0.2.54 in /usr/local/lib/python3.10/dist-packages (from torch) (11.0.2.54)\n",
            "Requirement already satisfied: nvidia-curand-cu12==10.3.2.106 in /usr/local/lib/python3.10/dist-packages (from torch) (10.3.2.106)\n",
            "Requirement already satisfied: nvidia-cusolver-cu12==11.4.5.107 in /usr/local/lib/python3.10/dist-packages (from torch) (11.4.5.107)\n",
            "Requirement already satisfied: nvidia-cusparse-cu12==12.1.0.106 in /usr/local/lib/python3.10/dist-packages (from torch) (12.1.0.106)\n",
            "Requirement already satisfied: nvidia-nccl-cu12==2.20.5 in /usr/local/lib/python3.10/dist-packages (from torch) (2.20.5)\n",
            "Requirement already satisfied: nvidia-nvtx-cu12==12.1.105 in /usr/local/lib/python3.10/dist-packages (from torch) (12.1.105)\n",
            "Requirement already satisfied: triton==2.3.0 in /usr/local/lib/python3.10/dist-packages (from torch) (2.3.0)\n",
            "Requirement already satisfied: nvidia-nvjitlink-cu12 in /usr/local/lib/python3.10/dist-packages (from nvidia-cusolver-cu12==11.4.5.107->torch) (12.5.40)\n",
            "Requirement already satisfied: aiosignal>=1.1.2 in /usr/local/lib/python3.10/dist-packages (from aiohttp->datasets) (1.3.1)\n",
            "Requirement already satisfied: attrs>=17.3.0 in /usr/local/lib/python3.10/dist-packages (from aiohttp->datasets) (23.2.0)\n",
            "Requirement already satisfied: frozenlist>=1.1.1 in /usr/local/lib/python3.10/dist-packages (from aiohttp->datasets) (1.4.1)\n",
            "Requirement already satisfied: multidict<7.0,>=4.5 in /usr/local/lib/python3.10/dist-packages (from aiohttp->datasets) (6.0.5)\n",
            "Requirement already satisfied: yarl<2.0,>=1.0 in /usr/local/lib/python3.10/dist-packages (from aiohttp->datasets) (1.9.4)\n",
            "Requirement already satisfied: async-timeout<5.0,>=4.0 in /usr/local/lib/python3.10/dist-packages (from aiohttp->datasets) (4.0.3)\n",
            "Requirement already satisfied: charset-normalizer<4,>=2 in /usr/local/lib/python3.10/dist-packages (from requests->transformers) (3.3.2)\n",
            "Requirement already satisfied: idna<4,>=2.5 in /usr/local/lib/python3.10/dist-packages (from requests->transformers) (3.7)\n",
            "Requirement already satisfied: urllib3<3,>=1.21.1 in /usr/local/lib/python3.10/dist-packages (from requests->transformers) (2.0.7)\n",
            "Requirement already satisfied: certifi>=2017.4.17 in /usr/local/lib/python3.10/dist-packages (from requests->transformers) (2024.2.2)\n",
            "Requirement already satisfied: MarkupSafe>=2.0 in /usr/local/lib/python3.10/dist-packages (from jinja2->torch) (2.1.5)\n",
            "Requirement already satisfied: python-dateutil>=2.8.2 in /usr/local/lib/python3.10/dist-packages (from pandas->datasets) (2.8.2)\n",
            "Requirement already satisfied: pytz>=2020.1 in /usr/local/lib/python3.10/dist-packages (from pandas->datasets) (2023.4)\n",
            "Requirement already satisfied: tzdata>=2022.1 in /usr/local/lib/python3.10/dist-packages (from pandas->datasets) (2024.1)\n",
            "Requirement already satisfied: mpmath>=0.19 in /usr/local/lib/python3.10/dist-packages (from sympy->torch) (1.3.0)\n",
            "Requirement already satisfied: six>=1.5 in /usr/local/lib/python3.10/dist-packages (from python-dateutil>=2.8.2->pandas->datasets) (1.16.0)\n"
          ]
        }
      ],
      "source": [
        "!pip install transformers datasets torch"
      ]
    },
    {
      "cell_type": "code",
      "execution_count": null,
      "metadata": {
        "id": "vgekidPYdLLp",
        "colab": {
          "base_uri": "https://localhost:8080/"
        },
        "outputId": "285d4c0b-0ecd-444d-cab0-f92acdb6861c"
      },
      "outputs": [
        {
          "output_type": "stream",
          "name": "stderr",
          "text": [
            "/usr/local/lib/python3.10/dist-packages/huggingface_hub/utils/_token.py:89: UserWarning: \n",
            "The secret `HF_TOKEN` does not exist in your Colab secrets.\n",
            "To authenticate with the Hugging Face Hub, create a token in your settings tab (https://huggingface.co/settings/tokens), set it as secret in your Google Colab and restart your session.\n",
            "You will be able to reuse this secret in all of your notebooks.\n",
            "Please note that authentication is recommended but still optional to access public models or datasets.\n",
            "  warnings.warn(\n",
            "/usr/local/lib/python3.10/dist-packages/datasets/load.py:1486: FutureWarning: The repository for financial_phrasebank contains custom code which must be executed to correctly load the dataset. You can inspect the repository content at https://hf.co/datasets/financial_phrasebank\n",
            "You can avoid this message in future by passing the argument `trust_remote_code=True`.\n",
            "Passing `trust_remote_code=True` will be mandatory to load this dataset from the next major release of `datasets`.\n",
            "  warnings.warn(\n",
            "/usr/local/lib/python3.10/dist-packages/huggingface_hub/file_download.py:1132: FutureWarning: `resume_download` is deprecated and will be removed in version 1.0.0. Downloads always resume when possible. If you want to force a new download, use `force_download=True`.\n",
            "  warnings.warn(\n"
          ]
        }
      ],
      "source": [
        "from datasets import load_dataset\n",
        "from transformers import AutoTokenizer, AutoModelForSequenceClassification, Trainer, TrainingArguments\n",
        "\n",
        "# Load a sample dataset (replace 'financial_phrasebank' with your actual dataset)\n",
        "dataset = load_dataset('financial_phrasebank', 'sentences_allagree')\n",
        "\n",
        "# Tokenizer\n",
        "tokenizer = AutoTokenizer.from_pretrained('yiyanghkust/finbert-tone')\n",
        "\n",
        "# Tokenize the dataset\n",
        "def tokenize_function(examples):\n",
        "    return tokenizer(examples['sentence'], padding='max_length', truncation=True)\n",
        "\n",
        "tokenized_dataset = dataset.map(tokenize_function, batched=True)"
      ]
    },
    {
      "cell_type": "code",
      "execution_count": null,
      "metadata": {
        "id": "SaN2Tr0Wdytw",
        "colab": {
          "base_uri": "https://localhost:8080/"
        },
        "outputId": "4f138421-f093-49e3-fe42-960bf5d99c16"
      },
      "outputs": [
        {
          "output_type": "stream",
          "name": "stdout",
          "text": [
            "{'sentence': 'According to Gran , the company has no plans to move all production to Russia , although that is where the company is growing .', 'label': 1, 'input_ids': [3, 1782, 9, 17982, 585, 6, 37, 49, 141, 623, 9, 1014, 69, 286, 9, 7064, 585, 488, 15, 17, 214, 6, 37, 17, 929, 48, 4], 'token_type_ids': [0, 0, 0, 0, 0, 0, 0, 0, 0, 0, 0, 0, 0, 0, 0, 0, 0, 0, 0, 0, 0, 0, 0, 0, 0, 0, 0], 'attention_mask': [1, 1, 1, 1, 1, 1, 1, 1, 1, 1, 1, 1, 1, 1, 1, 1, 1, 1, 1, 1, 1, 1, 1, 1, 1, 1, 1]}\n"
          ]
        }
      ],
      "source": [
        "print(tokenized_dataset['train'][0])"
      ]
    },
    {
      "cell_type": "code",
      "execution_count": null,
      "metadata": {
        "id": "ZMWeUFPCgr-v",
        "colab": {
          "base_uri": "https://localhost:8080/"
        },
        "outputId": "25e6d5a1-8a74-4269-b7db-cd08fd5178ab"
      },
      "outputs": [
        {
          "output_type": "stream",
          "name": "stdout",
          "text": [
            "Requirement already satisfied: yfinance in /usr/local/lib/python3.10/dist-packages (0.2.40)\n",
            "Requirement already satisfied: pandas>=1.3.0 in /usr/local/lib/python3.10/dist-packages (from yfinance) (2.0.3)\n",
            "Requirement already satisfied: numpy>=1.16.5 in /usr/local/lib/python3.10/dist-packages (from yfinance) (1.25.2)\n",
            "Requirement already satisfied: requests>=2.31 in /usr/local/lib/python3.10/dist-packages (from yfinance) (2.31.0)\n",
            "Requirement already satisfied: multitasking>=0.0.7 in /usr/local/lib/python3.10/dist-packages (from yfinance) (0.0.11)\n",
            "Requirement already satisfied: lxml>=4.9.1 in /usr/local/lib/python3.10/dist-packages (from yfinance) (4.9.4)\n",
            "Requirement already satisfied: platformdirs>=2.0.0 in /usr/local/lib/python3.10/dist-packages (from yfinance) (4.2.2)\n",
            "Requirement already satisfied: pytz>=2022.5 in /usr/local/lib/python3.10/dist-packages (from yfinance) (2023.4)\n",
            "Requirement already satisfied: frozendict>=2.3.4 in /usr/local/lib/python3.10/dist-packages (from yfinance) (2.4.4)\n",
            "Requirement already satisfied: peewee>=3.16.2 in /usr/local/lib/python3.10/dist-packages (from yfinance) (3.17.5)\n",
            "Requirement already satisfied: beautifulsoup4>=4.11.1 in /usr/local/lib/python3.10/dist-packages (from yfinance) (4.12.3)\n",
            "Requirement already satisfied: html5lib>=1.1 in /usr/local/lib/python3.10/dist-packages (from yfinance) (1.1)\n",
            "Requirement already satisfied: soupsieve>1.2 in /usr/local/lib/python3.10/dist-packages (from beautifulsoup4>=4.11.1->yfinance) (2.5)\n",
            "Requirement already satisfied: six>=1.9 in /usr/local/lib/python3.10/dist-packages (from html5lib>=1.1->yfinance) (1.16.0)\n",
            "Requirement already satisfied: webencodings in /usr/local/lib/python3.10/dist-packages (from html5lib>=1.1->yfinance) (0.5.1)\n",
            "Requirement already satisfied: python-dateutil>=2.8.2 in /usr/local/lib/python3.10/dist-packages (from pandas>=1.3.0->yfinance) (2.8.2)\n",
            "Requirement already satisfied: tzdata>=2022.1 in /usr/local/lib/python3.10/dist-packages (from pandas>=1.3.0->yfinance) (2024.1)\n",
            "Requirement already satisfied: charset-normalizer<4,>=2 in /usr/local/lib/python3.10/dist-packages (from requests>=2.31->yfinance) (3.3.2)\n",
            "Requirement already satisfied: idna<4,>=2.5 in /usr/local/lib/python3.10/dist-packages (from requests>=2.31->yfinance) (3.7)\n",
            "Requirement already satisfied: urllib3<3,>=1.21.1 in /usr/local/lib/python3.10/dist-packages (from requests>=2.31->yfinance) (2.0.7)\n",
            "Requirement already satisfied: certifi>=2017.4.17 in /usr/local/lib/python3.10/dist-packages (from requests>=2.31->yfinance) (2024.2.2)\n"
          ]
        }
      ],
      "source": [
        "!pip install yfinance"
      ]
    },
    {
      "cell_type": "code",
      "execution_count": null,
      "metadata": {
        "id": "V3aGGj-Ug1jM",
        "colab": {
          "base_uri": "https://localhost:8080/"
        },
        "outputId": "4e96226f-e178-4124-c22e-de542bfce92e"
      },
      "outputs": [
        {
          "output_type": "stream",
          "name": "stderr",
          "text": [
            "[*********************100%%**********************]  5 of 5 completed\n",
            "ERROR:yfinance:\n",
            "1 Failed download:\n",
            "ERROR:yfinance:['FB']: YFTzMissingError('$%ticker%: possibly delisted; No timezone found')\n"
          ]
        }
      ],
      "source": [
        "import yfinance as yf\n",
        "import pandas as pd\n",
        "\n",
        "# List of stock tickers\n",
        "tickers = ['AAPL', 'GOOGL', 'MSFT', 'AMZN', 'FB']  # Add more tickers as needed\n",
        "\n",
        "# Download historical market data for multiple stocks\n",
        "data = yf.download(tickers, start='2020-01-01', end='2022-12-31', group_by='ticker')\n",
        "\n",
        "# Save the data to a CSV file\n",
        "data.to_csv('/content/multiple_stocks_data.csv')"
      ]
    },
    {
      "cell_type": "code",
      "execution_count": null,
      "metadata": {
        "id": "-AQdUj0GhIxn",
        "colab": {
          "base_uri": "https://localhost:8080/"
        },
        "outputId": "70b74504-83c7-40b7-b790-9d3fd54bf751"
      },
      "outputs": [
        {
          "output_type": "stream",
          "name": "stdout",
          "text": [
            "       Ticker               AAPL             AAPL.1             AAPL.2  \\\n",
            "0       Price               Open               High                Low   \n",
            "1        Date                NaN                NaN                NaN   \n",
            "2  2020-01-02  74.05999755859375   75.1500015258789  73.79750061035156   \n",
            "3  2020-01-03   74.2874984741211   75.1449966430664             74.125   \n",
            "4  2020-01-06  73.44750213623047  74.98999786376953            73.1875   \n",
            "\n",
            "              AAPL.3             AAPL.4     AAPL.5              AMZN  \\\n",
            "0              Close          Adj Close     Volume              Open   \n",
            "1                NaN                NaN        NaN               NaN   \n",
            "2   75.0875015258789  72.96045684814453  135480400             93.75   \n",
            "3  74.35749816894531  72.25115203857422  146322800  93.2249984741211   \n",
            "4  74.94999694824219  72.82685089111328  118387200              93.0   \n",
            "\n",
            "              AMZN.1            AMZN.2  ...            GOOGL.2  \\\n",
            "0               High               Low  ...                Low   \n",
            "1                NaN               NaN  ...                NaN   \n",
            "2  94.90049743652344  93.2074966430664  ...  67.32450103759766   \n",
            "3  94.30999755859375  93.2249984741211  ...  67.36599731445312   \n",
            "4  95.18450164794922              93.0  ...  67.55000305175781   \n",
            "\n",
            "             GOOGL.3            GOOGL.4   GOOGL.5    FB  FB.1 FB.2   FB.3  \\\n",
            "0              Close          Adj Close    Volume  Open  High  Low  Close   \n",
            "1                NaN                NaN       NaN   NaN   NaN  NaN    NaN   \n",
            "2  68.43399810791016  68.43399810791016  27278000   NaN   NaN  NaN    NaN   \n",
            "3  68.07599639892578  68.07599639892578  23408000   NaN   NaN  NaN    NaN   \n",
            "4   69.8905029296875   69.8905029296875  46768000   NaN   NaN  NaN    NaN   \n",
            "\n",
            "        FB.4    FB.5  \n",
            "0  Adj Close  Volume  \n",
            "1        NaN     NaN  \n",
            "2        NaN     NaN  \n",
            "3        NaN     NaN  \n",
            "4        NaN     NaN  \n",
            "\n",
            "[5 rows x 31 columns]\n"
          ]
        }
      ],
      "source": [
        "# Load the data from the CSV file to verify\n",
        "df = pd.read_csv('/content/multiple_stocks_data.csv')\n",
        "print(df.head())"
      ]
    },
    {
      "cell_type": "code",
      "execution_count": null,
      "metadata": {
        "id": "QEHfBV7ihN7W",
        "colab": {
          "base_uri": "https://localhost:8080/"
        },
        "outputId": "058bda77-d182-4a5b-a8d0-14a70396db5c"
      },
      "outputs": [
        {
          "output_type": "stream",
          "name": "stdout",
          "text": [
            "       Ticker               AAPL             AAPL.1             AAPL.2  \\\n",
            "0       Price               Open               High                Low   \n",
            "1        Date                NaN                NaN                NaN   \n",
            "2  2020-01-02  74.05999755859375   75.1500015258789  73.79750061035156   \n",
            "3  2020-01-03   74.2874984741211   75.1449966430664             74.125   \n",
            "4  2020-01-06  73.44750213623047  74.98999786376953            73.1875   \n",
            "\n",
            "              AAPL.3             AAPL.4     AAPL.5              AMZN  \\\n",
            "0              Close          Adj Close     Volume              Open   \n",
            "1                NaN                NaN        NaN               NaN   \n",
            "2   75.0875015258789  72.96045684814453  135480400             93.75   \n",
            "3  74.35749816894531  72.25115203857422  146322800  93.2249984741211   \n",
            "4  74.94999694824219  72.82685089111328  118387200              93.0   \n",
            "\n",
            "              AMZN.1            AMZN.2  ...            GOOGL.2  \\\n",
            "0               High               Low  ...                Low   \n",
            "1                NaN               NaN  ...                NaN   \n",
            "2  94.90049743652344  93.2074966430664  ...  67.32450103759766   \n",
            "3  94.30999755859375  93.2249984741211  ...  67.36599731445312   \n",
            "4  95.18450164794922              93.0  ...  67.55000305175781   \n",
            "\n",
            "             GOOGL.3            GOOGL.4   GOOGL.5    FB  FB.1 FB.2   FB.3  \\\n",
            "0              Close          Adj Close    Volume  Open  High  Low  Close   \n",
            "1                NaN                NaN       NaN   NaN   NaN  NaN    NaN   \n",
            "2  68.43399810791016  68.43399810791016  27278000   NaN   NaN  NaN    NaN   \n",
            "3  68.07599639892578  68.07599639892578  23408000   NaN   NaN  NaN    NaN   \n",
            "4   69.8905029296875   69.8905029296875  46768000   NaN   NaN  NaN    NaN   \n",
            "\n",
            "        FB.4    FB.5  \n",
            "0  Adj Close  Volume  \n",
            "1        NaN     NaN  \n",
            "2        NaN     NaN  \n",
            "3        NaN     NaN  \n",
            "4        NaN     NaN  \n",
            "\n",
            "[5 rows x 31 columns]\n",
            "Index(['Ticker', 'AAPL', 'AAPL.1', 'AAPL.2', 'AAPL.3', 'AAPL.4', 'AAPL.5',\n",
            "       'AMZN', 'AMZN.1', 'AMZN.2', 'AMZN.3', 'AMZN.4', 'AMZN.5', 'MSFT',\n",
            "       'MSFT.1', 'MSFT.2', 'MSFT.3', 'MSFT.4', 'MSFT.5', 'GOOGL', 'GOOGL.1',\n",
            "       'GOOGL.2', 'GOOGL.3', 'GOOGL.4', 'GOOGL.5', 'FB', 'FB.1', 'FB.2',\n",
            "       'FB.3', 'FB.4', 'FB.5'],\n",
            "      dtype='object')\n"
          ]
        }
      ],
      "source": [
        "import pandas as pd\n",
        "\n",
        "# Load the data from the CSV file to verify\n",
        "df = pd.read_csv('/content/multiple_stocks_data.csv')\n",
        "print(df.head())\n",
        "print(df.columns)"
      ]
    },
    {
      "cell_type": "code",
      "execution_count": null,
      "metadata": {
        "id": "XoX4Ay4_h1MW",
        "colab": {
          "base_uri": "https://localhost:8080/",
          "height": 173,
          "referenced_widgets": [
            "aef731853ac14637a440a2d3aec92ea3",
            "6f961adceef8447da213ff946b1f0d0c",
            "db9c4f5433594c1b95ede023726e254b",
            "123531bd6a09481aba8c41d92484efed",
            "98a5e5e415f04694b8533628451a824b",
            "f078f9432294454cb259d06c56c8ed36",
            "a4d857ee5a9443fda97dba1e83d67ddf",
            "79c244a329b44a04bea787ec3041088e",
            "97581ffef1574161b1788bcd144c3e08",
            "2a692631a396462cbcca574fe1217a98",
            "8e2d1d71a36445d59e3e150642244650"
          ]
        },
        "outputId": "bbcbf17f-a5d4-4f8c-a652-24043990b19c"
      },
      "outputs": [
        {
          "output_type": "stream",
          "name": "stderr",
          "text": [
            "/usr/local/lib/python3.10/dist-packages/huggingface_hub/file_download.py:1132: FutureWarning: `resume_download` is deprecated and will be removed in version 1.0.0. Downloads always resume when possible. If you want to force a new download, use `force_download=True`.\n",
            "  warnings.warn(\n"
          ]
        },
        {
          "output_type": "display_data",
          "data": {
            "text/plain": [
              "Map:   0%|          | 0/758 [00:00<?, ? examples/s]"
            ],
            "application/vnd.jupyter.widget-view+json": {
              "version_major": 2,
              "version_minor": 0,
              "model_id": "aef731853ac14637a440a2d3aec92ea3"
            }
          },
          "metadata": {}
        },
        {
          "output_type": "stream",
          "name": "stdout",
          "text": [
            "Dataset({\n",
            "    features: ['Ticker', 'AAPL', 'AAPL.1', 'AAPL.2', 'AAPL.3', 'AAPL.4', 'AAPL.5', 'AMZN', 'AMZN.1', 'AMZN.2', 'AMZN.3', 'AMZN.4', 'AMZN.5', 'MSFT', 'MSFT.1', 'MSFT.2', 'MSFT.3', 'MSFT.4', 'MSFT.5', 'GOOGL', 'GOOGL.1', 'GOOGL.2', 'GOOGL.3', 'GOOGL.4', 'GOOGL.5', 'FB', 'FB.1', 'FB.2', 'FB.3', 'FB.4', 'FB.5', 'Text', 'input_ids', 'token_type_ids', 'attention_mask'],\n",
            "    num_rows: 758\n",
            "})\n"
          ]
        }
      ],
      "source": [
        "import pandas as pd\n",
        "from datasets import Dataset\n",
        "from transformers import AutoTokenizer\n",
        "\n",
        "# Load the data from the CSV file\n",
        "df = pd.read_csv('/content/multiple_stocks_data.csv')\n",
        "\n",
        "# Ensure there is a text column (dummy text for example)\n",
        "df['Text'] = \"The stock market is performing well today.\"\n",
        "\n",
        "# Convert DataFrame to Dataset\n",
        "dataset = Dataset.from_pandas(df)\n",
        "\n",
        "# Tokenizer\n",
        "tokenizer = AutoTokenizer.from_pretrained('yiyanghkust/finbert-tone')\n",
        "\n",
        "# Tokenize the dataset\n",
        "def tokenize_function(examples):\n",
        "    return tokenizer(examples['Text'], padding='max_length', max_length=512, truncation=True)\n",
        "\n",
        "tokenized_dataset = dataset.map(tokenize_function, batched=True)\n",
        "print(tokenized_dataset)"
      ]
    },
    {
      "cell_type": "code",
      "execution_count": null,
      "metadata": {
        "colab": {
          "base_uri": "https://localhost:8080/",
          "height": 104,
          "referenced_widgets": [
            "a96617816d4640ef9125103acab2a862",
            "03d2d57f74334e15aaf9a1f8834fe8e1",
            "ce0dead6665048bca9c0311aec03b3db",
            "607b69f4df824ec09457f91ca438afd2",
            "e7ab15c5feaa4f89923f6e4a800fe763",
            "dca1118b4d85424eb6185b5942f60752",
            "5ce978c822504bac88e12626989a2a77",
            "696ba767c6c54778b7c83787ab795fa8",
            "6c6f15668a0946cbade03b6103e38809",
            "0b7c07cf18b1469fad2001eebbce8dc7",
            "d7f30fb4fee3422dab1b8a6b87fc8df5"
          ]
        },
        "id": "r5w2b9czi3aW",
        "outputId": "a3485cd8-ef13-4491-dbd9-eb718afa3a0f"
      },
      "outputs": [
        {
          "output_type": "stream",
          "name": "stderr",
          "text": [
            "/usr/local/lib/python3.10/dist-packages/huggingface_hub/file_download.py:1132: FutureWarning: `resume_download` is deprecated and will be removed in version 1.0.0. Downloads always resume when possible. If you want to force a new download, use `force_download=True`.\n",
            "  warnings.warn(\n"
          ]
        },
        {
          "output_type": "display_data",
          "data": {
            "text/plain": [
              "Map:   0%|          | 0/758 [00:00<?, ? examples/s]"
            ],
            "application/vnd.jupyter.widget-view+json": {
              "version_major": 2,
              "version_minor": 0,
              "model_id": "a96617816d4640ef9125103acab2a862"
            }
          },
          "metadata": {}
        }
      ],
      "source": [
        "import pandas as pd\n",
        "from datasets import Dataset\n",
        "from transformers import AutoTokenizer\n",
        "\n",
        "# Load the data from the CSV file\n",
        "df = pd.read_csv('/content/multiple_stocks_data.csv')\n",
        "\n",
        "# Ensure there is a text column (dummy text for example)\n",
        "df['Text'] = \"The stock market is performing well today.\"\n",
        "\n",
        "# Add a dummy label column (0 or 1 for binary classification)\n",
        "df['label'] = 0\n",
        "\n",
        "# Convert DataFrame to Dataset\n",
        "dataset = Dataset.from_pandas(df)\n",
        "\n",
        "# Tokenizer\n",
        "tokenizer = AutoTokenizer.from_pretrained('yiyanghkust/finbert-tone')\n",
        "\n",
        "# Tokenize the dataset\n",
        "def tokenize_function(examples):\n",
        "    return tokenizer(examples['Text'], padding='max_length', max_length=512, truncation=True)\n",
        "\n",
        "tokenized_dataset = dataset.map(tokenize_function, batched=True)\n",
        "\n",
        "# Set format for PyTorch/TensorFlow\n",
        "tokenized_dataset.set_format(type='torch', columns=['input_ids', 'attention_mask', 'label'])\n",
        "\n"
      ]
    },
    {
      "cell_type": "code",
      "execution_count": 11,
      "metadata": {
        "colab": {
          "base_uri": "https://localhost:8080/",
          "height": 327
        },
        "id": "IiMWeK16if3s",
        "outputId": "f08d1c02-5a80-4c7e-eea0-3fda50ec48a2"
      },
      "outputs": [
        {
          "metadata": {
            "tags": null
          },
          "name": "stderr",
          "output_type": "stream",
          "text": [
            "Some weights of BertForSequenceClassification were not initialized from the model checkpoint at yiyanghkust/finbert-tone and are newly initialized because the shapes did not match:\n",
            "- classifier.weight: found shape torch.Size([3, 768]) in the checkpoint and torch.Size([2, 768]) in the model instantiated\n",
            "- classifier.bias: found shape torch.Size([3]) in the checkpoint and torch.Size([2]) in the model instantiated\n",
            "You should probably TRAIN this model on a down-stream task to be able to use it for predictions and inference.\n"
          ]
        },
        {
          "data": {
            "text/html": [
              "\n",
              "    <div>\n",
              "      \n",
              "      <progress value='77' max='76' style='width:300px; height:20px; vertical-align: middle;'></progress>\n",
              "      [76/76 1:02:09, Epoch 1/1]\n",
              "    </div>\n",
              "    <table border=\"1\" class=\"dataframe\">\n",
              "  <thead>\n",
              " <tr style=\"text-align: left;\">\n",
              "      <th>Epoch</th>\n",
              "      <th>Training Loss</th>\n",
              "      <th>Validation Loss</th>\n",
              "    </tr>\n",
              "  </thead>\n",
              "  <tbody>\n",
              "  </tbody>\n",
              "</table><p>\n",
              "    <div>\n",
              "      \n",
              "      <progress value='6' max='19' style='width:300px; height:20px; vertical-align: middle;'></progress>\n",
              "      [ 6/19 01:04 < 02:47, 0.08 it/s]\n",
              "    </div>\n",
              "    "
            ],
            "text/plain": [
              "<IPython.core.display.HTML object>"
            ]
          },
          "metadata": {},
          "output_type": "display_data"
        },
        {
          "output_type": "display_data",
          "data": {
            "text/plain": [
              "<IPython.core.display.HTML object>"
            ],
            "text/html": [
              "\n",
              "    <div>\n",
              "      \n",
              "      <progress value='76' max='76' style='width:300px; height:20px; vertical-align: middle;'></progress>\n",
              "      [76/76 1:06:18, Epoch 1/1]\n",
              "    </div>\n",
              "    <table border=\"1\" class=\"dataframe\">\n",
              "  <thead>\n",
              " <tr style=\"text-align: left;\">\n",
              "      <th>Epoch</th>\n",
              "      <th>Training Loss</th>\n",
              "      <th>Validation Loss</th>\n",
              "    </tr>\n",
              "  </thead>\n",
              "  <tbody>\n",
              "    <tr>\n",
              "      <td>1</td>\n",
              "      <td>No log</td>\n",
              "      <td>0.000310</td>\n",
              "    </tr>\n",
              "  </tbody>\n",
              "</table><p>"
            ]
          },
          "metadata": {}
        },
        {
          "output_type": "execute_result",
          "data": {
            "text/plain": [
              "TrainOutput(global_step=76, training_loss=0.026437906842482716, metrics={'train_runtime': 4089.0741, 'train_samples_per_second': 0.148, 'train_steps_per_second': 0.019, 'total_flos': 159445299548160.0, 'train_loss': 0.026437906842482716, 'epoch': 1.0})"
            ]
          },
          "metadata": {},
          "execution_count": 11
        }
      ],
      "source": [
        "from transformers import AutoModelForSequenceClassification, Trainer, TrainingArguments\n",
        "\n",
        "# Load the pre-trained model with ignore_mismatched_sizes=True\n",
        "model = AutoModelForSequenceClassification.from_pretrained('yiyanghkust/finbert-tone', num_labels=2, ignore_mismatched_sizes=True)\n",
        "\n",
        "# Split dataset into train and test\n",
        "train_test_split = tokenized_dataset.train_test_split(test_size=0.2)\n",
        "train_dataset = train_test_split['train']\n",
        "test_dataset = train_test_split['test']\n",
        "\n",
        "# Training arguments\n",
        "training_args = TrainingArguments(\n",
        "    output_dir='./results',\n",
        "    eval_strategy='epoch',  # Update from evaluation_strategy\n",
        "    learning_rate=2e-5,\n",
        "    per_device_train_batch_size=8,\n",
        "    per_device_eval_batch_size=8,\n",
        "    num_train_epochs=1,\n",
        "    weight_decay=0.01,\n",
        ")\n",
        "\n",
        "# Trainer\n",
        "trainer = Trainer(\n",
        "    model=model,\n",
        "    args=training_args,\n",
        "    train_dataset=train_dataset,\n",
        "    eval_dataset=test_dataset,\n",
        ")\n",
        "\n",
        "# Fine-tune the model\n",
        "trainer.train()\n",
        "\n"
      ]
    },
    {
      "cell_type": "code",
      "source": [
        "# Save the trained model and tokenizer\n",
        "trainer.save_model('./my_trading_model')\n",
        "tokenizer.save_pretrained('./my_trading_model')\n",
        "\n",
        "print(\"Model and tokenizer saved successfully.\")\n"
      ],
      "metadata": {
        "colab": {
          "base_uri": "https://localhost:8080/"
        },
        "id": "Ja7qaZIGCSiy",
        "outputId": "ce1b7466-59e9-4ed4-9be3-597e95e3e6e8"
      },
      "execution_count": 12,
      "outputs": [
        {
          "output_type": "stream",
          "name": "stdout",
          "text": [
            "Model and tokenizer saved successfully.\n"
          ]
        }
      ]
    },
    {
      "cell_type": "code",
      "source": [
        "from transformers import AutoModelForSequenceClassification, AutoTokenizer, pipeline\n",
        "\n",
        "# Load the saved model and tokenizer\n",
        "model = AutoModelForSequenceClassification.from_pretrained('./my_trading_model')\n",
        "tokenizer = AutoTokenizer.from_pretrained('./my_trading_model')\n",
        "\n",
        "# Create a sentiment analysis pipeline\n",
        "sentiment_analysis = pipeline('sentiment-analysis', model=model, tokenizer=tokenizer)\n",
        "\n",
        "# Example interaction\n",
        "response = sentiment_analysis(\"how are you.\")\n",
        "print(response)\n"
      ],
      "metadata": {
        "colab": {
          "base_uri": "https://localhost:8080/"
        },
        "id": "iXAkmGrCCaCv",
        "outputId": "cccdeeb8-ab52-4387-d9d7-2ddbdafde398"
      },
      "execution_count": 13,
      "outputs": [
        {
          "output_type": "stream",
          "name": "stdout",
          "text": [
            "[{'label': 'LABEL_0', 'score': 0.9171234369277954}]\n"
          ]
        }
      ]
    },
    {
      "cell_type": "code",
      "source": [
        "# Evaluate the model\n",
        "results = trainer.evaluate()\n",
        "print(results)\n"
      ],
      "metadata": {
        "colab": {
          "base_uri": "https://localhost:8080/",
          "height": 74
        },
        "id": "3LQXzPpPDf5i",
        "outputId": "3a3bcdb9-9e9f-46d3-b936-492a31a7cd35"
      },
      "execution_count": 14,
      "outputs": [
        {
          "output_type": "display_data",
          "data": {
            "text/plain": [
              "<IPython.core.display.HTML object>"
            ],
            "text/html": [
              "\n",
              "    <div>\n",
              "      \n",
              "      <progress value='19' max='19' style='width:300px; height:20px; vertical-align: middle;'></progress>\n",
              "      [19/19 04:12]\n",
              "    </div>\n",
              "    "
            ]
          },
          "metadata": {}
        },
        {
          "output_type": "stream",
          "name": "stdout",
          "text": [
            "{'eval_loss': 0.00031001531169749796, 'eval_runtime': 276.2895, 'eval_samples_per_second': 0.55, 'eval_steps_per_second': 0.069, 'epoch': 1.0}\n"
          ]
        }
      ]
    },
    {
      "cell_type": "code",
      "source": [
        "from transformers import pipeline\n",
        "\n",
        "# Load the saved model and tokenizer\n",
        "model = AutoModelForSequenceClassification.from_pretrained('./my_trading_model')\n",
        "tokenizer = AutoTokenizer.from_pretrained('./my_trading_model')\n",
        "\n",
        "# Create a sentiment analysis pipeline\n",
        "sentiment_analysis = pipeline('sentiment-analysis', model=model, tokenizer=tokenizer)\n",
        "\n",
        "# Example interaction\n",
        "response = sentiment_analysis(\"The stock market is performing well today.\")\n",
        "print(response)\n"
      ],
      "metadata": {
        "colab": {
          "base_uri": "https://localhost:8080/"
        },
        "id": "ahGArzFRGMsT",
        "outputId": "26e75d0c-3aa1-4757-ebdd-495f473b60c6"
      },
      "execution_count": 15,
      "outputs": [
        {
          "output_type": "stream",
          "name": "stdout",
          "text": [
            "[{'label': 'LABEL_0', 'score': 0.999690055847168}]\n"
          ]
        }
      ]
    },
    {
      "cell_type": "code",
      "source": [
        "import requests\n",
        "\n",
        "def get_crypto_data(symbol, interval='1m', limit=100):\n",
        "    url = f'https://api.binance.com/api/v3/klines?symbol={symbol}&interval={interval}&limit={limit}'\n",
        "    response = requests.get(url)\n",
        "    data = response.json()\n",
        "    return data\n",
        "\n",
        "# Example: Fetch data for Bitcoin (BTC)\n",
        "crypto_data = get_crypto_data('BTCUSDT')\n",
        "print(crypto_data)\n"
      ],
      "metadata": {
        "colab": {
          "base_uri": "https://localhost:8080/"
        },
        "id": "7ad2DwoAGTLJ",
        "outputId": "53e22850-fcb6-41f6-f313-9acf83885273"
      },
      "execution_count": 16,
      "outputs": [
        {
          "output_type": "stream",
          "name": "stdout",
          "text": [
            "{'code': 0, 'msg': \"Service unavailable from a restricted location according to 'b. Eligibility' in https://www.binance.com/en/terms. Please contact customer service if you believe you received this message in error.\"}\n"
          ]
        }
      ]
    },
    {
      "cell_type": "code",
      "source": [
        "!pip install gtts\n",
        "!pip install SpeechRecognition\n",
        "!pip install pydub\n"
      ],
      "metadata": {
        "id": "iDQfF-CIHR-U",
        "colab": {
          "base_uri": "https://localhost:8080/"
        },
        "outputId": "36b82df0-173c-4895-8476-e924948a5bb7"
      },
      "execution_count": 17,
      "outputs": [
        {
          "output_type": "stream",
          "name": "stdout",
          "text": [
            "Collecting gtts\n",
            "  Downloading gTTS-2.5.1-py3-none-any.whl (29 kB)\n",
            "Requirement already satisfied: requests<3,>=2.27 in /usr/local/lib/python3.10/dist-packages (from gtts) (2.31.0)\n",
            "Requirement already satisfied: click<8.2,>=7.1 in /usr/local/lib/python3.10/dist-packages (from gtts) (8.1.7)\n",
            "Requirement already satisfied: charset-normalizer<4,>=2 in /usr/local/lib/python3.10/dist-packages (from requests<3,>=2.27->gtts) (3.3.2)\n",
            "Requirement already satisfied: idna<4,>=2.5 in /usr/local/lib/python3.10/dist-packages (from requests<3,>=2.27->gtts) (3.7)\n",
            "Requirement already satisfied: urllib3<3,>=1.21.1 in /usr/local/lib/python3.10/dist-packages (from requests<3,>=2.27->gtts) (2.0.7)\n",
            "Requirement already satisfied: certifi>=2017.4.17 in /usr/local/lib/python3.10/dist-packages (from requests<3,>=2.27->gtts) (2024.2.2)\n",
            "Installing collected packages: gtts\n",
            "Successfully installed gtts-2.5.1\n",
            "Collecting SpeechRecognition\n",
            "  Downloading SpeechRecognition-3.10.4-py2.py3-none-any.whl (32.8 MB)\n",
            "\u001b[2K     \u001b[90m━━━━━━━━━━━━━━━━━━━━━━━━━━━━━━━━━━━━━━━━\u001b[0m \u001b[32m32.8/32.8 MB\u001b[0m \u001b[31m13.5 MB/s\u001b[0m eta \u001b[36m0:00:00\u001b[0m\n",
            "\u001b[?25hRequirement already satisfied: requests>=2.26.0 in /usr/local/lib/python3.10/dist-packages (from SpeechRecognition) (2.31.0)\n",
            "Requirement already satisfied: typing-extensions in /usr/local/lib/python3.10/dist-packages (from SpeechRecognition) (4.11.0)\n",
            "Requirement already satisfied: charset-normalizer<4,>=2 in /usr/local/lib/python3.10/dist-packages (from requests>=2.26.0->SpeechRecognition) (3.3.2)\n",
            "Requirement already satisfied: idna<4,>=2.5 in /usr/local/lib/python3.10/dist-packages (from requests>=2.26.0->SpeechRecognition) (3.7)\n",
            "Requirement already satisfied: urllib3<3,>=1.21.1 in /usr/local/lib/python3.10/dist-packages (from requests>=2.26.0->SpeechRecognition) (2.0.7)\n",
            "Requirement already satisfied: certifi>=2017.4.17 in /usr/local/lib/python3.10/dist-packages (from requests>=2.26.0->SpeechRecognition) (2024.2.2)\n",
            "Installing collected packages: SpeechRecognition\n",
            "Successfully installed SpeechRecognition-3.10.4\n",
            "Collecting pydub\n",
            "  Downloading pydub-0.25.1-py2.py3-none-any.whl (32 kB)\n",
            "Installing collected packages: pydub\n",
            "Successfully installed pydub-0.25.1\n"
          ]
        }
      ]
    },
    {
      "cell_type": "code",
      "source": [
        "!apt-get install -y portaudio19-dev\n",
        "!pip install pyaudio\n",
        "!pip install gtts\n",
        "!pip install SpeechRecognition\n",
        "!pip install pydub\n"
      ],
      "metadata": {
        "colab": {
          "base_uri": "https://localhost:8080/"
        },
        "id": "2SroQhoXH0f3",
        "outputId": "7cc1b2dc-2a10-47b1-9b70-edc45e611373"
      },
      "execution_count": 18,
      "outputs": [
        {
          "output_type": "stream",
          "name": "stdout",
          "text": [
            "Reading package lists... Done\n",
            "Building dependency tree... Done\n",
            "Reading state information... Done\n",
            "The following additional packages will be installed:\n",
            "  libportaudio2 libportaudiocpp0\n",
            "Suggested packages:\n",
            "  portaudio19-doc\n",
            "The following NEW packages will be installed:\n",
            "  libportaudio2 libportaudiocpp0 portaudio19-dev\n",
            "0 upgraded, 3 newly installed, 0 to remove and 45 not upgraded.\n",
            "Need to get 188 kB of archives.\n",
            "After this operation, 927 kB of additional disk space will be used.\n",
            "Get:1 http://archive.ubuntu.com/ubuntu jammy/universe amd64 libportaudio2 amd64 19.6.0-1.1 [65.3 kB]\n",
            "Get:2 http://archive.ubuntu.com/ubuntu jammy/universe amd64 libportaudiocpp0 amd64 19.6.0-1.1 [16.1 kB]\n",
            "Get:3 http://archive.ubuntu.com/ubuntu jammy/universe amd64 portaudio19-dev amd64 19.6.0-1.1 [106 kB]\n",
            "Fetched 188 kB in 1s (191 kB/s)\n",
            "Selecting previously unselected package libportaudio2:amd64.\n",
            "(Reading database ... 121918 files and directories currently installed.)\n",
            "Preparing to unpack .../libportaudio2_19.6.0-1.1_amd64.deb ...\n",
            "Unpacking libportaudio2:amd64 (19.6.0-1.1) ...\n",
            "Selecting previously unselected package libportaudiocpp0:amd64.\n",
            "Preparing to unpack .../libportaudiocpp0_19.6.0-1.1_amd64.deb ...\n",
            "Unpacking libportaudiocpp0:amd64 (19.6.0-1.1) ...\n",
            "Selecting previously unselected package portaudio19-dev:amd64.\n",
            "Preparing to unpack .../portaudio19-dev_19.6.0-1.1_amd64.deb ...\n",
            "Unpacking portaudio19-dev:amd64 (19.6.0-1.1) ...\n",
            "Setting up libportaudio2:amd64 (19.6.0-1.1) ...\n",
            "Setting up libportaudiocpp0:amd64 (19.6.0-1.1) ...\n",
            "Setting up portaudio19-dev:amd64 (19.6.0-1.1) ...\n",
            "Processing triggers for libc-bin (2.35-0ubuntu3.4) ...\n",
            "/sbin/ldconfig.real: /usr/local/lib/libtbb.so.12 is not a symbolic link\n",
            "\n",
            "/sbin/ldconfig.real: /usr/local/lib/libtbbbind_2_0.so.3 is not a symbolic link\n",
            "\n",
            "/sbin/ldconfig.real: /usr/local/lib/libtbbmalloc.so.2 is not a symbolic link\n",
            "\n",
            "/sbin/ldconfig.real: /usr/local/lib/libtbbbind.so.3 is not a symbolic link\n",
            "\n",
            "/sbin/ldconfig.real: /usr/local/lib/libtbbmalloc_proxy.so.2 is not a symbolic link\n",
            "\n",
            "/sbin/ldconfig.real: /usr/local/lib/libtbbbind_2_5.so.3 is not a symbolic link\n",
            "\n",
            "Collecting pyaudio\n",
            "  Downloading PyAudio-0.2.14.tar.gz (47 kB)\n",
            "\u001b[2K     \u001b[90m━━━━━━━━━━━━━━━━━━━━━━━━━━━━━━━━━━━━━━━━\u001b[0m \u001b[32m47.1/47.1 kB\u001b[0m \u001b[31m2.0 MB/s\u001b[0m eta \u001b[36m0:00:00\u001b[0m\n",
            "\u001b[?25h  Installing build dependencies ... \u001b[?25l\u001b[?25hdone\n",
            "  Getting requirements to build wheel ... \u001b[?25l\u001b[?25hdone\n",
            "  Preparing metadata (pyproject.toml) ... \u001b[?25l\u001b[?25hdone\n",
            "Building wheels for collected packages: pyaudio\n",
            "  Building wheel for pyaudio (pyproject.toml) ... \u001b[?25l\u001b[?25hdone\n",
            "  Created wheel for pyaudio: filename=PyAudio-0.2.14-cp310-cp310-linux_x86_64.whl size=63859 sha256=34cc84567bbb15d7a33e0cda30a251ff1e017dc5808ccd2484561afad421fba2\n",
            "  Stored in directory: /root/.cache/pip/wheels/d6/21/f4/0b51d41ba79e51b16295cbb096ec49f334792814d545b508c5\n",
            "Successfully built pyaudio\n",
            "Installing collected packages: pyaudio\n",
            "Successfully installed pyaudio-0.2.14\n",
            "Requirement already satisfied: gtts in /usr/local/lib/python3.10/dist-packages (2.5.1)\n",
            "Requirement already satisfied: requests<3,>=2.27 in /usr/local/lib/python3.10/dist-packages (from gtts) (2.31.0)\n",
            "Requirement already satisfied: click<8.2,>=7.1 in /usr/local/lib/python3.10/dist-packages (from gtts) (8.1.7)\n",
            "Requirement already satisfied: charset-normalizer<4,>=2 in /usr/local/lib/python3.10/dist-packages (from requests<3,>=2.27->gtts) (3.3.2)\n",
            "Requirement already satisfied: idna<4,>=2.5 in /usr/local/lib/python3.10/dist-packages (from requests<3,>=2.27->gtts) (3.7)\n",
            "Requirement already satisfied: urllib3<3,>=1.21.1 in /usr/local/lib/python3.10/dist-packages (from requests<3,>=2.27->gtts) (2.0.7)\n",
            "Requirement already satisfied: certifi>=2017.4.17 in /usr/local/lib/python3.10/dist-packages (from requests<3,>=2.27->gtts) (2024.2.2)\n",
            "Requirement already satisfied: SpeechRecognition in /usr/local/lib/python3.10/dist-packages (3.10.4)\n",
            "Requirement already satisfied: requests>=2.26.0 in /usr/local/lib/python3.10/dist-packages (from SpeechRecognition) (2.31.0)\n",
            "Requirement already satisfied: typing-extensions in /usr/local/lib/python3.10/dist-packages (from SpeechRecognition) (4.11.0)\n",
            "Requirement already satisfied: charset-normalizer<4,>=2 in /usr/local/lib/python3.10/dist-packages (from requests>=2.26.0->SpeechRecognition) (3.3.2)\n",
            "Requirement already satisfied: idna<4,>=2.5 in /usr/local/lib/python3.10/dist-packages (from requests>=2.26.0->SpeechRecognition) (3.7)\n",
            "Requirement already satisfied: urllib3<3,>=1.21.1 in /usr/local/lib/python3.10/dist-packages (from requests>=2.26.0->SpeechRecognition) (2.0.7)\n",
            "Requirement already satisfied: certifi>=2017.4.17 in /usr/local/lib/python3.10/dist-packages (from requests>=2.26.0->SpeechRecognition) (2024.2.2)\n",
            "Requirement already satisfied: pydub in /usr/local/lib/python3.10/dist-packages (0.25.1)\n"
          ]
        }
      ]
    },
    {
      "cell_type": "code",
      "source": [
        "from google.colab import files\n",
        "uploaded = files.upload()\n",
        "\n",
        "# Assuming the audio file name is 'audio.wav'\n",
        "audio_file = 'audio.wav'\n"
      ],
      "metadata": {
        "colab": {
          "base_uri": "https://localhost:8080/",
          "height": 73
        },
        "id": "PosgJOOcISi_",
        "outputId": "bafd2cd4-819b-4622-90fb-f5cc305a00c8"
      },
      "execution_count": 19,
      "outputs": [
        {
          "output_type": "display_data",
          "data": {
            "text/plain": [
              "<IPython.core.display.HTML object>"
            ],
            "text/html": [
              "\n",
              "     <input type=\"file\" id=\"files-7c5e66b9-c9e5-43d6-a184-bf1303d81cb8\" name=\"files[]\" multiple disabled\n",
              "        style=\"border:none\" />\n",
              "     <output id=\"result-7c5e66b9-c9e5-43d6-a184-bf1303d81cb8\">\n",
              "      Upload widget is only available when the cell has been executed in the\n",
              "      current browser session. Please rerun this cell to enable.\n",
              "      </output>\n",
              "      <script>// Copyright 2017 Google LLC\n",
              "//\n",
              "// Licensed under the Apache License, Version 2.0 (the \"License\");\n",
              "// you may not use this file except in compliance with the License.\n",
              "// You may obtain a copy of the License at\n",
              "//\n",
              "//      http://www.apache.org/licenses/LICENSE-2.0\n",
              "//\n",
              "// Unless required by applicable law or agreed to in writing, software\n",
              "// distributed under the License is distributed on an \"AS IS\" BASIS,\n",
              "// WITHOUT WARRANTIES OR CONDITIONS OF ANY KIND, either express or implied.\n",
              "// See the License for the specific language governing permissions and\n",
              "// limitations under the License.\n",
              "\n",
              "/**\n",
              " * @fileoverview Helpers for google.colab Python module.\n",
              " */\n",
              "(function(scope) {\n",
              "function span(text, styleAttributes = {}) {\n",
              "  const element = document.createElement('span');\n",
              "  element.textContent = text;\n",
              "  for (const key of Object.keys(styleAttributes)) {\n",
              "    element.style[key] = styleAttributes[key];\n",
              "  }\n",
              "  return element;\n",
              "}\n",
              "\n",
              "// Max number of bytes which will be uploaded at a time.\n",
              "const MAX_PAYLOAD_SIZE = 100 * 1024;\n",
              "\n",
              "function _uploadFiles(inputId, outputId) {\n",
              "  const steps = uploadFilesStep(inputId, outputId);\n",
              "  const outputElement = document.getElementById(outputId);\n",
              "  // Cache steps on the outputElement to make it available for the next call\n",
              "  // to uploadFilesContinue from Python.\n",
              "  outputElement.steps = steps;\n",
              "\n",
              "  return _uploadFilesContinue(outputId);\n",
              "}\n",
              "\n",
              "// This is roughly an async generator (not supported in the browser yet),\n",
              "// where there are multiple asynchronous steps and the Python side is going\n",
              "// to poll for completion of each step.\n",
              "// This uses a Promise to block the python side on completion of each step,\n",
              "// then passes the result of the previous step as the input to the next step.\n",
              "function _uploadFilesContinue(outputId) {\n",
              "  const outputElement = document.getElementById(outputId);\n",
              "  const steps = outputElement.steps;\n",
              "\n",
              "  const next = steps.next(outputElement.lastPromiseValue);\n",
              "  return Promise.resolve(next.value.promise).then((value) => {\n",
              "    // Cache the last promise value to make it available to the next\n",
              "    // step of the generator.\n",
              "    outputElement.lastPromiseValue = value;\n",
              "    return next.value.response;\n",
              "  });\n",
              "}\n",
              "\n",
              "/**\n",
              " * Generator function which is called between each async step of the upload\n",
              " * process.\n",
              " * @param {string} inputId Element ID of the input file picker element.\n",
              " * @param {string} outputId Element ID of the output display.\n",
              " * @return {!Iterable<!Object>} Iterable of next steps.\n",
              " */\n",
              "function* uploadFilesStep(inputId, outputId) {\n",
              "  const inputElement = document.getElementById(inputId);\n",
              "  inputElement.disabled = false;\n",
              "\n",
              "  const outputElement = document.getElementById(outputId);\n",
              "  outputElement.innerHTML = '';\n",
              "\n",
              "  const pickedPromise = new Promise((resolve) => {\n",
              "    inputElement.addEventListener('change', (e) => {\n",
              "      resolve(e.target.files);\n",
              "    });\n",
              "  });\n",
              "\n",
              "  const cancel = document.createElement('button');\n",
              "  inputElement.parentElement.appendChild(cancel);\n",
              "  cancel.textContent = 'Cancel upload';\n",
              "  const cancelPromise = new Promise((resolve) => {\n",
              "    cancel.onclick = () => {\n",
              "      resolve(null);\n",
              "    };\n",
              "  });\n",
              "\n",
              "  // Wait for the user to pick the files.\n",
              "  const files = yield {\n",
              "    promise: Promise.race([pickedPromise, cancelPromise]),\n",
              "    response: {\n",
              "      action: 'starting',\n",
              "    }\n",
              "  };\n",
              "\n",
              "  cancel.remove();\n",
              "\n",
              "  // Disable the input element since further picks are not allowed.\n",
              "  inputElement.disabled = true;\n",
              "\n",
              "  if (!files) {\n",
              "    return {\n",
              "      response: {\n",
              "        action: 'complete',\n",
              "      }\n",
              "    };\n",
              "  }\n",
              "\n",
              "  for (const file of files) {\n",
              "    const li = document.createElement('li');\n",
              "    li.append(span(file.name, {fontWeight: 'bold'}));\n",
              "    li.append(span(\n",
              "        `(${file.type || 'n/a'}) - ${file.size} bytes, ` +\n",
              "        `last modified: ${\n",
              "            file.lastModifiedDate ? file.lastModifiedDate.toLocaleDateString() :\n",
              "                                    'n/a'} - `));\n",
              "    const percent = span('0% done');\n",
              "    li.appendChild(percent);\n",
              "\n",
              "    outputElement.appendChild(li);\n",
              "\n",
              "    const fileDataPromise = new Promise((resolve) => {\n",
              "      const reader = new FileReader();\n",
              "      reader.onload = (e) => {\n",
              "        resolve(e.target.result);\n",
              "      };\n",
              "      reader.readAsArrayBuffer(file);\n",
              "    });\n",
              "    // Wait for the data to be ready.\n",
              "    let fileData = yield {\n",
              "      promise: fileDataPromise,\n",
              "      response: {\n",
              "        action: 'continue',\n",
              "      }\n",
              "    };\n",
              "\n",
              "    // Use a chunked sending to avoid message size limits. See b/62115660.\n",
              "    let position = 0;\n",
              "    do {\n",
              "      const length = Math.min(fileData.byteLength - position, MAX_PAYLOAD_SIZE);\n",
              "      const chunk = new Uint8Array(fileData, position, length);\n",
              "      position += length;\n",
              "\n",
              "      const base64 = btoa(String.fromCharCode.apply(null, chunk));\n",
              "      yield {\n",
              "        response: {\n",
              "          action: 'append',\n",
              "          file: file.name,\n",
              "          data: base64,\n",
              "        },\n",
              "      };\n",
              "\n",
              "      let percentDone = fileData.byteLength === 0 ?\n",
              "          100 :\n",
              "          Math.round((position / fileData.byteLength) * 100);\n",
              "      percent.textContent = `${percentDone}% done`;\n",
              "\n",
              "    } while (position < fileData.byteLength);\n",
              "  }\n",
              "\n",
              "  // All done.\n",
              "  yield {\n",
              "    response: {\n",
              "      action: 'complete',\n",
              "    }\n",
              "  };\n",
              "}\n",
              "\n",
              "scope.google = scope.google || {};\n",
              "scope.google.colab = scope.google.colab || {};\n",
              "scope.google.colab._files = {\n",
              "  _uploadFiles,\n",
              "  _uploadFilesContinue,\n",
              "};\n",
              "})(self);\n",
              "</script> "
            ]
          },
          "metadata": {}
        },
        {
          "output_type": "stream",
          "name": "stdout",
          "text": [
            "Saving harvard.wav to harvard.wav\n"
          ]
        }
      ]
    },
    {
      "cell_type": "code",
      "source": [
        "from google.colab import files\n",
        "uploaded = files.upload()\n",
        "\n",
        "# Display the name of the uploaded file\n",
        "for file_name in uploaded.keys():\n",
        "    print(file_name)\n",
        "\n",
        "# Ensure the uploaded file name is assigned correctly\n",
        "audio_file = list(uploaded.keys())[0]\n",
        "print(\"Using audio file: \", audio_file)\n"
      ],
      "metadata": {
        "colab": {
          "base_uri": "https://localhost:8080/",
          "height": 107
        },
        "id": "uIjW2fQ0Nq0E",
        "outputId": "d0525a74-7347-4dbf-be71-9258784ee815"
      },
      "execution_count": 20,
      "outputs": [
        {
          "output_type": "display_data",
          "data": {
            "text/plain": [
              "<IPython.core.display.HTML object>"
            ],
            "text/html": [
              "\n",
              "     <input type=\"file\" id=\"files-7fcb1f17-3031-4e84-8be1-01418a378a0e\" name=\"files[]\" multiple disabled\n",
              "        style=\"border:none\" />\n",
              "     <output id=\"result-7fcb1f17-3031-4e84-8be1-01418a378a0e\">\n",
              "      Upload widget is only available when the cell has been executed in the\n",
              "      current browser session. Please rerun this cell to enable.\n",
              "      </output>\n",
              "      <script>// Copyright 2017 Google LLC\n",
              "//\n",
              "// Licensed under the Apache License, Version 2.0 (the \"License\");\n",
              "// you may not use this file except in compliance with the License.\n",
              "// You may obtain a copy of the License at\n",
              "//\n",
              "//      http://www.apache.org/licenses/LICENSE-2.0\n",
              "//\n",
              "// Unless required by applicable law or agreed to in writing, software\n",
              "// distributed under the License is distributed on an \"AS IS\" BASIS,\n",
              "// WITHOUT WARRANTIES OR CONDITIONS OF ANY KIND, either express or implied.\n",
              "// See the License for the specific language governing permissions and\n",
              "// limitations under the License.\n",
              "\n",
              "/**\n",
              " * @fileoverview Helpers for google.colab Python module.\n",
              " */\n",
              "(function(scope) {\n",
              "function span(text, styleAttributes = {}) {\n",
              "  const element = document.createElement('span');\n",
              "  element.textContent = text;\n",
              "  for (const key of Object.keys(styleAttributes)) {\n",
              "    element.style[key] = styleAttributes[key];\n",
              "  }\n",
              "  return element;\n",
              "}\n",
              "\n",
              "// Max number of bytes which will be uploaded at a time.\n",
              "const MAX_PAYLOAD_SIZE = 100 * 1024;\n",
              "\n",
              "function _uploadFiles(inputId, outputId) {\n",
              "  const steps = uploadFilesStep(inputId, outputId);\n",
              "  const outputElement = document.getElementById(outputId);\n",
              "  // Cache steps on the outputElement to make it available for the next call\n",
              "  // to uploadFilesContinue from Python.\n",
              "  outputElement.steps = steps;\n",
              "\n",
              "  return _uploadFilesContinue(outputId);\n",
              "}\n",
              "\n",
              "// This is roughly an async generator (not supported in the browser yet),\n",
              "// where there are multiple asynchronous steps and the Python side is going\n",
              "// to poll for completion of each step.\n",
              "// This uses a Promise to block the python side on completion of each step,\n",
              "// then passes the result of the previous step as the input to the next step.\n",
              "function _uploadFilesContinue(outputId) {\n",
              "  const outputElement = document.getElementById(outputId);\n",
              "  const steps = outputElement.steps;\n",
              "\n",
              "  const next = steps.next(outputElement.lastPromiseValue);\n",
              "  return Promise.resolve(next.value.promise).then((value) => {\n",
              "    // Cache the last promise value to make it available to the next\n",
              "    // step of the generator.\n",
              "    outputElement.lastPromiseValue = value;\n",
              "    return next.value.response;\n",
              "  });\n",
              "}\n",
              "\n",
              "/**\n",
              " * Generator function which is called between each async step of the upload\n",
              " * process.\n",
              " * @param {string} inputId Element ID of the input file picker element.\n",
              " * @param {string} outputId Element ID of the output display.\n",
              " * @return {!Iterable<!Object>} Iterable of next steps.\n",
              " */\n",
              "function* uploadFilesStep(inputId, outputId) {\n",
              "  const inputElement = document.getElementById(inputId);\n",
              "  inputElement.disabled = false;\n",
              "\n",
              "  const outputElement = document.getElementById(outputId);\n",
              "  outputElement.innerHTML = '';\n",
              "\n",
              "  const pickedPromise = new Promise((resolve) => {\n",
              "    inputElement.addEventListener('change', (e) => {\n",
              "      resolve(e.target.files);\n",
              "    });\n",
              "  });\n",
              "\n",
              "  const cancel = document.createElement('button');\n",
              "  inputElement.parentElement.appendChild(cancel);\n",
              "  cancel.textContent = 'Cancel upload';\n",
              "  const cancelPromise = new Promise((resolve) => {\n",
              "    cancel.onclick = () => {\n",
              "      resolve(null);\n",
              "    };\n",
              "  });\n",
              "\n",
              "  // Wait for the user to pick the files.\n",
              "  const files = yield {\n",
              "    promise: Promise.race([pickedPromise, cancelPromise]),\n",
              "    response: {\n",
              "      action: 'starting',\n",
              "    }\n",
              "  };\n",
              "\n",
              "  cancel.remove();\n",
              "\n",
              "  // Disable the input element since further picks are not allowed.\n",
              "  inputElement.disabled = true;\n",
              "\n",
              "  if (!files) {\n",
              "    return {\n",
              "      response: {\n",
              "        action: 'complete',\n",
              "      }\n",
              "    };\n",
              "  }\n",
              "\n",
              "  for (const file of files) {\n",
              "    const li = document.createElement('li');\n",
              "    li.append(span(file.name, {fontWeight: 'bold'}));\n",
              "    li.append(span(\n",
              "        `(${file.type || 'n/a'}) - ${file.size} bytes, ` +\n",
              "        `last modified: ${\n",
              "            file.lastModifiedDate ? file.lastModifiedDate.toLocaleDateString() :\n",
              "                                    'n/a'} - `));\n",
              "    const percent = span('0% done');\n",
              "    li.appendChild(percent);\n",
              "\n",
              "    outputElement.appendChild(li);\n",
              "\n",
              "    const fileDataPromise = new Promise((resolve) => {\n",
              "      const reader = new FileReader();\n",
              "      reader.onload = (e) => {\n",
              "        resolve(e.target.result);\n",
              "      };\n",
              "      reader.readAsArrayBuffer(file);\n",
              "    });\n",
              "    // Wait for the data to be ready.\n",
              "    let fileData = yield {\n",
              "      promise: fileDataPromise,\n",
              "      response: {\n",
              "        action: 'continue',\n",
              "      }\n",
              "    };\n",
              "\n",
              "    // Use a chunked sending to avoid message size limits. See b/62115660.\n",
              "    let position = 0;\n",
              "    do {\n",
              "      const length = Math.min(fileData.byteLength - position, MAX_PAYLOAD_SIZE);\n",
              "      const chunk = new Uint8Array(fileData, position, length);\n",
              "      position += length;\n",
              "\n",
              "      const base64 = btoa(String.fromCharCode.apply(null, chunk));\n",
              "      yield {\n",
              "        response: {\n",
              "          action: 'append',\n",
              "          file: file.name,\n",
              "          data: base64,\n",
              "        },\n",
              "      };\n",
              "\n",
              "      let percentDone = fileData.byteLength === 0 ?\n",
              "          100 :\n",
              "          Math.round((position / fileData.byteLength) * 100);\n",
              "      percent.textContent = `${percentDone}% done`;\n",
              "\n",
              "    } while (position < fileData.byteLength);\n",
              "  }\n",
              "\n",
              "  // All done.\n",
              "  yield {\n",
              "    response: {\n",
              "      action: 'complete',\n",
              "    }\n",
              "  };\n",
              "}\n",
              "\n",
              "scope.google = scope.google || {};\n",
              "scope.google.colab = scope.google.colab || {};\n",
              "scope.google.colab._files = {\n",
              "  _uploadFiles,\n",
              "  _uploadFilesContinue,\n",
              "};\n",
              "})(self);\n",
              "</script> "
            ]
          },
          "metadata": {}
        },
        {
          "output_type": "stream",
          "name": "stdout",
          "text": [
            "Saving jackhammer.wav to jackhammer.wav\n",
            "jackhammer.wav\n",
            "Using audio file:  jackhammer.wav\n"
          ]
        }
      ]
    },
    {
      "cell_type": "code",
      "source": [
        "from pydub import AudioSegment\n",
        "\n",
        "# Convert the uploaded audio file to WAV format\n",
        "audio = AudioSegment.from_file(audio_file)\n",
        "wav_file = \"converted_audio.wav\"\n",
        "audio.export(wav_file, format=\"wav\")\n"
      ],
      "metadata": {
        "colab": {
          "base_uri": "https://localhost:8080/"
        },
        "id": "tC-hp0vgObnU",
        "outputId": "ec76c546-8aff-43d6-b93f-3b38da91574d"
      },
      "execution_count": 21,
      "outputs": [
        {
          "output_type": "execute_result",
          "data": {
            "text/plain": [
              "<_io.BufferedRandom name='converted_audio.wav'>"
            ]
          },
          "metadata": {},
          "execution_count": 21
        }
      ]
    },
    {
      "cell_type": "code",
      "source": [
        "import speech_recognition as sr\n",
        "from gtts import gTTS\n",
        "from IPython.display import Audio, display\n",
        "from transformers import pipeline, AutoModelForSequenceClassification, AutoTokenizer\n",
        "\n",
        "# Load the saved model and tokenizer\n",
        "model = AutoModelForSequenceClassification.from_pretrained('./my_trading_model')\n",
        "tokenizer = AutoTokenizer.from_pretrained('./my_trading_model')\n",
        "\n",
        "# Create a sentiment analysis pipeline\n",
        "sentiment_analysis = pipeline('sentiment-analysis', model=model, tokenizer=tokenizer)\n",
        "\n",
        "# Initialize the recognizer\n",
        "recognizer = sr.Recognizer()\n",
        "\n",
        "def listen_command(audio_file):\n",
        "    with sr.AudioFile(audio_file) as source:\n",
        "        audio = recognizer.record(source)\n",
        "        try:\n",
        "            command = recognizer.recognize_google(audio)\n",
        "            print(f\"User said: {command}\")\n",
        "            return command\n",
        "        except sr.UnknownValueError:\n",
        "            print(\"Sorry, I did not understand that.\")\n",
        "            return None\n",
        "\n",
        "def speak_response(response_text):\n",
        "    tts = gTTS(text=response_text, lang='en')\n",
        "    tts.save(\"response.mp3\")\n",
        "    display(Audio(\"response.mp3\", autoplay=True))\n",
        "\n",
        "# Example interaction\n",
        "command = listen_command(wav_file)\n",
        "if command:\n",
        "    response = sentiment_analysis(command)\n",
        "    print(response)\n",
        "    speak_response(response[0]['label'])\n"
      ],
      "metadata": {
        "colab": {
          "base_uri": "https://localhost:8080/",
          "height": 110
        },
        "id": "Ccg82rCvI-NF",
        "outputId": "8c091f41-b273-4ff7-b005-24739fe7daa6"
      },
      "execution_count": 22,
      "outputs": [
        {
          "output_type": "stream",
          "name": "stdout",
          "text": [
            "User said: does snails smell like old deer lingers\n",
            "[{'label': 'LABEL_0', 'score': 0.8702758550643921}]\n"
          ]
        },
        {
          "output_type": "display_data",
          "data": {
            "text/plain": [
              "<IPython.lib.display.Audio object>"
            ],
            "text/html": [
              "\n",
              "                <audio  controls=\"controls\" autoplay=\"autoplay\">\n",
              "                    <source src=\"data:audio/mpeg;base64,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\" type=\"audio/mpeg\" />\n",
              "                    Your browser does not support the audio element.\n",
              "                </audio>\n",
              "              "
            ]
          },
          "metadata": {}
        }
      ]
    },
    {
      "cell_type": "code",
      "source": [
        "import requests\n",
        "\n",
        "def get_crypto_data(symbol, interval='1m', limit=100):\n",
        "    url = f'https://api.binance.com/api/v3/klines?symbol={symbol}&interval={interval}&limit={limit}'\n",
        "    response = requests.get(url)\n",
        "    data = response.json()\n",
        "    return data\n",
        "\n",
        "# Example: Fetch data for Bitcoin (BTC)\n",
        "crypto_data = get_crypto_data('BTCUSDT')\n",
        "print(crypto_data)\n"
      ],
      "metadata": {
        "colab": {
          "base_uri": "https://localhost:8080/"
        },
        "id": "S7ubbyj-O9Za",
        "outputId": "4b794ea7-3e7d-4c85-e525-8bcc1bb362d5"
      },
      "execution_count": 23,
      "outputs": [
        {
          "output_type": "stream",
          "name": "stdout",
          "text": [
            "{'code': 0, 'msg': \"Service unavailable from a restricted location according to 'b. Eligibility' in https://www.binance.com/en/terms. Please contact customer service if you believe you received this message in error.\"}\n"
          ]
        }
      ]
    },
    {
      "cell_type": "code",
      "source": [
        "# Analyze fetched data (example)\n",
        "def analyze_crypto_data(data):\n",
        "    # Placeholder for analysis logic\n",
        "    analysis_result = \"The market is showing an uptrend.\"\n",
        "    return analysis_result\n",
        "\n",
        "# Fetch and analyze data for Bitcoin\n",
        "crypto_data = get_crypto_data('BTCUSDT')\n",
        "analysis_result = analyze_crypto_data(crypto_data)\n",
        "print(analysis_result)\n"
      ],
      "metadata": {
        "colab": {
          "base_uri": "https://localhost:8080/"
        },
        "id": "D13VdYjqO-ty",
        "outputId": "dccad2e4-6daf-4972-fe47-c2692a795a68"
      },
      "execution_count": 24,
      "outputs": [
        {
          "output_type": "stream",
          "name": "stdout",
          "text": [
            "The market is showing an uptrend.\n"
          ]
        }
      ]
    },
    {
      "cell_type": "code",
      "source": [
        "import speech_recognition as sr\n",
        "from gtts import gTTS\n",
        "from IPython.display import Audio, display\n",
        "from transformers import pipeline, AutoModelForSequenceClassification, AutoTokenizer\n",
        "\n",
        "# Load the saved model and tokenizer\n",
        "model = AutoModelForSequenceClassification.from_pretrained('./my_trading_model')\n",
        "tokenizer = AutoTokenizer.from_pretrained('./my_trading_model')\n",
        "\n",
        "# Create a sentiment analysis pipeline\n",
        "sentiment_analysis = pipeline('sentiment-analysis', model=model, tokenizer=tokenizer)\n",
        "\n",
        "# Initialize the recognizer\n",
        "recognizer = sr.Recognizer()\n",
        "\n",
        "def listen_command(audio_file):\n",
        "    with sr.AudioFile(audio_file) as source:\n",
        "        audio = recognizer.record(source)\n",
        "        try:\n",
        "            command = recognizer.recognize_google(audio)\n",
        "            print(f\"User said: {command}\")\n",
        "            return command\n",
        "        except sr.UnknownValueError:\n",
        "            print(\"Sorry, I did not understand that.\")\n",
        "            return None\n",
        "\n",
        "def speak_response(response_text):\n",
        "    tts = gTTS(text=response_text, lang='en')\n",
        "    tts.save(\"response.mp3\")\n",
        "    display(Audio(\"response.mp3\", autoplay=True))\n",
        "\n",
        "def get_crypto_data(symbol, interval='1m', limit=100):\n",
        "    url = f'https://api.binance.com/api/v3/klines?symbol={symbol}&interval={interval}&limit={limit}'\n",
        "    response = requests.get(url)\n",
        "    data = response.json()\n",
        "    return data\n",
        "\n",
        "def analyze_crypto_data(data):\n",
        "    # Placeholder for analysis logic\n",
        "    analysis_result = \"The market is showing an uptrend.\"\n",
        "    return analysis_result\n",
        "\n",
        "# Example interaction\n",
        "command = listen_command('converted_audio.wav')\n",
        "if command:\n",
        "    response = sentiment_analysis(command)\n",
        "    print(response)\n",
        "    analysis_result = analyze_crypto_data(get_crypto_data('BTCUSDT'))\n",
        "    full_response = analysis_result\n",
        "    print(full_response)\n",
        "    speak_response(full_response)\n"
      ],
      "metadata": {
        "colab": {
          "base_uri": "https://localhost:8080/",
          "height": 127
        },
        "id": "8-fW3He5PBGZ",
        "outputId": "7234709e-bbdf-4039-d805-bd7cc319ea01"
      },
      "execution_count": 31,
      "outputs": [
        {
          "output_type": "stream",
          "name": "stdout",
          "text": [
            "User said: does snails smell like old deer lingers\n",
            "[{'label': 'LABEL_0', 'score': 0.8702758550643921}]\n",
            "The market is showing an uptrend.\n"
          ]
        },
        {
          "output_type": "display_data",
          "data": {
            "text/plain": [
              "<IPython.lib.display.Audio object>"
            ],
            "text/html": [
              "\n",
              "                <audio  controls=\"controls\" autoplay=\"autoplay\">\n",
              "                    <source src=\"data:audio/mpeg;base64,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\" type=\"audio/mpeg\" />\n",
              "                    Your browser does not support the audio element.\n",
              "                </audio>\n",
              "              "
            ]
          },
          "metadata": {}
        }
      ]
    },
    {
      "cell_type": "code",
      "source": [
        "!pip install plotly\n"
      ],
      "metadata": {
        "colab": {
          "base_uri": "https://localhost:8080/"
        },
        "id": "UIigcsJIPPRt",
        "outputId": "8a4e8448-3f53-4ea7-940c-021f7b3596e6"
      },
      "execution_count": 32,
      "outputs": [
        {
          "output_type": "stream",
          "name": "stdout",
          "text": [
            "Requirement already satisfied: plotly in /usr/local/lib/python3.10/dist-packages (5.15.0)\n",
            "Requirement already satisfied: tenacity>=6.2.0 in /usr/local/lib/python3.10/dist-packages (from plotly) (8.3.0)\n",
            "Requirement already satisfied: packaging in /usr/local/lib/python3.10/dist-packages (from plotly) (24.0)\n"
          ]
        }
      ]
    },
    {
      "cell_type": "code",
      "source": [
        "import plotly.graph_objects as go\n",
        "import pandas as pd\n",
        "\n",
        "def plot_crypto_chart(data):\n",
        "    df = pd.DataFrame(data, columns=['timestamp', 'open', 'high', 'low', 'close', 'volume', 'close_time', 'quote_asset_volume', 'number_of_trades', 'taker_buy_base_asset_volume', 'taker_buy_quote_asset_volume', 'ignore'])\n",
        "    df['timestamp'] = pd.to_datetime(df['timestamp'], unit='ms')\n",
        "\n",
        "    fig = go.Figure(data=[go.Candlestick(x=df['timestamp'],\n",
        "                                         open=df['open'],\n",
        "                                         high=df['high'],\n",
        "                                         low=df['low'],\n",
        "                                         close=df['close'])])\n",
        "    fig.update_layout(title='Cryptocurrency Price Chart', xaxis_title='Time', yaxis_title='Price')\n",
        "    fig.show()\n",
        "\n",
        "# Fetch and plot data for Bitcoin\n",
        "crypto_data = get_crypto_data('BTCUSDT')\n",
        "plot_crypto_chart(crypto_data)\n"
      ],
      "metadata": {
        "colab": {
          "base_uri": "https://localhost:8080/",
          "height": 542
        },
        "id": "vARwJYs8PTnk",
        "outputId": "5aaed7bb-a1a4-487f-ef59-a5524208a005"
      },
      "execution_count": 33,
      "outputs": [
        {
          "output_type": "display_data",
          "data": {
            "text/html": [
              "<html>\n",
              "<head><meta charset=\"utf-8\" /></head>\n",
              "<body>\n",
              "    <div>            <script src=\"https://cdnjs.cloudflare.com/ajax/libs/mathjax/2.7.5/MathJax.js?config=TeX-AMS-MML_SVG\"></script><script type=\"text/javascript\">if (window.MathJax && window.MathJax.Hub && window.MathJax.Hub.Config) {window.MathJax.Hub.Config({SVG: {font: \"STIX-Web\"}});}</script>                <script type=\"text/javascript\">window.PlotlyConfig = {MathJaxConfig: 'local'};</script>\n",
              "        <script charset=\"utf-8\" src=\"https://cdn.plot.ly/plotly-2.24.1.min.js\"></script>                <div id=\"1c709ef3-a40f-4ee5-be1c-7860e180b32d\" class=\"plotly-graph-div\" style=\"height:525px; width:100%;\"></div>            <script type=\"text/javascript\">                                    window.PLOTLYENV=window.PLOTLYENV || {};                                    if (document.getElementById(\"1c709ef3-a40f-4ee5-be1c-7860e180b32d\")) {                    Plotly.newPlot(                        \"1c709ef3-a40f-4ee5-be1c-7860e180b32d\",                        [{\"close\":[],\"high\":[],\"low\":[],\"open\":[],\"x\":[],\"type\":\"candlestick\"}],                        {\"template\":{\"data\":{\"histogram2dcontour\":[{\"type\":\"histogram2dcontour\",\"colorbar\":{\"outlinewidth\":0,\"ticks\":\"\"},\"colorscale\":[[0.0,\"#0d0887\"],[0.1111111111111111,\"#46039f\"],[0.2222222222222222,\"#7201a8\"],[0.3333333333333333,\"#9c179e\"],[0.4444444444444444,\"#bd3786\"],[0.5555555555555556,\"#d8576b\"],[0.6666666666666666,\"#ed7953\"],[0.7777777777777778,\"#fb9f3a\"],[0.8888888888888888,\"#fdca26\"],[1.0,\"#f0f921\"]]}],\"choropleth\":[{\"type\":\"choropleth\",\"colorbar\":{\"outlinewidth\":0,\"ticks\":\"\"}}],\"histogram2d\":[{\"type\":\"histogram2d\",\"colorbar\":{\"outlinewidth\":0,\"ticks\":\"\"},\"colorscale\":[[0.0,\"#0d0887\"],[0.1111111111111111,\"#46039f\"],[0.2222222222222222,\"#7201a8\"],[0.3333333333333333,\"#9c179e\"],[0.4444444444444444,\"#bd3786\"],[0.5555555555555556,\"#d8576b\"],[0.6666666666666666,\"#ed7953\"],[0.7777777777777778,\"#fb9f3a\"],[0.8888888888888888,\"#fdca26\"],[1.0,\"#f0f921\"]]}],\"heatmap\":[{\"type\":\"heatmap\",\"colorbar\":{\"outlinewidth\":0,\"ticks\":\"\"},\"colorscale\":[[0.0,\"#0d0887\"],[0.1111111111111111,\"#46039f\"],[0.2222222222222222,\"#7201a8\"],[0.3333333333333333,\"#9c179e\"],[0.4444444444444444,\"#bd3786\"],[0.5555555555555556,\"#d8576b\"],[0.6666666666666666,\"#ed7953\"],[0.7777777777777778,\"#fb9f3a\"],[0.8888888888888888,\"#fdca26\"],[1.0,\"#f0f921\"]]}],\"heatmapgl\":[{\"type\":\"heatmapgl\",\"colorbar\":{\"outlinewidth\":0,\"ticks\":\"\"},\"colorscale\":[[0.0,\"#0d0887\"],[0.1111111111111111,\"#46039f\"],[0.2222222222222222,\"#7201a8\"],[0.3333333333333333,\"#9c179e\"],[0.4444444444444444,\"#bd3786\"],[0.5555555555555556,\"#d8576b\"],[0.6666666666666666,\"#ed7953\"],[0.7777777777777778,\"#fb9f3a\"],[0.8888888888888888,\"#fdca26\"],[1.0,\"#f0f921\"]]}],\"contourcarpet\":[{\"type\":\"contourcarpet\",\"colorbar\":{\"outlinewidth\":0,\"ticks\":\"\"}}],\"contour\":[{\"type\":\"contour\",\"colorbar\":{\"outlinewidth\":0,\"ticks\":\"\"},\"colorscale\":[[0.0,\"#0d0887\"],[0.1111111111111111,\"#46039f\"],[0.2222222222222222,\"#7201a8\"],[0.3333333333333333,\"#9c179e\"],[0.4444444444444444,\"#bd3786\"],[0.5555555555555556,\"#d8576b\"],[0.6666666666666666,\"#ed7953\"],[0.7777777777777778,\"#fb9f3a\"],[0.8888888888888888,\"#fdca26\"],[1.0,\"#f0f921\"]]}],\"surface\":[{\"type\":\"surface\",\"colorbar\":{\"outlinewidth\":0,\"ticks\":\"\"},\"colorscale\":[[0.0,\"#0d0887\"],[0.1111111111111111,\"#46039f\"],[0.2222222222222222,\"#7201a8\"],[0.3333333333333333,\"#9c179e\"],[0.4444444444444444,\"#bd3786\"],[0.5555555555555556,\"#d8576b\"],[0.6666666666666666,\"#ed7953\"],[0.7777777777777778,\"#fb9f3a\"],[0.8888888888888888,\"#fdca26\"],[1.0,\"#f0f921\"]]}],\"mesh3d\":[{\"type\":\"mesh3d\",\"colorbar\":{\"outlinewidth\":0,\"ticks\":\"\"}}],\"scatter\":[{\"fillpattern\":{\"fillmode\":\"overlay\",\"size\":10,\"solidity\":0.2},\"type\":\"scatter\"}],\"parcoords\":[{\"type\":\"parcoords\",\"line\":{\"colorbar\":{\"outlinewidth\":0,\"ticks\":\"\"}}}],\"scatterpolargl\":[{\"type\":\"scatterpolargl\",\"marker\":{\"colorbar\":{\"outlinewidth\":0,\"ticks\":\"\"}}}],\"bar\":[{\"error_x\":{\"color\":\"#2a3f5f\"},\"error_y\":{\"color\":\"#2a3f5f\"},\"marker\":{\"line\":{\"color\":\"#E5ECF6\",\"width\":0.5},\"pattern\":{\"fillmode\":\"overlay\",\"size\":10,\"solidity\":0.2}},\"type\":\"bar\"}],\"scattergeo\":[{\"type\":\"scattergeo\",\"marker\":{\"colorbar\":{\"outlinewidth\":0,\"ticks\":\"\"}}}],\"scatterpolar\":[{\"type\":\"scatterpolar\",\"marker\":{\"colorbar\":{\"outlinewidth\":0,\"ticks\":\"\"}}}],\"histogram\":[{\"marker\":{\"pattern\":{\"fillmode\":\"overlay\",\"size\":10,\"solidity\":0.2}},\"type\":\"histogram\"}],\"scattergl\":[{\"type\":\"scattergl\",\"marker\":{\"colorbar\":{\"outlinewidth\":0,\"ticks\":\"\"}}}],\"scatter3d\":[{\"type\":\"scatter3d\",\"line\":{\"colorbar\":{\"outlinewidth\":0,\"ticks\":\"\"}},\"marker\":{\"colorbar\":{\"outlinewidth\":0,\"ticks\":\"\"}}}],\"scattermapbox\":[{\"type\":\"scattermapbox\",\"marker\":{\"colorbar\":{\"outlinewidth\":0,\"ticks\":\"\"}}}],\"scatterternary\":[{\"type\":\"scatterternary\",\"marker\":{\"colorbar\":{\"outlinewidth\":0,\"ticks\":\"\"}}}],\"scattercarpet\":[{\"type\":\"scattercarpet\",\"marker\":{\"colorbar\":{\"outlinewidth\":0,\"ticks\":\"\"}}}],\"carpet\":[{\"aaxis\":{\"endlinecolor\":\"#2a3f5f\",\"gridcolor\":\"white\",\"linecolor\":\"white\",\"minorgridcolor\":\"white\",\"startlinecolor\":\"#2a3f5f\"},\"baxis\":{\"endlinecolor\":\"#2a3f5f\",\"gridcolor\":\"white\",\"linecolor\":\"white\",\"minorgridcolor\":\"white\",\"startlinecolor\":\"#2a3f5f\"},\"type\":\"carpet\"}],\"table\":[{\"cells\":{\"fill\":{\"color\":\"#EBF0F8\"},\"line\":{\"color\":\"white\"}},\"header\":{\"fill\":{\"color\":\"#C8D4E3\"},\"line\":{\"color\":\"white\"}},\"type\":\"table\"}],\"barpolar\":[{\"marker\":{\"line\":{\"color\":\"#E5ECF6\",\"width\":0.5},\"pattern\":{\"fillmode\":\"overlay\",\"size\":10,\"solidity\":0.2}},\"type\":\"barpolar\"}],\"pie\":[{\"automargin\":true,\"type\":\"pie\"}]},\"layout\":{\"autotypenumbers\":\"strict\",\"colorway\":[\"#636efa\",\"#EF553B\",\"#00cc96\",\"#ab63fa\",\"#FFA15A\",\"#19d3f3\",\"#FF6692\",\"#B6E880\",\"#FF97FF\",\"#FECB52\"],\"font\":{\"color\":\"#2a3f5f\"},\"hovermode\":\"closest\",\"hoverlabel\":{\"align\":\"left\"},\"paper_bgcolor\":\"white\",\"plot_bgcolor\":\"#E5ECF6\",\"polar\":{\"bgcolor\":\"#E5ECF6\",\"angularaxis\":{\"gridcolor\":\"white\",\"linecolor\":\"white\",\"ticks\":\"\"},\"radialaxis\":{\"gridcolor\":\"white\",\"linecolor\":\"white\",\"ticks\":\"\"}},\"ternary\":{\"bgcolor\":\"#E5ECF6\",\"aaxis\":{\"gridcolor\":\"white\",\"linecolor\":\"white\",\"ticks\":\"\"},\"baxis\":{\"gridcolor\":\"white\",\"linecolor\":\"white\",\"ticks\":\"\"},\"caxis\":{\"gridcolor\":\"white\",\"linecolor\":\"white\",\"ticks\":\"\"}},\"coloraxis\":{\"colorbar\":{\"outlinewidth\":0,\"ticks\":\"\"}},\"colorscale\":{\"sequential\":[[0.0,\"#0d0887\"],[0.1111111111111111,\"#46039f\"],[0.2222222222222222,\"#7201a8\"],[0.3333333333333333,\"#9c179e\"],[0.4444444444444444,\"#bd3786\"],[0.5555555555555556,\"#d8576b\"],[0.6666666666666666,\"#ed7953\"],[0.7777777777777778,\"#fb9f3a\"],[0.8888888888888888,\"#fdca26\"],[1.0,\"#f0f921\"]],\"sequentialminus\":[[0.0,\"#0d0887\"],[0.1111111111111111,\"#46039f\"],[0.2222222222222222,\"#7201a8\"],[0.3333333333333333,\"#9c179e\"],[0.4444444444444444,\"#bd3786\"],[0.5555555555555556,\"#d8576b\"],[0.6666666666666666,\"#ed7953\"],[0.7777777777777778,\"#fb9f3a\"],[0.8888888888888888,\"#fdca26\"],[1.0,\"#f0f921\"]],\"diverging\":[[0,\"#8e0152\"],[0.1,\"#c51b7d\"],[0.2,\"#de77ae\"],[0.3,\"#f1b6da\"],[0.4,\"#fde0ef\"],[0.5,\"#f7f7f7\"],[0.6,\"#e6f5d0\"],[0.7,\"#b8e186\"],[0.8,\"#7fbc41\"],[0.9,\"#4d9221\"],[1,\"#276419\"]]},\"xaxis\":{\"gridcolor\":\"white\",\"linecolor\":\"white\",\"ticks\":\"\",\"title\":{\"standoff\":15},\"zerolinecolor\":\"white\",\"automargin\":true,\"zerolinewidth\":2},\"yaxis\":{\"gridcolor\":\"white\",\"linecolor\":\"white\",\"ticks\":\"\",\"title\":{\"standoff\":15},\"zerolinecolor\":\"white\",\"automargin\":true,\"zerolinewidth\":2},\"scene\":{\"xaxis\":{\"backgroundcolor\":\"#E5ECF6\",\"gridcolor\":\"white\",\"linecolor\":\"white\",\"showbackground\":true,\"ticks\":\"\",\"zerolinecolor\":\"white\",\"gridwidth\":2},\"yaxis\":{\"backgroundcolor\":\"#E5ECF6\",\"gridcolor\":\"white\",\"linecolor\":\"white\",\"showbackground\":true,\"ticks\":\"\",\"zerolinecolor\":\"white\",\"gridwidth\":2},\"zaxis\":{\"backgroundcolor\":\"#E5ECF6\",\"gridcolor\":\"white\",\"linecolor\":\"white\",\"showbackground\":true,\"ticks\":\"\",\"zerolinecolor\":\"white\",\"gridwidth\":2}},\"shapedefaults\":{\"line\":{\"color\":\"#2a3f5f\"}},\"annotationdefaults\":{\"arrowcolor\":\"#2a3f5f\",\"arrowhead\":0,\"arrowwidth\":1},\"geo\":{\"bgcolor\":\"white\",\"landcolor\":\"#E5ECF6\",\"subunitcolor\":\"white\",\"showland\":true,\"showlakes\":true,\"lakecolor\":\"white\"},\"title\":{\"x\":0.05},\"mapbox\":{\"style\":\"light\"}}},\"title\":{\"text\":\"Cryptocurrency Price Chart\"},\"xaxis\":{\"title\":{\"text\":\"Time\"}},\"yaxis\":{\"title\":{\"text\":\"Price\"}}},                        {\"responsive\": true}                    ).then(function(){\n",
              "                            \n",
              "var gd = document.getElementById('1c709ef3-a40f-4ee5-be1c-7860e180b32d');\n",
              "var x = new MutationObserver(function (mutations, observer) {{\n",
              "        var display = window.getComputedStyle(gd).display;\n",
              "        if (!display || display === 'none') {{\n",
              "            console.log([gd, 'removed!']);\n",
              "            Plotly.purge(gd);\n",
              "            observer.disconnect();\n",
              "        }}\n",
              "}});\n",
              "\n",
              "// Listen for the removal of the full notebook cells\n",
              "var notebookContainer = gd.closest('#notebook-container');\n",
              "if (notebookContainer) {{\n",
              "    x.observe(notebookContainer, {childList: true});\n",
              "}}\n",
              "\n",
              "// Listen for the clearing of the current output cell\n",
              "var outputEl = gd.closest('.output');\n",
              "if (outputEl) {{\n",
              "    x.observe(outputEl, {childList: true});\n",
              "}}\n",
              "\n",
              "                        })                };                            </script>        </div>\n",
              "</body>\n",
              "</html>"
            ]
          },
          "metadata": {}
        }
      ]
    },
    {
      "cell_type": "code",
      "source": [
        "def speak_response(response_text):\n",
        "    tts = gTTS(text=response_text, lang='en')\n",
        "    tts.save(\"response.mp3\")\n",
        "    display(Audio(\"response.mp3\", autoplay=True))\n",
        "\n",
        "# Example interaction\n",
        "command = listen_command('converted_audio.wav')\n",
        "if command:\n",
        "    response = sentiment_analysis(command)\n",
        "    print(response)\n",
        "    analysis_result = analyze_crypto_data(get_crypto_data('BTCUSDT'))\n",
        "    full_response = f\"Sentiment: {response[0]['label']}. Analysis: {analysis_result}\"\n",
        "    print(full_response)\n",
        "    speak_response(full_response)\n"
      ],
      "metadata": {
        "colab": {
          "base_uri": "https://localhost:8080/",
          "height": 127
        },
        "id": "ZAtYXmWiPYPM",
        "outputId": "44a98028-fe3d-44ce-9142-793a303378d8"
      },
      "execution_count": 34,
      "outputs": [
        {
          "output_type": "stream",
          "name": "stdout",
          "text": [
            "User said: does snails smell like old deer lingers\n",
            "[{'label': 'LABEL_0', 'score': 0.8702758550643921}]\n",
            "Sentiment: LABEL_0. Analysis: The market is showing an uptrend.\n"
          ]
        },
        {
          "output_type": "display_data",
          "data": {
            "text/plain": [
              "<IPython.lib.display.Audio object>"
            ],
            "text/html": [
              "\n",
              "                <audio  controls=\"controls\" autoplay=\"autoplay\">\n",
              "                    <source src=\"data:audio/mpeg;base64,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\" type=\"audio/mpeg\" />\n",
              "                    Your browser does not support the audio element.\n",
              "                </audio>\n",
              "              "
            ]
          },
          "metadata": {}
        }
      ]
    },
    {
      "cell_type": "code",
      "source": [
        "def execute_trade(action, symbol, quantity):\n",
        "    # Mock trading function\n",
        "    print(f\"Executing {action} order for {quantity} of {symbol}\")\n",
        "\n",
        "# Example interaction\n",
        "command = listen_command('converted_audio.wav')\n",
        "if command:\n",
        "    response = sentiment_analysis(command)\n",
        "    print(response)\n",
        "    analysis_result = analyze_crypto_data(get_crypto_data('BTCUSDT'))\n",
        "    full_response = f\"Sentiment: {response[0]['label']}. Analysis: {analysis_result}\"\n",
        "    print(full_response)\n",
        "    speak_response(full_response)\n",
        "\n",
        "    # Example trading action\n",
        "    if \"buy\" in command.lower():\n",
        "        execute_trade(\"buy\", \"BTCUSDT\", 1)\n",
        "    elif \"sell\" in command.lower():\n",
        "        execute_trade(\"sell\", \"BTCUSDT\", 1)\n"
      ],
      "metadata": {
        "colab": {
          "base_uri": "https://localhost:8080/",
          "height": 127
        },
        "id": "xcGv67EgPfVM",
        "outputId": "bc315cb0-5de4-46e9-f0d8-7a63c310d37b"
      },
      "execution_count": 35,
      "outputs": [
        {
          "output_type": "stream",
          "name": "stdout",
          "text": [
            "User said: does snails smell like old deer lingers\n",
            "[{'label': 'LABEL_0', 'score': 0.8702758550643921}]\n",
            "Sentiment: LABEL_0. Analysis: The market is showing an uptrend.\n"
          ]
        },
        {
          "output_type": "display_data",
          "data": {
            "text/plain": [
              "<IPython.lib.display.Audio object>"
            ],
            "text/html": [
              "\n",
              "                <audio  controls=\"controls\" autoplay=\"autoplay\">\n",
              "                    <source src=\"data:audio/mpeg;base64,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\" type=\"audio/mpeg\" />\n",
              "                    Your browser does not support the audio element.\n",
              "                </audio>\n",
              "              "
            ]
          },
          "metadata": {}
        }
      ]
    },
    {
      "cell_type": "code",
      "source": [
        "!pip install transformers datasets gtts SpeechRecognition pydub flask\n"
      ],
      "metadata": {
        "colab": {
          "base_uri": "https://localhost:8080/"
        },
        "id": "5kaZincKTBd8",
        "outputId": "123950b1-9fba-4be8-9e7d-af9cd7d55edd"
      },
      "execution_count": 36,
      "outputs": [
        {
          "output_type": "stream",
          "name": "stdout",
          "text": [
            "Requirement already satisfied: transformers in /usr/local/lib/python3.10/dist-packages (4.41.2)\n",
            "Requirement already satisfied: datasets in /usr/local/lib/python3.10/dist-packages (2.19.1)\n",
            "Requirement already satisfied: gtts in /usr/local/lib/python3.10/dist-packages (2.5.1)\n",
            "Requirement already satisfied: SpeechRecognition in /usr/local/lib/python3.10/dist-packages (3.10.4)\n",
            "Requirement already satisfied: pydub in /usr/local/lib/python3.10/dist-packages (0.25.1)\n",
            "Requirement already satisfied: flask in /usr/local/lib/python3.10/dist-packages (2.2.5)\n",
            "Requirement already satisfied: filelock in /usr/local/lib/python3.10/dist-packages (from transformers) (3.14.0)\n",
            "Requirement already satisfied: huggingface-hub<1.0,>=0.23.0 in /usr/local/lib/python3.10/dist-packages (from transformers) (0.23.1)\n",
            "Requirement already satisfied: numpy>=1.17 in /usr/local/lib/python3.10/dist-packages (from transformers) (1.25.2)\n",
            "Requirement already satisfied: packaging>=20.0 in /usr/local/lib/python3.10/dist-packages (from transformers) (24.0)\n",
            "Requirement already satisfied: pyyaml>=5.1 in /usr/local/lib/python3.10/dist-packages (from transformers) (6.0.1)\n",
            "Requirement already satisfied: regex!=2019.12.17 in /usr/local/lib/python3.10/dist-packages (from transformers) (2024.5.15)\n",
            "Requirement already satisfied: requests in /usr/local/lib/python3.10/dist-packages (from transformers) (2.31.0)\n",
            "Requirement already satisfied: tokenizers<0.20,>=0.19 in /usr/local/lib/python3.10/dist-packages (from transformers) (0.19.1)\n",
            "Requirement already satisfied: safetensors>=0.4.1 in /usr/local/lib/python3.10/dist-packages (from transformers) (0.4.3)\n",
            "Requirement already satisfied: tqdm>=4.27 in /usr/local/lib/python3.10/dist-packages (from transformers) (4.66.4)\n",
            "Requirement already satisfied: pyarrow>=12.0.0 in /usr/local/lib/python3.10/dist-packages (from datasets) (14.0.2)\n",
            "Requirement already satisfied: pyarrow-hotfix in /usr/local/lib/python3.10/dist-packages (from datasets) (0.6)\n",
            "Requirement already satisfied: dill<0.3.9,>=0.3.0 in /usr/local/lib/python3.10/dist-packages (from datasets) (0.3.8)\n",
            "Requirement already satisfied: pandas in /usr/local/lib/python3.10/dist-packages (from datasets) (2.0.3)\n",
            "Requirement already satisfied: xxhash in /usr/local/lib/python3.10/dist-packages (from datasets) (3.4.1)\n",
            "Requirement already satisfied: multiprocess in /usr/local/lib/python3.10/dist-packages (from datasets) (0.70.16)\n",
            "Requirement already satisfied: fsspec[http]<=2024.3.1,>=2023.1.0 in /usr/local/lib/python3.10/dist-packages (from datasets) (2023.6.0)\n",
            "Requirement already satisfied: aiohttp in /usr/local/lib/python3.10/dist-packages (from datasets) (3.9.5)\n",
            "Requirement already satisfied: click<8.2,>=7.1 in /usr/local/lib/python3.10/dist-packages (from gtts) (8.1.7)\n",
            "Requirement already satisfied: typing-extensions in /usr/local/lib/python3.10/dist-packages (from SpeechRecognition) (4.11.0)\n",
            "Requirement already satisfied: Werkzeug>=2.2.2 in /usr/local/lib/python3.10/dist-packages (from flask) (3.0.3)\n",
            "Requirement already satisfied: Jinja2>=3.0 in /usr/local/lib/python3.10/dist-packages (from flask) (3.1.4)\n",
            "Requirement already satisfied: itsdangerous>=2.0 in /usr/local/lib/python3.10/dist-packages (from flask) (2.2.0)\n",
            "Requirement already satisfied: aiosignal>=1.1.2 in /usr/local/lib/python3.10/dist-packages (from aiohttp->datasets) (1.3.1)\n",
            "Requirement already satisfied: attrs>=17.3.0 in /usr/local/lib/python3.10/dist-packages (from aiohttp->datasets) (23.2.0)\n",
            "Requirement already satisfied: frozenlist>=1.1.1 in /usr/local/lib/python3.10/dist-packages (from aiohttp->datasets) (1.4.1)\n",
            "Requirement already satisfied: multidict<7.0,>=4.5 in /usr/local/lib/python3.10/dist-packages (from aiohttp->datasets) (6.0.5)\n",
            "Requirement already satisfied: yarl<2.0,>=1.0 in /usr/local/lib/python3.10/dist-packages (from aiohttp->datasets) (1.9.4)\n",
            "Requirement already satisfied: async-timeout<5.0,>=4.0 in /usr/local/lib/python3.10/dist-packages (from aiohttp->datasets) (4.0.3)\n",
            "Requirement already satisfied: MarkupSafe>=2.0 in /usr/local/lib/python3.10/dist-packages (from Jinja2>=3.0->flask) (2.1.5)\n",
            "Requirement already satisfied: charset-normalizer<4,>=2 in /usr/local/lib/python3.10/dist-packages (from requests->transformers) (3.3.2)\n",
            "Requirement already satisfied: idna<4,>=2.5 in /usr/local/lib/python3.10/dist-packages (from requests->transformers) (3.7)\n",
            "Requirement already satisfied: urllib3<3,>=1.21.1 in /usr/local/lib/python3.10/dist-packages (from requests->transformers) (2.0.7)\n",
            "Requirement already satisfied: certifi>=2017.4.17 in /usr/local/lib/python3.10/dist-packages (from requests->transformers) (2024.2.2)\n",
            "Requirement already satisfied: python-dateutil>=2.8.2 in /usr/local/lib/python3.10/dist-packages (from pandas->datasets) (2.8.2)\n",
            "Requirement already satisfied: pytz>=2020.1 in /usr/local/lib/python3.10/dist-packages (from pandas->datasets) (2023.4)\n",
            "Requirement already satisfied: tzdata>=2022.1 in /usr/local/lib/python3.10/dist-packages (from pandas->datasets) (2024.1)\n",
            "Requirement already satisfied: six>=1.5 in /usr/local/lib/python3.10/dist-packages (from python-dateutil>=2.8.2->pandas->datasets) (1.16.0)\n"
          ]
        }
      ]
    },
    {
      "cell_type": "code",
      "source": [
        "import torch\n",
        "from transformers import GPTNeoForCausalLM, GPT2Tokenizer, AutoModelForSequenceClassification, AutoTokenizer, pipeline\n",
        "import requests\n",
        "import speech_recognition as sr\n",
        "from gtts import gTTS\n",
        "from pydub import AudioSegment\n",
        "import os\n",
        "import pandas as pd\n",
        "import plotly.graph_objects as go\n",
        "\n",
        "# Load GPT-Neo model and tokenizer\n",
        "gpt_neo_model = GPTNeoForCausalLM.from_pretrained('EleutherAI/gpt-neo-2.7B')\n",
        "gpt_neo_tokenizer = GPT2Tokenizer.from_pretrained('EleutherAI/gpt-neo-2.7B')\n",
        "\n",
        "# Load FinBERT model and tokenizer\n",
        "finbert_model = AutoModelForSequenceClassification.from_pretrained('yiyanghkust/finbert-tone')\n",
        "finbert_tokenizer = AutoTokenizer.from_pretrained('yiyanghkust/finbert-tone')\n",
        "\n",
        "# Initialize the sentiment analysis pipeline\n",
        "sentiment_analysis = pipeline('sentiment-analysis', model=finbert_model, tokenizer=finbert_tokenizer)\n",
        "\n",
        "recognizer = sr.Recognizer()\n",
        "\n",
        "def generate_response(prompt):\n",
        "    inputs = gpt_neo_tokenizer(prompt, return_tensors=\"pt\")\n",
        "    outputs = gpt_neo_model.generate(inputs.input_ids, max_length=150)\n",
        "    response = gpt_neo_tokenizer.decode(outputs[0], skip_special_tokens=True)\n",
        "    return response\n",
        "\n",
        "def transcribe_audio(audio_path):\n",
        "    with sr.AudioFile(audio_path) as source:\n",
        "        audio = recognizer.record(source)\n",
        "        command = recognizer.recognize_google(audio)\n",
        "        return command\n",
        "\n",
        "def synthesize_speech(text):\n",
        "    tts = gTTS(text=text, lang='en')\n",
        "    tts.save(\"response.mp3\")\n",
        "    sound = AudioSegment.from_mp3(\"response.mp3\")\n",
        "    sound.export(\"response.wav\", format=\"wav\")\n",
        "    return \"response.wav\"\n",
        "\n",
        "def analyze_sentiment(text):\n",
        "    return sentiment_analysis(text)\n",
        "\n",
        "def get_crypto_data(symbol, interval='1m', limit=100):\n",
        "    url = f'https://api.binance.com/api/v3/klines?symbol={symbol}&interval={interval}&limit={limit}'\n",
        "    response = requests.get(url)\n",
        "    data = response.json()\n",
        "    return data\n",
        "\n",
        "def plot_crypto_chart(data):\n",
        "    df = pd.DataFrame(data, columns=['timestamp', 'open', 'high', 'low', 'close', 'volume', 'close_time', 'quote_asset_volume', 'number_of_trades', 'taker_buy_base_asset_volume', 'taker_buy_quote_asset_volume', 'ignore'])\n",
        "    df['timestamp'] = pd.to_datetime(df['timestamp'], unit='ms')\n",
        "\n",
        "    fig = go.Figure(data=[go.Candlestick(x=df['timestamp'],\n",
        "                                         open=df['open'],\n",
        "                                         high=df['high'],\n",
        "                                         low=df['low'],\n",
        "                                         close=df['close'])])\n",
        "    fig.update_layout(title='Cryptocurrency Price Chart', xaxis_title='Time', yaxis_title='Price')\n",
        "    fig.show()\n",
        "\n",
        "def process_audio_command(audio_path):\n",
        "    command = transcribe_audio(audio_path)\n",
        "    print(f\"User said: {command}\")\n",
        "\n",
        "    # Analyze sentiment using FinBERT\n",
        "    sentiment_result = analyze_sentiment(command)\n",
        "    sentiment_label = sentiment_result[0]['label']\n",
        "    print(f\"Sentiment: {sentiment_label}\")\n",
        "\n",
        "    # Generate response using GPT-Neo\n",
        "    response_text = generate_response(f\"User said: {command}. Sentiment analysis shows: {sentiment_label}.\")\n",
        "    print(f\"Response: {response_text}\")\n",
        "\n",
        "    # Synthesize speech from the response text\n",
        "    audio_response_path = synthesize_speech(response_text)\n",
        "    return audio_response_path, response_text\n"
      ],
      "metadata": {
        "colab": {
          "base_uri": "https://localhost:8080/",
          "height": 81,
          "referenced_widgets": [
            "a09360f22799488993b929da8840a1d0",
            "68b6f0d6f76b4afdb66f81846ad0f4fa",
            "ec3ae4da27564e0495350da7756a0c3e",
            "b4f1a998a7eb4774a9218bcd32fe8a45",
            "57e24705de864fef80cc3b200ca4d849",
            "5b7930c8dfd24c728778bd4642426f9a",
            "1ff3766a21404310b51fd471f3effd8a",
            "d98c7bec6f2447babbee855b88af9d0f",
            "8a8d75c1d086488fbd680e9f56b7d1ec",
            "6e08bf56b8794caeaa54b3cbb73077ae",
            "6071db0bc23a467eb6ec45194a486cf0",
            "18d6d0594bb64575971ce7468a375a39",
            "2c273174eafe448d95e12233cd148b90",
            "b0c20556838a4c0598bf7d61eabf403a",
            "d81d223643f34c499adcc25bd634d2a9",
            "c290129e3a894d3d8c4141d46850f9a8",
            "2c96fb1bcec14b91a12ef54f57d502d4",
            "51289916ceaa4f1485d3179b2fd7620a",
            "a82524dd551c4b129a91c3ae0fae2a9a",
            "3579226394804d87afe8cb1412e9b15b",
            "b44fd3b1fec348dc831da4ed26f695c2",
            "3f939e8a11e84ae4bb625402ef07839f"
          ]
        },
        "id": "6ekOMH7dTFVx",
        "outputId": "dc3d98ec-3895-44a3-81fd-f959569cd907"
      },
      "execution_count": null,
      "outputs": [
        {
          "data": {
            "application/vnd.jupyter.widget-view+json": {
              "model_id": "a09360f22799488993b929da8840a1d0",
              "version_major": 2,
              "version_minor": 0
            },
            "text/plain": [
              "config.json:   0%|          | 0.00/1.46k [00:00<?, ?B/s]"
            ]
          },
          "metadata": {},
          "output_type": "display_data"
        },
        {
          "data": {
            "application/vnd.jupyter.widget-view+json": {
              "model_id": "18d6d0594bb64575971ce7468a375a39",
              "version_major": 2,
              "version_minor": 0
            },
            "text/plain": [
              "model.safetensors:   0%|          | 0.00/10.7G [00:00<?, ?B/s]"
            ]
          },
          "metadata": {},
          "output_type": "display_data"
        }
      ]
    },
    {
      "cell_type": "code",
      "source": [
        "from flask import Flask, request, jsonify\n",
        "\n",
        "app = Flask(__name__)\n",
        "\n",
        "@app.route('/listen', methods=['POST'])\n",
        "def listen_command():\n",
        "    audio_file = request.files['file']\n",
        "    audio_path = \"temp_audio.wav\"\n",
        "    audio_file.save(audio_path)\n",
        "\n",
        "    audio_response_path, response_text = process_audio_command(audio_path)\n",
        "    return jsonify({'response': response_text, 'audio': audio_response_path})\n",
        "\n",
        "if __name__ == '__main__':\n",
        "    app.run()\n"
      ],
      "metadata": {
        "id": "qYa1b7fMTfDN"
      },
      "execution_count": null,
      "outputs": []
    }
  ],
  "metadata": {
    "colab": {
      "provenance": []
    },
    "kernelspec": {
      "display_name": "Python 3",
      "name": "python3"
    },
    "language_info": {
      "name": "python"
    },
    "widgets": {
      "application/vnd.jupyter.widget-state+json": {
        "aef731853ac14637a440a2d3aec92ea3": {
          "model_module": "@jupyter-widgets/controls",
          "model_name": "HBoxModel",
          "model_module_version": "1.5.0",
          "state": {
            "_dom_classes": [],
            "_model_module": "@jupyter-widgets/controls",
            "_model_module_version": "1.5.0",
            "_model_name": "HBoxModel",
            "_view_count": null,
            "_view_module": "@jupyter-widgets/controls",
            "_view_module_version": "1.5.0",
            "_view_name": "HBoxView",
            "box_style": "",
            "children": [
              "IPY_MODEL_6f961adceef8447da213ff946b1f0d0c",
              "IPY_MODEL_db9c4f5433594c1b95ede023726e254b",
              "IPY_MODEL_123531bd6a09481aba8c41d92484efed"
            ],
            "layout": "IPY_MODEL_98a5e5e415f04694b8533628451a824b"
          }
        },
        "6f961adceef8447da213ff946b1f0d0c": {
          "model_module": "@jupyter-widgets/controls",
          "model_name": "HTMLModel",
          "model_module_version": "1.5.0",
          "state": {
            "_dom_classes": [],
            "_model_module": "@jupyter-widgets/controls",
            "_model_module_version": "1.5.0",
            "_model_name": "HTMLModel",
            "_view_count": null,
            "_view_module": "@jupyter-widgets/controls",
            "_view_module_version": "1.5.0",
            "_view_name": "HTMLView",
            "description": "",
            "description_tooltip": null,
            "layout": "IPY_MODEL_f078f9432294454cb259d06c56c8ed36",
            "placeholder": "​",
            "style": "IPY_MODEL_a4d857ee5a9443fda97dba1e83d67ddf",
            "value": "Map: 100%"
          }
        },
        "db9c4f5433594c1b95ede023726e254b": {
          "model_module": "@jupyter-widgets/controls",
          "model_name": "FloatProgressModel",
          "model_module_version": "1.5.0",
          "state": {
            "_dom_classes": [],
            "_model_module": "@jupyter-widgets/controls",
            "_model_module_version": "1.5.0",
            "_model_name": "FloatProgressModel",
            "_view_count": null,
            "_view_module": "@jupyter-widgets/controls",
            "_view_module_version": "1.5.0",
            "_view_name": "ProgressView",
            "bar_style": "success",
            "description": "",
            "description_tooltip": null,
            "layout": "IPY_MODEL_79c244a329b44a04bea787ec3041088e",
            "max": 758,
            "min": 0,
            "orientation": "horizontal",
            "style": "IPY_MODEL_97581ffef1574161b1788bcd144c3e08",
            "value": 758
          }
        },
        "123531bd6a09481aba8c41d92484efed": {
          "model_module": "@jupyter-widgets/controls",
          "model_name": "HTMLModel",
          "model_module_version": "1.5.0",
          "state": {
            "_dom_classes": [],
            "_model_module": "@jupyter-widgets/controls",
            "_model_module_version": "1.5.0",
            "_model_name": "HTMLModel",
            "_view_count": null,
            "_view_module": "@jupyter-widgets/controls",
            "_view_module_version": "1.5.0",
            "_view_name": "HTMLView",
            "description": "",
            "description_tooltip": null,
            "layout": "IPY_MODEL_2a692631a396462cbcca574fe1217a98",
            "placeholder": "​",
            "style": "IPY_MODEL_8e2d1d71a36445d59e3e150642244650",
            "value": " 758/758 [00:00&lt;00:00, 1619.07 examples/s]"
          }
        },
        "98a5e5e415f04694b8533628451a824b": {
          "model_module": "@jupyter-widgets/base",
          "model_name": "LayoutModel",
          "model_module_version": "1.2.0",
          "state": {
            "_model_module": "@jupyter-widgets/base",
            "_model_module_version": "1.2.0",
            "_model_name": "LayoutModel",
            "_view_count": null,
            "_view_module": "@jupyter-widgets/base",
            "_view_module_version": "1.2.0",
            "_view_name": "LayoutView",
            "align_content": null,
            "align_items": null,
            "align_self": null,
            "border": null,
            "bottom": null,
            "display": null,
            "flex": null,
            "flex_flow": null,
            "grid_area": null,
            "grid_auto_columns": null,
            "grid_auto_flow": null,
            "grid_auto_rows": null,
            "grid_column": null,
            "grid_gap": null,
            "grid_row": null,
            "grid_template_areas": null,
            "grid_template_columns": null,
            "grid_template_rows": null,
            "height": null,
            "justify_content": null,
            "justify_items": null,
            "left": null,
            "margin": null,
            "max_height": null,
            "max_width": null,
            "min_height": null,
            "min_width": null,
            "object_fit": null,
            "object_position": null,
            "order": null,
            "overflow": null,
            "overflow_x": null,
            "overflow_y": null,
            "padding": null,
            "right": null,
            "top": null,
            "visibility": null,
            "width": null
          }
        },
        "f078f9432294454cb259d06c56c8ed36": {
          "model_module": "@jupyter-widgets/base",
          "model_name": "LayoutModel",
          "model_module_version": "1.2.0",
          "state": {
            "_model_module": "@jupyter-widgets/base",
            "_model_module_version": "1.2.0",
            "_model_name": "LayoutModel",
            "_view_count": null,
            "_view_module": "@jupyter-widgets/base",
            "_view_module_version": "1.2.0",
            "_view_name": "LayoutView",
            "align_content": null,
            "align_items": null,
            "align_self": null,
            "border": null,
            "bottom": null,
            "display": null,
            "flex": null,
            "flex_flow": null,
            "grid_area": null,
            "grid_auto_columns": null,
            "grid_auto_flow": null,
            "grid_auto_rows": null,
            "grid_column": null,
            "grid_gap": null,
            "grid_row": null,
            "grid_template_areas": null,
            "grid_template_columns": null,
            "grid_template_rows": null,
            "height": null,
            "justify_content": null,
            "justify_items": null,
            "left": null,
            "margin": null,
            "max_height": null,
            "max_width": null,
            "min_height": null,
            "min_width": null,
            "object_fit": null,
            "object_position": null,
            "order": null,
            "overflow": null,
            "overflow_x": null,
            "overflow_y": null,
            "padding": null,
            "right": null,
            "top": null,
            "visibility": null,
            "width": null
          }
        },
        "a4d857ee5a9443fda97dba1e83d67ddf": {
          "model_module": "@jupyter-widgets/controls",
          "model_name": "DescriptionStyleModel",
          "model_module_version": "1.5.0",
          "state": {
            "_model_module": "@jupyter-widgets/controls",
            "_model_module_version": "1.5.0",
            "_model_name": "DescriptionStyleModel",
            "_view_count": null,
            "_view_module": "@jupyter-widgets/base",
            "_view_module_version": "1.2.0",
            "_view_name": "StyleView",
            "description_width": ""
          }
        },
        "79c244a329b44a04bea787ec3041088e": {
          "model_module": "@jupyter-widgets/base",
          "model_name": "LayoutModel",
          "model_module_version": "1.2.0",
          "state": {
            "_model_module": "@jupyter-widgets/base",
            "_model_module_version": "1.2.0",
            "_model_name": "LayoutModel",
            "_view_count": null,
            "_view_module": "@jupyter-widgets/base",
            "_view_module_version": "1.2.0",
            "_view_name": "LayoutView",
            "align_content": null,
            "align_items": null,
            "align_self": null,
            "border": null,
            "bottom": null,
            "display": null,
            "flex": null,
            "flex_flow": null,
            "grid_area": null,
            "grid_auto_columns": null,
            "grid_auto_flow": null,
            "grid_auto_rows": null,
            "grid_column": null,
            "grid_gap": null,
            "grid_row": null,
            "grid_template_areas": null,
            "grid_template_columns": null,
            "grid_template_rows": null,
            "height": null,
            "justify_content": null,
            "justify_items": null,
            "left": null,
            "margin": null,
            "max_height": null,
            "max_width": null,
            "min_height": null,
            "min_width": null,
            "object_fit": null,
            "object_position": null,
            "order": null,
            "overflow": null,
            "overflow_x": null,
            "overflow_y": null,
            "padding": null,
            "right": null,
            "top": null,
            "visibility": null,
            "width": null
          }
        },
        "97581ffef1574161b1788bcd144c3e08": {
          "model_module": "@jupyter-widgets/controls",
          "model_name": "ProgressStyleModel",
          "model_module_version": "1.5.0",
          "state": {
            "_model_module": "@jupyter-widgets/controls",
            "_model_module_version": "1.5.0",
            "_model_name": "ProgressStyleModel",
            "_view_count": null,
            "_view_module": "@jupyter-widgets/base",
            "_view_module_version": "1.2.0",
            "_view_name": "StyleView",
            "bar_color": null,
            "description_width": ""
          }
        },
        "2a692631a396462cbcca574fe1217a98": {
          "model_module": "@jupyter-widgets/base",
          "model_name": "LayoutModel",
          "model_module_version": "1.2.0",
          "state": {
            "_model_module": "@jupyter-widgets/base",
            "_model_module_version": "1.2.0",
            "_model_name": "LayoutModel",
            "_view_count": null,
            "_view_module": "@jupyter-widgets/base",
            "_view_module_version": "1.2.0",
            "_view_name": "LayoutView",
            "align_content": null,
            "align_items": null,
            "align_self": null,
            "border": null,
            "bottom": null,
            "display": null,
            "flex": null,
            "flex_flow": null,
            "grid_area": null,
            "grid_auto_columns": null,
            "grid_auto_flow": null,
            "grid_auto_rows": null,
            "grid_column": null,
            "grid_gap": null,
            "grid_row": null,
            "grid_template_areas": null,
            "grid_template_columns": null,
            "grid_template_rows": null,
            "height": null,
            "justify_content": null,
            "justify_items": null,
            "left": null,
            "margin": null,
            "max_height": null,
            "max_width": null,
            "min_height": null,
            "min_width": null,
            "object_fit": null,
            "object_position": null,
            "order": null,
            "overflow": null,
            "overflow_x": null,
            "overflow_y": null,
            "padding": null,
            "right": null,
            "top": null,
            "visibility": null,
            "width": null
          }
        },
        "8e2d1d71a36445d59e3e150642244650": {
          "model_module": "@jupyter-widgets/controls",
          "model_name": "DescriptionStyleModel",
          "model_module_version": "1.5.0",
          "state": {
            "_model_module": "@jupyter-widgets/controls",
            "_model_module_version": "1.5.0",
            "_model_name": "DescriptionStyleModel",
            "_view_count": null,
            "_view_module": "@jupyter-widgets/base",
            "_view_module_version": "1.2.0",
            "_view_name": "StyleView",
            "description_width": ""
          }
        },
        "a96617816d4640ef9125103acab2a862": {
          "model_module": "@jupyter-widgets/controls",
          "model_name": "HBoxModel",
          "model_module_version": "1.5.0",
          "state": {
            "_dom_classes": [],
            "_model_module": "@jupyter-widgets/controls",
            "_model_module_version": "1.5.0",
            "_model_name": "HBoxModel",
            "_view_count": null,
            "_view_module": "@jupyter-widgets/controls",
            "_view_module_version": "1.5.0",
            "_view_name": "HBoxView",
            "box_style": "",
            "children": [
              "IPY_MODEL_03d2d57f74334e15aaf9a1f8834fe8e1",
              "IPY_MODEL_ce0dead6665048bca9c0311aec03b3db",
              "IPY_MODEL_607b69f4df824ec09457f91ca438afd2"
            ],
            "layout": "IPY_MODEL_e7ab15c5feaa4f89923f6e4a800fe763"
          }
        },
        "03d2d57f74334e15aaf9a1f8834fe8e1": {
          "model_module": "@jupyter-widgets/controls",
          "model_name": "HTMLModel",
          "model_module_version": "1.5.0",
          "state": {
            "_dom_classes": [],
            "_model_module": "@jupyter-widgets/controls",
            "_model_module_version": "1.5.0",
            "_model_name": "HTMLModel",
            "_view_count": null,
            "_view_module": "@jupyter-widgets/controls",
            "_view_module_version": "1.5.0",
            "_view_name": "HTMLView",
            "description": "",
            "description_tooltip": null,
            "layout": "IPY_MODEL_dca1118b4d85424eb6185b5942f60752",
            "placeholder": "​",
            "style": "IPY_MODEL_5ce978c822504bac88e12626989a2a77",
            "value": "Map: 100%"
          }
        },
        "ce0dead6665048bca9c0311aec03b3db": {
          "model_module": "@jupyter-widgets/controls",
          "model_name": "FloatProgressModel",
          "model_module_version": "1.5.0",
          "state": {
            "_dom_classes": [],
            "_model_module": "@jupyter-widgets/controls",
            "_model_module_version": "1.5.0",
            "_model_name": "FloatProgressModel",
            "_view_count": null,
            "_view_module": "@jupyter-widgets/controls",
            "_view_module_version": "1.5.0",
            "_view_name": "ProgressView",
            "bar_style": "success",
            "description": "",
            "description_tooltip": null,
            "layout": "IPY_MODEL_696ba767c6c54778b7c83787ab795fa8",
            "max": 758,
            "min": 0,
            "orientation": "horizontal",
            "style": "IPY_MODEL_6c6f15668a0946cbade03b6103e38809",
            "value": 758
          }
        },
        "607b69f4df824ec09457f91ca438afd2": {
          "model_module": "@jupyter-widgets/controls",
          "model_name": "HTMLModel",
          "model_module_version": "1.5.0",
          "state": {
            "_dom_classes": [],
            "_model_module": "@jupyter-widgets/controls",
            "_model_module_version": "1.5.0",
            "_model_name": "HTMLModel",
            "_view_count": null,
            "_view_module": "@jupyter-widgets/controls",
            "_view_module_version": "1.5.0",
            "_view_name": "HTMLView",
            "description": "",
            "description_tooltip": null,
            "layout": "IPY_MODEL_0b7c07cf18b1469fad2001eebbce8dc7",
            "placeholder": "​",
            "style": "IPY_MODEL_d7f30fb4fee3422dab1b8a6b87fc8df5",
            "value": " 758/758 [00:00&lt;00:00, 1806.86 examples/s]"
          }
        },
        "e7ab15c5feaa4f89923f6e4a800fe763": {
          "model_module": "@jupyter-widgets/base",
          "model_name": "LayoutModel",
          "model_module_version": "1.2.0",
          "state": {
            "_model_module": "@jupyter-widgets/base",
            "_model_module_version": "1.2.0",
            "_model_name": "LayoutModel",
            "_view_count": null,
            "_view_module": "@jupyter-widgets/base",
            "_view_module_version": "1.2.0",
            "_view_name": "LayoutView",
            "align_content": null,
            "align_items": null,
            "align_self": null,
            "border": null,
            "bottom": null,
            "display": null,
            "flex": null,
            "flex_flow": null,
            "grid_area": null,
            "grid_auto_columns": null,
            "grid_auto_flow": null,
            "grid_auto_rows": null,
            "grid_column": null,
            "grid_gap": null,
            "grid_row": null,
            "grid_template_areas": null,
            "grid_template_columns": null,
            "grid_template_rows": null,
            "height": null,
            "justify_content": null,
            "justify_items": null,
            "left": null,
            "margin": null,
            "max_height": null,
            "max_width": null,
            "min_height": null,
            "min_width": null,
            "object_fit": null,
            "object_position": null,
            "order": null,
            "overflow": null,
            "overflow_x": null,
            "overflow_y": null,
            "padding": null,
            "right": null,
            "top": null,
            "visibility": null,
            "width": null
          }
        },
        "dca1118b4d85424eb6185b5942f60752": {
          "model_module": "@jupyter-widgets/base",
          "model_name": "LayoutModel",
          "model_module_version": "1.2.0",
          "state": {
            "_model_module": "@jupyter-widgets/base",
            "_model_module_version": "1.2.0",
            "_model_name": "LayoutModel",
            "_view_count": null,
            "_view_module": "@jupyter-widgets/base",
            "_view_module_version": "1.2.0",
            "_view_name": "LayoutView",
            "align_content": null,
            "align_items": null,
            "align_self": null,
            "border": null,
            "bottom": null,
            "display": null,
            "flex": null,
            "flex_flow": null,
            "grid_area": null,
            "grid_auto_columns": null,
            "grid_auto_flow": null,
            "grid_auto_rows": null,
            "grid_column": null,
            "grid_gap": null,
            "grid_row": null,
            "grid_template_areas": null,
            "grid_template_columns": null,
            "grid_template_rows": null,
            "height": null,
            "justify_content": null,
            "justify_items": null,
            "left": null,
            "margin": null,
            "max_height": null,
            "max_width": null,
            "min_height": null,
            "min_width": null,
            "object_fit": null,
            "object_position": null,
            "order": null,
            "overflow": null,
            "overflow_x": null,
            "overflow_y": null,
            "padding": null,
            "right": null,
            "top": null,
            "visibility": null,
            "width": null
          }
        },
        "5ce978c822504bac88e12626989a2a77": {
          "model_module": "@jupyter-widgets/controls",
          "model_name": "DescriptionStyleModel",
          "model_module_version": "1.5.0",
          "state": {
            "_model_module": "@jupyter-widgets/controls",
            "_model_module_version": "1.5.0",
            "_model_name": "DescriptionStyleModel",
            "_view_count": null,
            "_view_module": "@jupyter-widgets/base",
            "_view_module_version": "1.2.0",
            "_view_name": "StyleView",
            "description_width": ""
          }
        },
        "696ba767c6c54778b7c83787ab795fa8": {
          "model_module": "@jupyter-widgets/base",
          "model_name": "LayoutModel",
          "model_module_version": "1.2.0",
          "state": {
            "_model_module": "@jupyter-widgets/base",
            "_model_module_version": "1.2.0",
            "_model_name": "LayoutModel",
            "_view_count": null,
            "_view_module": "@jupyter-widgets/base",
            "_view_module_version": "1.2.0",
            "_view_name": "LayoutView",
            "align_content": null,
            "align_items": null,
            "align_self": null,
            "border": null,
            "bottom": null,
            "display": null,
            "flex": null,
            "flex_flow": null,
            "grid_area": null,
            "grid_auto_columns": null,
            "grid_auto_flow": null,
            "grid_auto_rows": null,
            "grid_column": null,
            "grid_gap": null,
            "grid_row": null,
            "grid_template_areas": null,
            "grid_template_columns": null,
            "grid_template_rows": null,
            "height": null,
            "justify_content": null,
            "justify_items": null,
            "left": null,
            "margin": null,
            "max_height": null,
            "max_width": null,
            "min_height": null,
            "min_width": null,
            "object_fit": null,
            "object_position": null,
            "order": null,
            "overflow": null,
            "overflow_x": null,
            "overflow_y": null,
            "padding": null,
            "right": null,
            "top": null,
            "visibility": null,
            "width": null
          }
        },
        "6c6f15668a0946cbade03b6103e38809": {
          "model_module": "@jupyter-widgets/controls",
          "model_name": "ProgressStyleModel",
          "model_module_version": "1.5.0",
          "state": {
            "_model_module": "@jupyter-widgets/controls",
            "_model_module_version": "1.5.0",
            "_model_name": "ProgressStyleModel",
            "_view_count": null,
            "_view_module": "@jupyter-widgets/base",
            "_view_module_version": "1.2.0",
            "_view_name": "StyleView",
            "bar_color": null,
            "description_width": ""
          }
        },
        "0b7c07cf18b1469fad2001eebbce8dc7": {
          "model_module": "@jupyter-widgets/base",
          "model_name": "LayoutModel",
          "model_module_version": "1.2.0",
          "state": {
            "_model_module": "@jupyter-widgets/base",
            "_model_module_version": "1.2.0",
            "_model_name": "LayoutModel",
            "_view_count": null,
            "_view_module": "@jupyter-widgets/base",
            "_view_module_version": "1.2.0",
            "_view_name": "LayoutView",
            "align_content": null,
            "align_items": null,
            "align_self": null,
            "border": null,
            "bottom": null,
            "display": null,
            "flex": null,
            "flex_flow": null,
            "grid_area": null,
            "grid_auto_columns": null,
            "grid_auto_flow": null,
            "grid_auto_rows": null,
            "grid_column": null,
            "grid_gap": null,
            "grid_row": null,
            "grid_template_areas": null,
            "grid_template_columns": null,
            "grid_template_rows": null,
            "height": null,
            "justify_content": null,
            "justify_items": null,
            "left": null,
            "margin": null,
            "max_height": null,
            "max_width": null,
            "min_height": null,
            "min_width": null,
            "object_fit": null,
            "object_position": null,
            "order": null,
            "overflow": null,
            "overflow_x": null,
            "overflow_y": null,
            "padding": null,
            "right": null,
            "top": null,
            "visibility": null,
            "width": null
          }
        },
        "d7f30fb4fee3422dab1b8a6b87fc8df5": {
          "model_module": "@jupyter-widgets/controls",
          "model_name": "DescriptionStyleModel",
          "model_module_version": "1.5.0",
          "state": {
            "_model_module": "@jupyter-widgets/controls",
            "_model_module_version": "1.5.0",
            "_model_name": "DescriptionStyleModel",
            "_view_count": null,
            "_view_module": "@jupyter-widgets/base",
            "_view_module_version": "1.2.0",
            "_view_name": "StyleView",
            "description_width": ""
          }
        },
        "a09360f22799488993b929da8840a1d0": {
          "model_module": "@jupyter-widgets/controls",
          "model_name": "HBoxModel",
          "model_module_version": "1.5.0",
          "state": {
            "_dom_classes": [],
            "_model_module": "@jupyter-widgets/controls",
            "_model_module_version": "1.5.0",
            "_model_name": "HBoxModel",
            "_view_count": null,
            "_view_module": "@jupyter-widgets/controls",
            "_view_module_version": "1.5.0",
            "_view_name": "HBoxView",
            "box_style": "",
            "children": [
              "IPY_MODEL_68b6f0d6f76b4afdb66f81846ad0f4fa",
              "IPY_MODEL_ec3ae4da27564e0495350da7756a0c3e",
              "IPY_MODEL_b4f1a998a7eb4774a9218bcd32fe8a45"
            ],
            "layout": "IPY_MODEL_57e24705de864fef80cc3b200ca4d849"
          }
        },
        "68b6f0d6f76b4afdb66f81846ad0f4fa": {
          "model_module": "@jupyter-widgets/controls",
          "model_name": "HTMLModel",
          "model_module_version": "1.5.0",
          "state": {
            "_dom_classes": [],
            "_model_module": "@jupyter-widgets/controls",
            "_model_module_version": "1.5.0",
            "_model_name": "HTMLModel",
            "_view_count": null,
            "_view_module": "@jupyter-widgets/controls",
            "_view_module_version": "1.5.0",
            "_view_name": "HTMLView",
            "description": "",
            "description_tooltip": null,
            "layout": "IPY_MODEL_5b7930c8dfd24c728778bd4642426f9a",
            "placeholder": "​",
            "style": "IPY_MODEL_1ff3766a21404310b51fd471f3effd8a",
            "value": "config.json: 100%"
          }
        },
        "ec3ae4da27564e0495350da7756a0c3e": {
          "model_module": "@jupyter-widgets/controls",
          "model_name": "FloatProgressModel",
          "model_module_version": "1.5.0",
          "state": {
            "_dom_classes": [],
            "_model_module": "@jupyter-widgets/controls",
            "_model_module_version": "1.5.0",
            "_model_name": "FloatProgressModel",
            "_view_count": null,
            "_view_module": "@jupyter-widgets/controls",
            "_view_module_version": "1.5.0",
            "_view_name": "ProgressView",
            "bar_style": "success",
            "description": "",
            "description_tooltip": null,
            "layout": "IPY_MODEL_d98c7bec6f2447babbee855b88af9d0f",
            "max": 1455,
            "min": 0,
            "orientation": "horizontal",
            "style": "IPY_MODEL_8a8d75c1d086488fbd680e9f56b7d1ec",
            "value": 1455
          }
        },
        "b4f1a998a7eb4774a9218bcd32fe8a45": {
          "model_module": "@jupyter-widgets/controls",
          "model_name": "HTMLModel",
          "model_module_version": "1.5.0",
          "state": {
            "_dom_classes": [],
            "_model_module": "@jupyter-widgets/controls",
            "_model_module_version": "1.5.0",
            "_model_name": "HTMLModel",
            "_view_count": null,
            "_view_module": "@jupyter-widgets/controls",
            "_view_module_version": "1.5.0",
            "_view_name": "HTMLView",
            "description": "",
            "description_tooltip": null,
            "layout": "IPY_MODEL_6e08bf56b8794caeaa54b3cbb73077ae",
            "placeholder": "​",
            "style": "IPY_MODEL_6071db0bc23a467eb6ec45194a486cf0",
            "value": " 1.46k/1.46k [00:00&lt;00:00, 14.4kB/s]"
          }
        },
        "57e24705de864fef80cc3b200ca4d849": {
          "model_module": "@jupyter-widgets/base",
          "model_name": "LayoutModel",
          "model_module_version": "1.2.0",
          "state": {
            "_model_module": "@jupyter-widgets/base",
            "_model_module_version": "1.2.0",
            "_model_name": "LayoutModel",
            "_view_count": null,
            "_view_module": "@jupyter-widgets/base",
            "_view_module_version": "1.2.0",
            "_view_name": "LayoutView",
            "align_content": null,
            "align_items": null,
            "align_self": null,
            "border": null,
            "bottom": null,
            "display": null,
            "flex": null,
            "flex_flow": null,
            "grid_area": null,
            "grid_auto_columns": null,
            "grid_auto_flow": null,
            "grid_auto_rows": null,
            "grid_column": null,
            "grid_gap": null,
            "grid_row": null,
            "grid_template_areas": null,
            "grid_template_columns": null,
            "grid_template_rows": null,
            "height": null,
            "justify_content": null,
            "justify_items": null,
            "left": null,
            "margin": null,
            "max_height": null,
            "max_width": null,
            "min_height": null,
            "min_width": null,
            "object_fit": null,
            "object_position": null,
            "order": null,
            "overflow": null,
            "overflow_x": null,
            "overflow_y": null,
            "padding": null,
            "right": null,
            "top": null,
            "visibility": null,
            "width": null
          }
        },
        "5b7930c8dfd24c728778bd4642426f9a": {
          "model_module": "@jupyter-widgets/base",
          "model_name": "LayoutModel",
          "model_module_version": "1.2.0",
          "state": {
            "_model_module": "@jupyter-widgets/base",
            "_model_module_version": "1.2.0",
            "_model_name": "LayoutModel",
            "_view_count": null,
            "_view_module": "@jupyter-widgets/base",
            "_view_module_version": "1.2.0",
            "_view_name": "LayoutView",
            "align_content": null,
            "align_items": null,
            "align_self": null,
            "border": null,
            "bottom": null,
            "display": null,
            "flex": null,
            "flex_flow": null,
            "grid_area": null,
            "grid_auto_columns": null,
            "grid_auto_flow": null,
            "grid_auto_rows": null,
            "grid_column": null,
            "grid_gap": null,
            "grid_row": null,
            "grid_template_areas": null,
            "grid_template_columns": null,
            "grid_template_rows": null,
            "height": null,
            "justify_content": null,
            "justify_items": null,
            "left": null,
            "margin": null,
            "max_height": null,
            "max_width": null,
            "min_height": null,
            "min_width": null,
            "object_fit": null,
            "object_position": null,
            "order": null,
            "overflow": null,
            "overflow_x": null,
            "overflow_y": null,
            "padding": null,
            "right": null,
            "top": null,
            "visibility": null,
            "width": null
          }
        },
        "1ff3766a21404310b51fd471f3effd8a": {
          "model_module": "@jupyter-widgets/controls",
          "model_name": "DescriptionStyleModel",
          "model_module_version": "1.5.0",
          "state": {
            "_model_module": "@jupyter-widgets/controls",
            "_model_module_version": "1.5.0",
            "_model_name": "DescriptionStyleModel",
            "_view_count": null,
            "_view_module": "@jupyter-widgets/base",
            "_view_module_version": "1.2.0",
            "_view_name": "StyleView",
            "description_width": ""
          }
        },
        "d98c7bec6f2447babbee855b88af9d0f": {
          "model_module": "@jupyter-widgets/base",
          "model_name": "LayoutModel",
          "model_module_version": "1.2.0",
          "state": {
            "_model_module": "@jupyter-widgets/base",
            "_model_module_version": "1.2.0",
            "_model_name": "LayoutModel",
            "_view_count": null,
            "_view_module": "@jupyter-widgets/base",
            "_view_module_version": "1.2.0",
            "_view_name": "LayoutView",
            "align_content": null,
            "align_items": null,
            "align_self": null,
            "border": null,
            "bottom": null,
            "display": null,
            "flex": null,
            "flex_flow": null,
            "grid_area": null,
            "grid_auto_columns": null,
            "grid_auto_flow": null,
            "grid_auto_rows": null,
            "grid_column": null,
            "grid_gap": null,
            "grid_row": null,
            "grid_template_areas": null,
            "grid_template_columns": null,
            "grid_template_rows": null,
            "height": null,
            "justify_content": null,
            "justify_items": null,
            "left": null,
            "margin": null,
            "max_height": null,
            "max_width": null,
            "min_height": null,
            "min_width": null,
            "object_fit": null,
            "object_position": null,
            "order": null,
            "overflow": null,
            "overflow_x": null,
            "overflow_y": null,
            "padding": null,
            "right": null,
            "top": null,
            "visibility": null,
            "width": null
          }
        },
        "8a8d75c1d086488fbd680e9f56b7d1ec": {
          "model_module": "@jupyter-widgets/controls",
          "model_name": "ProgressStyleModel",
          "model_module_version": "1.5.0",
          "state": {
            "_model_module": "@jupyter-widgets/controls",
            "_model_module_version": "1.5.0",
            "_model_name": "ProgressStyleModel",
            "_view_count": null,
            "_view_module": "@jupyter-widgets/base",
            "_view_module_version": "1.2.0",
            "_view_name": "StyleView",
            "bar_color": null,
            "description_width": ""
          }
        },
        "6e08bf56b8794caeaa54b3cbb73077ae": {
          "model_module": "@jupyter-widgets/base",
          "model_name": "LayoutModel",
          "model_module_version": "1.2.0",
          "state": {
            "_model_module": "@jupyter-widgets/base",
            "_model_module_version": "1.2.0",
            "_model_name": "LayoutModel",
            "_view_count": null,
            "_view_module": "@jupyter-widgets/base",
            "_view_module_version": "1.2.0",
            "_view_name": "LayoutView",
            "align_content": null,
            "align_items": null,
            "align_self": null,
            "border": null,
            "bottom": null,
            "display": null,
            "flex": null,
            "flex_flow": null,
            "grid_area": null,
            "grid_auto_columns": null,
            "grid_auto_flow": null,
            "grid_auto_rows": null,
            "grid_column": null,
            "grid_gap": null,
            "grid_row": null,
            "grid_template_areas": null,
            "grid_template_columns": null,
            "grid_template_rows": null,
            "height": null,
            "justify_content": null,
            "justify_items": null,
            "left": null,
            "margin": null,
            "max_height": null,
            "max_width": null,
            "min_height": null,
            "min_width": null,
            "object_fit": null,
            "object_position": null,
            "order": null,
            "overflow": null,
            "overflow_x": null,
            "overflow_y": null,
            "padding": null,
            "right": null,
            "top": null,
            "visibility": null,
            "width": null
          }
        },
        "6071db0bc23a467eb6ec45194a486cf0": {
          "model_module": "@jupyter-widgets/controls",
          "model_name": "DescriptionStyleModel",
          "model_module_version": "1.5.0",
          "state": {
            "_model_module": "@jupyter-widgets/controls",
            "_model_module_version": "1.5.0",
            "_model_name": "DescriptionStyleModel",
            "_view_count": null,
            "_view_module": "@jupyter-widgets/base",
            "_view_module_version": "1.2.0",
            "_view_name": "StyleView",
            "description_width": ""
          }
        },
        "18d6d0594bb64575971ce7468a375a39": {
          "model_module": "@jupyter-widgets/controls",
          "model_name": "HBoxModel",
          "model_module_version": "1.5.0",
          "state": {
            "_dom_classes": [],
            "_model_module": "@jupyter-widgets/controls",
            "_model_module_version": "1.5.0",
            "_model_name": "HBoxModel",
            "_view_count": null,
            "_view_module": "@jupyter-widgets/controls",
            "_view_module_version": "1.5.0",
            "_view_name": "HBoxView",
            "box_style": "",
            "children": [
              "IPY_MODEL_2c273174eafe448d95e12233cd148b90",
              "IPY_MODEL_b0c20556838a4c0598bf7d61eabf403a",
              "IPY_MODEL_d81d223643f34c499adcc25bd634d2a9"
            ],
            "layout": "IPY_MODEL_c290129e3a894d3d8c4141d46850f9a8"
          }
        },
        "2c273174eafe448d95e12233cd148b90": {
          "model_module": "@jupyter-widgets/controls",
          "model_name": "HTMLModel",
          "model_module_version": "1.5.0",
          "state": {
            "_dom_classes": [],
            "_model_module": "@jupyter-widgets/controls",
            "_model_module_version": "1.5.0",
            "_model_name": "HTMLModel",
            "_view_count": null,
            "_view_module": "@jupyter-widgets/controls",
            "_view_module_version": "1.5.0",
            "_view_name": "HTMLView",
            "description": "",
            "description_tooltip": null,
            "layout": "IPY_MODEL_2c96fb1bcec14b91a12ef54f57d502d4",
            "placeholder": "​",
            "style": "IPY_MODEL_51289916ceaa4f1485d3179b2fd7620a",
            "value": "model.safetensors:  92%"
          }
        },
        "b0c20556838a4c0598bf7d61eabf403a": {
          "model_module": "@jupyter-widgets/controls",
          "model_name": "FloatProgressModel",
          "model_module_version": "1.5.0",
          "state": {
            "_dom_classes": [],
            "_model_module": "@jupyter-widgets/controls",
            "_model_module_version": "1.5.0",
            "_model_name": "FloatProgressModel",
            "_view_count": null,
            "_view_module": "@jupyter-widgets/controls",
            "_view_module_version": "1.5.0",
            "_view_name": "ProgressView",
            "bar_style": "success",
            "description": "",
            "description_tooltip": null,
            "layout": "IPY_MODEL_a82524dd551c4b129a91c3ae0fae2a9a",
            "max": 10672390984,
            "min": 0,
            "orientation": "horizontal",
            "style": "IPY_MODEL_3579226394804d87afe8cb1412e9b15b",
            "value": 10672390984
          }
        },
        "d81d223643f34c499adcc25bd634d2a9": {
          "model_module": "@jupyter-widgets/controls",
          "model_name": "HTMLModel",
          "model_module_version": "1.5.0",
          "state": {
            "_dom_classes": [],
            "_model_module": "@jupyter-widgets/controls",
            "_model_module_version": "1.5.0",
            "_model_name": "HTMLModel",
            "_view_count": null,
            "_view_module": "@jupyter-widgets/controls",
            "_view_module_version": "1.5.0",
            "_view_name": "HTMLView",
            "description": "",
            "description_tooltip": null,
            "layout": "IPY_MODEL_b44fd3b1fec348dc831da4ed26f695c2",
            "placeholder": "​",
            "style": "IPY_MODEL_3f939e8a11e84ae4bb625402ef07839f",
            "value": " 10.7G/10.7G [05:57&lt;00:00, 16.1MB/s]"
          }
        },
        "c290129e3a894d3d8c4141d46850f9a8": {
          "model_module": "@jupyter-widgets/base",
          "model_name": "LayoutModel",
          "model_module_version": "1.2.0",
          "state": {
            "_model_module": "@jupyter-widgets/base",
            "_model_module_version": "1.2.0",
            "_model_name": "LayoutModel",
            "_view_count": null,
            "_view_module": "@jupyter-widgets/base",
            "_view_module_version": "1.2.0",
            "_view_name": "LayoutView",
            "align_content": null,
            "align_items": null,
            "align_self": null,
            "border": null,
            "bottom": null,
            "display": null,
            "flex": null,
            "flex_flow": null,
            "grid_area": null,
            "grid_auto_columns": null,
            "grid_auto_flow": null,
            "grid_auto_rows": null,
            "grid_column": null,
            "grid_gap": null,
            "grid_row": null,
            "grid_template_areas": null,
            "grid_template_columns": null,
            "grid_template_rows": null,
            "height": null,
            "justify_content": null,
            "justify_items": null,
            "left": null,
            "margin": null,
            "max_height": null,
            "max_width": null,
            "min_height": null,
            "min_width": null,
            "object_fit": null,
            "object_position": null,
            "order": null,
            "overflow": null,
            "overflow_x": null,
            "overflow_y": null,
            "padding": null,
            "right": null,
            "top": null,
            "visibility": null,
            "width": null
          }
        },
        "2c96fb1bcec14b91a12ef54f57d502d4": {
          "model_module": "@jupyter-widgets/base",
          "model_name": "LayoutModel",
          "model_module_version": "1.2.0",
          "state": {
            "_model_module": "@jupyter-widgets/base",
            "_model_module_version": "1.2.0",
            "_model_name": "LayoutModel",
            "_view_count": null,
            "_view_module": "@jupyter-widgets/base",
            "_view_module_version": "1.2.0",
            "_view_name": "LayoutView",
            "align_content": null,
            "align_items": null,
            "align_self": null,
            "border": null,
            "bottom": null,
            "display": null,
            "flex": null,
            "flex_flow": null,
            "grid_area": null,
            "grid_auto_columns": null,
            "grid_auto_flow": null,
            "grid_auto_rows": null,
            "grid_column": null,
            "grid_gap": null,
            "grid_row": null,
            "grid_template_areas": null,
            "grid_template_columns": null,
            "grid_template_rows": null,
            "height": null,
            "justify_content": null,
            "justify_items": null,
            "left": null,
            "margin": null,
            "max_height": null,
            "max_width": null,
            "min_height": null,
            "min_width": null,
            "object_fit": null,
            "object_position": null,
            "order": null,
            "overflow": null,
            "overflow_x": null,
            "overflow_y": null,
            "padding": null,
            "right": null,
            "top": null,
            "visibility": null,
            "width": null
          }
        },
        "51289916ceaa4f1485d3179b2fd7620a": {
          "model_module": "@jupyter-widgets/controls",
          "model_name": "DescriptionStyleModel",
          "model_module_version": "1.5.0",
          "state": {
            "_model_module": "@jupyter-widgets/controls",
            "_model_module_version": "1.5.0",
            "_model_name": "DescriptionStyleModel",
            "_view_count": null,
            "_view_module": "@jupyter-widgets/base",
            "_view_module_version": "1.2.0",
            "_view_name": "StyleView",
            "description_width": ""
          }
        },
        "a82524dd551c4b129a91c3ae0fae2a9a": {
          "model_module": "@jupyter-widgets/base",
          "model_name": "LayoutModel",
          "model_module_version": "1.2.0",
          "state": {
            "_model_module": "@jupyter-widgets/base",
            "_model_module_version": "1.2.0",
            "_model_name": "LayoutModel",
            "_view_count": null,
            "_view_module": "@jupyter-widgets/base",
            "_view_module_version": "1.2.0",
            "_view_name": "LayoutView",
            "align_content": null,
            "align_items": null,
            "align_self": null,
            "border": null,
            "bottom": null,
            "display": null,
            "flex": null,
            "flex_flow": null,
            "grid_area": null,
            "grid_auto_columns": null,
            "grid_auto_flow": null,
            "grid_auto_rows": null,
            "grid_column": null,
            "grid_gap": null,
            "grid_row": null,
            "grid_template_areas": null,
            "grid_template_columns": null,
            "grid_template_rows": null,
            "height": null,
            "justify_content": null,
            "justify_items": null,
            "left": null,
            "margin": null,
            "max_height": null,
            "max_width": null,
            "min_height": null,
            "min_width": null,
            "object_fit": null,
            "object_position": null,
            "order": null,
            "overflow": null,
            "overflow_x": null,
            "overflow_y": null,
            "padding": null,
            "right": null,
            "top": null,
            "visibility": null,
            "width": null
          }
        },
        "3579226394804d87afe8cb1412e9b15b": {
          "model_module": "@jupyter-widgets/controls",
          "model_name": "ProgressStyleModel",
          "model_module_version": "1.5.0",
          "state": {
            "_model_module": "@jupyter-widgets/controls",
            "_model_module_version": "1.5.0",
            "_model_name": "ProgressStyleModel",
            "_view_count": null,
            "_view_module": "@jupyter-widgets/base",
            "_view_module_version": "1.2.0",
            "_view_name": "StyleView",
            "bar_color": null,
            "description_width": ""
          }
        },
        "b44fd3b1fec348dc831da4ed26f695c2": {
          "model_module": "@jupyter-widgets/base",
          "model_name": "LayoutModel",
          "model_module_version": "1.2.0",
          "state": {
            "_model_module": "@jupyter-widgets/base",
            "_model_module_version": "1.2.0",
            "_model_name": "LayoutModel",
            "_view_count": null,
            "_view_module": "@jupyter-widgets/base",
            "_view_module_version": "1.2.0",
            "_view_name": "LayoutView",
            "align_content": null,
            "align_items": null,
            "align_self": null,
            "border": null,
            "bottom": null,
            "display": null,
            "flex": null,
            "flex_flow": null,
            "grid_area": null,
            "grid_auto_columns": null,
            "grid_auto_flow": null,
            "grid_auto_rows": null,
            "grid_column": null,
            "grid_gap": null,
            "grid_row": null,
            "grid_template_areas": null,
            "grid_template_columns": null,
            "grid_template_rows": null,
            "height": null,
            "justify_content": null,
            "justify_items": null,
            "left": null,
            "margin": null,
            "max_height": null,
            "max_width": null,
            "min_height": null,
            "min_width": null,
            "object_fit": null,
            "object_position": null,
            "order": null,
            "overflow": null,
            "overflow_x": null,
            "overflow_y": null,
            "padding": null,
            "right": null,
            "top": null,
            "visibility": null,
            "width": null
          }
        },
        "3f939e8a11e84ae4bb625402ef07839f": {
          "model_module": "@jupyter-widgets/controls",
          "model_name": "DescriptionStyleModel",
          "model_module_version": "1.5.0",
          "state": {
            "_model_module": "@jupyter-widgets/controls",
            "_model_module_version": "1.5.0",
            "_model_name": "DescriptionStyleModel",
            "_view_count": null,
            "_view_module": "@jupyter-widgets/base",
            "_view_module_version": "1.2.0",
            "_view_name": "StyleView",
            "description_width": ""
          }
        }
      }
    }
  },
  "nbformat": 4,
  "nbformat_minor": 0
}