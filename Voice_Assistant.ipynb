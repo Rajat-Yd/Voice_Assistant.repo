{
  "nbformat": 4,
  "nbformat_minor": 0,
  "metadata": {
    "colab": {
      "private_outputs": true,
      "provenance": [],
      "authorship_tag": "ABX9TyM4b6ztFxlPKw90yyY9MHTv"
    },
    "kernelspec": {
      "name": "python3",
      "display_name": "Python 3"
    },
    "language_info": {
      "name": "python"
    }
  },
  "cells": [
    {
      "cell_type": "code",
      "execution_count": null,
      "metadata": {
        "id": "iob5o5M09vQo"
      },
      "outputs": [],
      "source": [
        "from transformers import pipeline\n",
        "import torch\n",
        "\n",
        "device = \"cuda:0\" if torch.cuda.is_available() else \"cpu\"\n",
        "classifier = pipeline(\n",
        "    \"audio-classification\", model=\"MIT/ast-finetuned-speech-commands-v2\", device=device\n",
        ")"
      ]
    },
    {
      "cell_type": "code",
      "source": [
        "classifier.model.config.id2label"
      ],
      "metadata": {
        "id": "LqAjizNN-Q_f"
      },
      "execution_count": null,
      "outputs": []
    },
    {
      "cell_type": "code",
      "source": [
        "classifier.model.config.id2label[27]"
      ],
      "metadata": {
        "id": "ffwERkT0-Yi0"
      },
      "execution_count": null,
      "outputs": []
    },
    {
      "cell_type": "code",
      "source": [
        "from transformers.pipelines.audio_utils import ffmpeg_microphone_live\n",
        "\n",
        "\n",
        "def launch_fn(\n",
        "    wake_word=\"marvin\",\n",
        "    prob_threshold=0.5,\n",
        "    chunk_length_s=2.0,\n",
        "    stream_chunk_s=0.25,\n",
        "    debug=False,\n",
        "):\n",
        "    if wake_word not in classifier.model.config.label2id.keys():\n",
        "        raise ValueError(\n",
        "            f\"Wake word {wake_word} not in set of valid class labels, pick a wake word in the set {classifier.model.config.label2id.keys()}.\"\n",
        "        )\n",
        "\n",
        "    sampling_rate = classifier.feature_extractor.sampling_rate\n",
        "\n",
        "    mic = ffmpeg_microphone_live(\n",
        "        sampling_rate=sampling_rate,\n",
        "        chunk_length_s=chunk_length_s,\n",
        "        stream_chunk_s=stream_chunk_s,\n",
        "    )\n",
        "\n",
        "    print(\"Listening for wake word...\")\n",
        "    for prediction in classifier(mic):\n",
        "        prediction = prediction[0]\n",
        "        if debug:\n",
        "            print(prediction)\n",
        "        if prediction[\"label\"] == wake_word:\n",
        "            if prediction[\"score\"] > prob_threshold:\n",
        "                return True"
      ],
      "metadata": {
        "id": "fenCMs6e-dB9"
      },
      "execution_count": null,
      "outputs": []
    },
    {
      "cell_type": "code",
      "source": [
        "launch_fn(debug=True)"
      ],
      "metadata": {
        "id": "GLSOhOoD-hp-"
      },
      "execution_count": null,
      "outputs": []
    },
    {
      "cell_type": "code",
      "source": [
        "transcriber = pipeline(\n",
        "    \"automatic-speech-recognition\", model=\"openai/whisper-base.en\", device=device\n",
        ")"
      ],
      "metadata": {
        "id": "Hfl7Xsv7-kx8"
      },
      "execution_count": null,
      "outputs": []
    },
    {
      "cell_type": "code",
      "source": [
        "import sys\n",
        "\n",
        "\n",
        "def transcribe(chunk_length_s=5.0, stream_chunk_s=1.0):\n",
        "    sampling_rate = transcriber.feature_extractor.sampling_rate\n",
        "\n",
        "    mic = ffmpeg_microphone_live(\n",
        "        sampling_rate=sampling_rate,\n",
        "        chunk_length_s=chunk_length_s,\n",
        "        stream_chunk_s=stream_chunk_s,\n",
        "    )\n",
        "\n",
        "    print(\"Start speaking...\")\n",
        "    for item in transcriber(mic, generate_kwargs={\"max_new_tokens\": 128}):\n",
        "        sys.stdout.write(\"\\033[K\")\n",
        "        print(item[\"text\"], end=\"\\r\")\n",
        "        if not item[\"partial\"][0]:\n",
        "          return item[\"text\"]\n",
        "          break\n",
        "    return None"
      ],
      "metadata": {
        "id": "IlmJPuFU_D1z"
      },
      "execution_count": null,
      "outputs": []
    },
    {
      "cell_type": "code",
      "source": [
        "transcribe(chunk_length_s=1.0, stream_chunk_s=0.5)"
      ],
      "metadata": {
        "id": "0jB6ydbz_HJ-"
      },
      "execution_count": null,
      "outputs": []
    }
  ]
}